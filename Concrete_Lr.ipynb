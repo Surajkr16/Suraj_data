{
  "nbformat": 4,
  "nbformat_minor": 0,
  "metadata": {
    "colab": {
      "name": "Concrete_Lr.ipynb",
      "provenance": [],
      "collapsed_sections": []
    },
    "kernelspec": {
      "name": "python3",
      "display_name": "Python 3"
    },
    "language_info": {
      "name": "python"
    }
  },
  "cells": [
    {
      "cell_type": "code",
      "metadata": {
        "id": "t_cc5heF6yRk"
      },
      "source": [
        "import numpy as np\n",
        "import pandas as pd\n",
        "from sklearn.linear_model import LinearRegression\n",
        "from sklearn.model_selection import train_test_split\n",
        "import matplotlib.pyplot as plt\n",
        "import seaborn as sb"
      ],
      "execution_count": null,
      "outputs": []
    },
    {
      "cell_type": "code",
      "metadata": {
        "id": "MW-h7M52777F"
      },
      "source": [
        "df=pd.read_csv('/content/drive/MyDrive/ML/concrete.csv')"
      ],
      "execution_count": null,
      "outputs": []
    },
    {
      "cell_type": "code",
      "metadata": {
        "id": "YOGfXEok95Uf"
      },
      "source": [
        "data=pd.DataFrame(data=df)"
      ],
      "execution_count": null,
      "outputs": []
    },
    {
      "cell_type": "code",
      "metadata": {
        "id": "HySUVApz771s",
        "colab": {
          "base_uri": "https://localhost:8080/",
          "height": 204
        },
        "outputId": "26980d70-f659-4603-8272-31c2a1c61a44"
      },
      "source": [
        "data.head()"
      ],
      "execution_count": null,
      "outputs": [
        {
          "output_type": "execute_result",
          "data": {
            "text/html": [
              "<div>\n",
              "<style scoped>\n",
              "    .dataframe tbody tr th:only-of-type {\n",
              "        vertical-align: middle;\n",
              "    }\n",
              "\n",
              "    .dataframe tbody tr th {\n",
              "        vertical-align: top;\n",
              "    }\n",
              "\n",
              "    .dataframe thead th {\n",
              "        text-align: right;\n",
              "    }\n",
              "</style>\n",
              "<table border=\"1\" class=\"dataframe\">\n",
              "  <thead>\n",
              "    <tr style=\"text-align: right;\">\n",
              "      <th></th>\n",
              "      <th>Cement</th>\n",
              "      <th>Blast</th>\n",
              "      <th>Fly Ash</th>\n",
              "      <th>Water</th>\n",
              "      <th>Superplasticizer</th>\n",
              "      <th>CA</th>\n",
              "      <th>FA</th>\n",
              "      <th>Age</th>\n",
              "      <th>CMS</th>\n",
              "    </tr>\n",
              "  </thead>\n",
              "  <tbody>\n",
              "    <tr>\n",
              "      <th>0</th>\n",
              "      <td>540.0</td>\n",
              "      <td>0.0</td>\n",
              "      <td>0.0</td>\n",
              "      <td>162.0</td>\n",
              "      <td>2.5</td>\n",
              "      <td>1040.0</td>\n",
              "      <td>676.0</td>\n",
              "      <td>28</td>\n",
              "      <td>79.99</td>\n",
              "    </tr>\n",
              "    <tr>\n",
              "      <th>1</th>\n",
              "      <td>540.0</td>\n",
              "      <td>0.0</td>\n",
              "      <td>0.0</td>\n",
              "      <td>162.0</td>\n",
              "      <td>2.5</td>\n",
              "      <td>1055.0</td>\n",
              "      <td>676.0</td>\n",
              "      <td>28</td>\n",
              "      <td>61.89</td>\n",
              "    </tr>\n",
              "    <tr>\n",
              "      <th>2</th>\n",
              "      <td>332.5</td>\n",
              "      <td>142.5</td>\n",
              "      <td>0.0</td>\n",
              "      <td>228.0</td>\n",
              "      <td>0.0</td>\n",
              "      <td>932.0</td>\n",
              "      <td>594.0</td>\n",
              "      <td>270</td>\n",
              "      <td>40.27</td>\n",
              "    </tr>\n",
              "    <tr>\n",
              "      <th>3</th>\n",
              "      <td>332.5</td>\n",
              "      <td>142.5</td>\n",
              "      <td>0.0</td>\n",
              "      <td>228.0</td>\n",
              "      <td>0.0</td>\n",
              "      <td>932.0</td>\n",
              "      <td>594.0</td>\n",
              "      <td>365</td>\n",
              "      <td>41.05</td>\n",
              "    </tr>\n",
              "    <tr>\n",
              "      <th>4</th>\n",
              "      <td>198.6</td>\n",
              "      <td>132.4</td>\n",
              "      <td>0.0</td>\n",
              "      <td>192.0</td>\n",
              "      <td>0.0</td>\n",
              "      <td>978.4</td>\n",
              "      <td>825.5</td>\n",
              "      <td>360</td>\n",
              "      <td>44.30</td>\n",
              "    </tr>\n",
              "  </tbody>\n",
              "</table>\n",
              "</div>"
            ],
            "text/plain": [
              "   Cement  Blast  Fly Ash  Water  Superplasticizer      CA     FA  Age    CMS\n",
              "0   540.0    0.0      0.0  162.0               2.5  1040.0  676.0   28  79.99\n",
              "1   540.0    0.0      0.0  162.0               2.5  1055.0  676.0   28  61.89\n",
              "2   332.5  142.5      0.0  228.0               0.0   932.0  594.0  270  40.27\n",
              "3   332.5  142.5      0.0  228.0               0.0   932.0  594.0  365  41.05\n",
              "4   198.6  132.4      0.0  192.0               0.0   978.4  825.5  360  44.30"
            ]
          },
          "metadata": {
            "tags": []
          },
          "execution_count": 4
        }
      ]
    },
    {
      "cell_type": "code",
      "metadata": {
        "id": "ZoX4Rfe177zU",
        "colab": {
          "base_uri": "https://localhost:8080/"
        },
        "outputId": "171d3610-59dc-4226-a93f-0e3cedefbd7c"
      },
      "source": [
        "data.shape"
      ],
      "execution_count": null,
      "outputs": [
        {
          "output_type": "execute_result",
          "data": {
            "text/plain": [
              "(1030, 9)"
            ]
          },
          "metadata": {
            "tags": []
          },
          "execution_count": 14
        }
      ]
    },
    {
      "cell_type": "code",
      "metadata": {
        "id": "Y6qg5UNa77yC",
        "colab": {
          "base_uri": "https://localhost:8080/"
        },
        "outputId": "eac8245e-6f37-4e31-9af6-e23721921b0e"
      },
      "source": [
        "data.dtypes"
      ],
      "execution_count": null,
      "outputs": [
        {
          "output_type": "execute_result",
          "data": {
            "text/plain": [
              "Cement              float64\n",
              "Blast               float64\n",
              "Fly Ash             float64\n",
              "Water               float64\n",
              "Superplasticizer    float64\n",
              "CA                  float64\n",
              "FA                  float64\n",
              "Age                   int64\n",
              "CMS                 float64\n",
              "dtype: object"
            ]
          },
          "metadata": {
            "tags": []
          },
          "execution_count": 16
        }
      ]
    },
    {
      "cell_type": "code",
      "metadata": {
        "id": "f7p4aGft77DV",
        "colab": {
          "base_uri": "https://localhost:8080/"
        },
        "outputId": "23d9ac05-4bc3-4b18-f2a5-cb41526925cb"
      },
      "source": [
        "data.info"
      ],
      "execution_count": null,
      "outputs": [
        {
          "output_type": "execute_result",
          "data": {
            "text/plain": [
              "<bound method DataFrame.info of       Cement  Blast  Fly Ash  Water  ...      CA     FA  Age    CMS\n",
              "0      540.0    0.0      0.0  162.0  ...  1040.0  676.0   28  79.99\n",
              "1      540.0    0.0      0.0  162.0  ...  1055.0  676.0   28  61.89\n",
              "2      332.5  142.5      0.0  228.0  ...   932.0  594.0  270  40.27\n",
              "3      332.5  142.5      0.0  228.0  ...   932.0  594.0  365  41.05\n",
              "4      198.6  132.4      0.0  192.0  ...   978.4  825.5  360  44.30\n",
              "...      ...    ...      ...    ...  ...     ...    ...  ...    ...\n",
              "1025   276.4  116.0     90.3  179.6  ...   870.1  768.3   28  44.28\n",
              "1026   322.2    0.0    115.6  196.0  ...   817.9  813.4   28  31.18\n",
              "1027   148.5  139.4    108.6  192.7  ...   892.4  780.0   28  23.70\n",
              "1028   159.1  186.7      0.0  175.6  ...   989.6  788.9   28  32.77\n",
              "1029   260.9  100.5     78.3  200.6  ...   864.5  761.5   28  32.40\n",
              "\n",
              "[1030 rows x 9 columns]>"
            ]
          },
          "metadata": {
            "tags": []
          },
          "execution_count": 17
        }
      ]
    },
    {
      "cell_type": "code",
      "metadata": {
        "colab": {
          "base_uri": "https://localhost:8080/"
        },
        "id": "yDrHhUcI-xJW",
        "outputId": "0e6e448a-3d59-43fb-9f6f-b6335ab1f825"
      },
      "source": [
        "data.describe"
      ],
      "execution_count": null,
      "outputs": [
        {
          "output_type": "execute_result",
          "data": {
            "text/plain": [
              "<bound method NDFrame.describe of       Cement  Blast  Fly Ash  Water  ...      CA     FA  Age    CMS\n",
              "0      540.0    0.0      0.0  162.0  ...  1040.0  676.0   28  79.99\n",
              "1      540.0    0.0      0.0  162.0  ...  1055.0  676.0   28  61.89\n",
              "2      332.5  142.5      0.0  228.0  ...   932.0  594.0  270  40.27\n",
              "3      332.5  142.5      0.0  228.0  ...   932.0  594.0  365  41.05\n",
              "4      198.6  132.4      0.0  192.0  ...   978.4  825.5  360  44.30\n",
              "...      ...    ...      ...    ...  ...     ...    ...  ...    ...\n",
              "1025   276.4  116.0     90.3  179.6  ...   870.1  768.3   28  44.28\n",
              "1026   322.2    0.0    115.6  196.0  ...   817.9  813.4   28  31.18\n",
              "1027   148.5  139.4    108.6  192.7  ...   892.4  780.0   28  23.70\n",
              "1028   159.1  186.7      0.0  175.6  ...   989.6  788.9   28  32.77\n",
              "1029   260.9  100.5     78.3  200.6  ...   864.5  761.5   28  32.40\n",
              "\n",
              "[1030 rows x 9 columns]>"
            ]
          },
          "metadata": {
            "tags": []
          },
          "execution_count": 18
        }
      ]
    },
    {
      "cell_type": "code",
      "metadata": {
        "colab": {
          "base_uri": "https://localhost:8080/"
        },
        "id": "0QOzOvEU-xGu",
        "outputId": "df40bd2d-956e-4875-d5a1-494d8f7dfa6f"
      },
      "source": [
        "data.columns"
      ],
      "execution_count": null,
      "outputs": [
        {
          "output_type": "execute_result",
          "data": {
            "text/plain": [
              "Index(['Cement', 'Blast', 'Fly Ash', 'Water', 'Superplasticizer', 'CA', 'FA',\n",
              "       'Age', 'CMS'],\n",
              "      dtype='object')"
            ]
          },
          "metadata": {
            "tags": []
          },
          "execution_count": 19
        }
      ]
    },
    {
      "cell_type": "code",
      "metadata": {
        "colab": {
          "base_uri": "https://localhost:8080/",
          "height": 282
        },
        "id": "q_K9R5KS-xEj",
        "outputId": "063ccd15-3eb0-494a-9ad8-ee827e6b80bf"
      },
      "source": [
        "data['Age'].plot.box()"
      ],
      "execution_count": null,
      "outputs": [
        {
          "output_type": "execute_result",
          "data": {
            "text/plain": [
              "<matplotlib.axes._subplots.AxesSubplot at 0x7fad6f9cba10>"
            ]
          },
          "metadata": {
            "tags": []
          },
          "execution_count": 20
        },
        {
          "output_type": "display_data",
          "data": {
            "image/png": "[encoded data removed]",
            "text/plain": [
              "<Figure size 432x288 with 1 Axes>"
            ]
          },
          "metadata": {
            "tags": [],
            "needs_background": "light"
          }
        }
      ]
    },
    {
      "cell_type": "code",
      "metadata": {
        "colab": {
          "base_uri": "https://localhost:8080/",
          "height": 437
        },
        "id": "3r_KZwGE-xDL",
        "outputId": "5c430e3c-9ea7-4614-a0b5-ad3ca8ec6a98"
      },
      "source": [
        "data.plot(kind='box',subplots=True,layout=(2,5))"
      ],
      "execution_count": null,
      "outputs": [
        {
          "output_type": "execute_result",
          "data": {
            "text/plain": [
              "Cement                 AxesSubplot(0.125,0.536818;0.133621x0.343182)\n",
              "Blast               AxesSubplot(0.285345,0.536818;0.133621x0.343182)\n",
              "Fly Ash              AxesSubplot(0.44569,0.536818;0.133621x0.343182)\n",
              "Water               AxesSubplot(0.606034,0.536818;0.133621x0.343182)\n",
              "Superplasticizer    AxesSubplot(0.766379,0.536818;0.133621x0.343182)\n",
              "CA                        AxesSubplot(0.125,0.125;0.133621x0.343182)\n",
              "FA                     AxesSubplot(0.285345,0.125;0.133621x0.343182)\n",
              "Age                     AxesSubplot(0.44569,0.125;0.133621x0.343182)\n",
              "CMS                    AxesSubplot(0.606034,0.125;0.133621x0.343182)\n",
              "dtype: object"
            ]
          },
          "metadata": {
            "tags": []
          },
          "execution_count": 23
        },
        {
          "output_type": "display_data",
          "data": {
            "image/png": "[encoded data removed]",
            "text/plain": [
              "<Figure size 432x288 with 10 Axes>"
            ]
          },
          "metadata": {
            "tags": [],
            "needs_background": "light"
          }
        }
      ]
    },
    {
      "cell_type": "code",
      "metadata": {
        "colab": {
          "base_uri": "https://localhost:8080/",
          "height": 356
        },
        "id": "ajH5jNHC-xAv",
        "outputId": "f96a9fc4-6eb3-4b22-8d1f-dca77dc1bfb8"
      },
      "source": [
        "sb.heatmap(data.isnull())"
      ],
      "execution_count": null,
      "outputs": [
        {
          "output_type": "execute_result",
          "data": {
            "text/plain": [
              "<matplotlib.axes._subplots.AxesSubplot at 0x7fad6ef77e10>"
            ]
          },
          "metadata": {
            "tags": []
          },
          "execution_count": 25
        },
        {
          "output_type": "display_data",
          "data": {
            "image/png": "[encoded data removed]",
            "text/plain": [
              "<Figure size 432x288 with 2 Axes>"
            ]
          },
          "metadata": {
            "tags": [],
            "needs_background": "light"
          }
        }
      ]
    },
    {
      "cell_type": "code",
      "metadata": {
        "colab": {
          "base_uri": "https://localhost:8080/",
          "height": 356
        },
        "id": "1XLvbIGm-w_g",
        "outputId": "902bc922-39a2-4996-847c-7a9e1521baa4"
      },
      "source": [
        "sb.heatmap(data.corr(),annot=True)"
      ],
      "execution_count": null,
      "outputs": [
        {
          "output_type": "execute_result",
          "data": {
            "text/plain": [
              "<matplotlib.axes._subplots.AxesSubplot at 0x7fad6ef7cc10>"
            ]
          },
          "metadata": {
            "tags": []
          },
          "execution_count": 26
        },
        {
          "output_type": "display_data",
          "data": {
            "image/png": "[encoded data removed]",
            "text/plain": [
              "<Figure size 432x288 with 2 Axes>"
            ]
          },
          "metadata": {
            "tags": [],
            "needs_background": "light"
          }
        }
      ]
    },
    {
      "cell_type": "code",
      "metadata": {
        "colab": {
          "base_uri": "https://localhost:8080/",
          "height": 282
        },
        "id": "3n_-a5q8-w9X",
        "outputId": "4b3e031b-587b-4b60-c090-9c7af6853e67"
      },
      "source": [
        "data['Age'].plot.hist()"
      ],
      "execution_count": null,
      "outputs": [
        {
          "output_type": "execute_result",
          "data": {
            "text/plain": [
              "<matplotlib.axes._subplots.AxesSubplot at 0x7fad664cde10>"
            ]
          },
          "metadata": {
            "tags": []
          },
          "execution_count": 28
        },
        {
          "output_type": "display_data",
          "data": {
            "image/png": "[encoded data removed]",
            "text/plain": [
              "<Figure size 432x288 with 1 Axes>"
            ]
          },
          "metadata": {
            "tags": [],
            "needs_background": "light"
          }
        }
      ]
    },
    {
      "cell_type": "code",
      "metadata": {
        "id": "1ojOtqHE-w8J"
      },
      "source": [
        "import numpy as np\n",
        "data['Age']=np.log(data['Age'])"
      ],
      "execution_count": null,
      "outputs": []
    },
    {
      "cell_type": "code",
      "metadata": {
        "colab": {
          "base_uri": "https://localhost:8080/",
          "height": 282
        },
        "id": "qTQ3rnLT-w5y",
        "outputId": "0297e39f-3353-45a1-ccb4-e26cd32379c0"
      },
      "source": [
        "data['Age'].plot.hist()"
      ],
      "execution_count": null,
      "outputs": [
        {
          "output_type": "execute_result",
          "data": {
            "text/plain": [
              "<matplotlib.axes._subplots.AxesSubplot at 0x7fad6f315b90>"
            ]
          },
          "metadata": {
            "tags": []
          },
          "execution_count": 30
        },
        {
          "output_type": "display_data",
          "data": {
            "image/png": "[encoded data removed]",
            "text/plain": [
              "<Figure size 432x288 with 1 Axes>"
            ]
          },
          "metadata": {
            "tags": [],
            "needs_background": "light"
          }
        }
      ]
    },
    {
      "cell_type": "code",
      "metadata": {
        "colab": {
          "base_uri": "https://localhost:8080/",
          "height": 350
        },
        "id": "II9Q-Wal-w4n",
        "outputId": "47f5a25d-e3d5-4370-f76c-61aa76a1b79f"
      },
      "source": [
        "sb.distplot(data['Age'])"
      ],
      "execution_count": null,
      "outputs": [
        {
          "output_type": "stream",
          "text": [
            "/usr/local/lib/python3.7/dist-packages/seaborn/distributions.py:2557: FutureWarning: `distplot` is a deprecated function and will be removed in a future version. Please adapt your code to use either `displot` (a figure-level function with similar flexibility) or `histplot` (an axes-level function for histograms).\n",
            "  warnings.warn(msg, FutureWarning)\n"
          ],
          "name": "stderr"
        },
        {
          "output_type": "execute_result",
          "data": {
            "text/plain": [
              "<matplotlib.axes._subplots.AxesSubplot at 0x7fad6620e590>"
            ]
          },
          "metadata": {
            "tags": []
          },
          "execution_count": 31
        },
        {
          "output_type": "display_data",
          "data": {
            "image/png": "[encoded data removed]",
            "text/plain": [
              "<Figure size 432x288 with 1 Axes>"
            ]
          },
          "metadata": {
            "tags": [],
            "needs_background": "light"
          }
        }
      ]
    },
    {
      "cell_type": "code",
      "metadata": {
        "colab": {
          "base_uri": "https://localhost:8080/",
          "height": 1000
        },
        "id": "PEGhuxVm-w2v",
        "outputId": "8adb55b3-2da2-4a6c-a056-21fd855316e3"
      },
      "source": [
        "for i in data.columns:\n",
        "  plt.figure()\n",
        "  sb.distplot(data[i])"
      ],
      "execution_count": null,
      "outputs": [
        {
          "output_type": "stream",
          "text": [
            "/usr/local/lib/python3.7/dist-packages/seaborn/distributions.py:2557: FutureWarning: `distplot` is a deprecated function and will be removed in a future version. Please adapt your code to use either `displot` (a figure-level function with similar flexibility) or `histplot` (an axes-level function for histograms).\n",
            "  warnings.warn(msg, FutureWarning)\n",
            "/usr/local/lib/python3.7/dist-packages/seaborn/distributions.py:2557: FutureWarning: `distplot` is a deprecated function and will be removed in a future version. Please adapt your code to use either `displot` (a figure-level function with similar flexibility) or `histplot` (an axes-level function for histograms).\n",
            "  warnings.warn(msg, FutureWarning)\n",
            "/usr/local/lib/python3.7/dist-packages/seaborn/distributions.py:2557: FutureWarning: `distplot` is a deprecated function and will be removed in a future version. Please adapt your code to use either `displot` (a figure-level function with similar flexibility) or `histplot` (an axes-level function for histograms).\n",
            "  warnings.warn(msg, FutureWarning)\n",
            "/usr/local/lib/python3.7/dist-packages/seaborn/distributions.py:2557: FutureWarning: `distplot` is a deprecated function and will be removed in a future version. Please adapt your code to use either `displot` (a figure-level function with similar flexibility) or `histplot` (an axes-level function for histograms).\n",
            "  warnings.warn(msg, FutureWarning)\n",
            "/usr/local/lib/python3.7/dist-packages/seaborn/distributions.py:2557: FutureWarning: `distplot` is a deprecated function and will be removed in a future version. Please adapt your code to use either `displot` (a figure-level function with similar flexibility) or `histplot` (an axes-level function for histograms).\n",
            "  warnings.warn(msg, FutureWarning)\n",
            "/usr/local/lib/python3.7/dist-packages/seaborn/distributions.py:2557: FutureWarning: `distplot` is a deprecated function and will be removed in a future version. Please adapt your code to use either `displot` (a figure-level function with similar flexibility) or `histplot` (an axes-level function for histograms).\n",
            "  warnings.warn(msg, FutureWarning)\n",
            "/usr/local/lib/python3.7/dist-packages/seaborn/distributions.py:2557: FutureWarning: `distplot` is a deprecated function and will be removed in a future version. Please adapt your code to use either `displot` (a figure-level function with similar flexibility) or `histplot` (an axes-level function for histograms).\n",
            "  warnings.warn(msg, FutureWarning)\n",
            "/usr/local/lib/python3.7/dist-packages/seaborn/distributions.py:2557: FutureWarning: `distplot` is a deprecated function and will be removed in a future version. Please adapt your code to use either `displot` (a figure-level function with similar flexibility) or `histplot` (an axes-level function for histograms).\n",
            "  warnings.warn(msg, FutureWarning)\n",
            "/usr/local/lib/python3.7/dist-packages/seaborn/distributions.py:2557: FutureWarning: `distplot` is a deprecated function and will be removed in a future version. Please adapt your code to use either `displot` (a figure-level function with similar flexibility) or `histplot` (an axes-level function for histograms).\n",
            "  warnings.warn(msg, FutureWarning)\n"
          ],
          "name": "stderr"
        },
        {
          "output_type": "display_data",
          "data": {
            "image/png": "[encoded data removed]",
            "text/plain": [
              "<Figure size 432x288 with 1 Axes>"
            ]
          },
          "metadata": {
            "tags": [],
            "needs_background": "light"
          }
        },
        {
          "output_type": "display_data",
          "data": {
            "image/png": "[encoded data removed]",
            "text/plain": [
              "<Figure size 432x288 with 1 Axes>"
            ]
          },
          "metadata": {
            "tags": [],
            "needs_background": "light"
          }
        },
        {
          "output_type": "display_data",
          "data": {
            "image/png": "[encoded data removed]",
            "text/plain": [
              "<Figure size 432x288 with 1 Axes>"
            ]
          },
          "metadata": {
            "tags": [],
            "needs_background": "light"
          }
        },
        {
          "output_type": "display_data",
          "data": {
            "image/png": "[encoded data removed]",
            "text/plain": [
              "<Figure size 432x288 with 1 Axes>"
            ]
          },
          "metadata": {
            "tags": [],
            "needs_background": "light"
          }
        },
        {
          "output_type": "display_data",
          "data": {
            "image/png": "[encoded data removed]",
            "text/plain": [
              "<Figure size 432x288 with 1 Axes>"
            ]
          },
          "metadata": {
            "tags": [],
            "needs_background": "light"
          }
        },
        {
          "output_type": "display_data",
          "data": {
            "image/png": "[encoded data removed]",
            "text/plain": [
              "<Figure size 432x288 with 1 Axes>"
            ]
          },
          "metadata": {
            "tags": [],
            "needs_background": "light"
          }
        },
        {
          "output_type": "display_data",
          "data": {
            "image/png": "[encoded data removed]",
            "text/plain": [
              "<Figure size 432x288 with 1 Axes>"
            ]
          },
          "metadata": {
            "tags": [],
            "needs_background": "light"
          }
        },
        {
          "output_type": "display_data",
          "data": {
            "image/png": "[encoded data removed]",
            "text/plain": [
              "<Figure size 432x288 with 1 Axes>"
            ]
          },
          "metadata": {
            "tags": [],
            "needs_background": "light"
          }
        },
        {
          "output_type": "display_data",
          "data": {
            "image/png": "[encoded data removed]",
            "text/plain": [
              "<Figure size 432x288 with 1 Axes>"
            ]
          },
          "metadata": {
            "tags": [],
            "needs_background": "light"
          }
        }
      ]
    },
    {
      "cell_type": "code",
      "metadata": {
        "colab": {
          "base_uri": "https://localhost:8080/"
        },
        "id": "8LlzuEMi-w1B",
        "outputId": "77a26399-534e-46d9-8334-5df631cce882"
      },
      "source": [
        "y=data.iloc[:,-1]\n",
        "y.head()"
      ],
      "execution_count": null,
      "outputs": [
        {
          "output_type": "execute_result",
          "data": {
            "text/plain": [
              "0    79.99\n",
              "1    61.89\n",
              "2    40.27\n",
              "3    41.05\n",
              "4    44.30\n",
              "Name: CMS, dtype: float64"
            ]
          },
          "metadata": {
            "tags": []
          },
          "execution_count": 36
        }
      ]
    },
    {
      "cell_type": "code",
      "metadata": {
        "colab": {
          "base_uri": "https://localhost:8080/"
        },
        "id": "HB-NBUpL-wzH",
        "outputId": "c5037362-76a4-4845-f67e-0d3d0e1fb9e3"
      },
      "source": [
        "y.shape"
      ],
      "execution_count": null,
      "outputs": [
        {
          "output_type": "execute_result",
          "data": {
            "text/plain": [
              "(1030,)"
            ]
          },
          "metadata": {
            "tags": []
          },
          "execution_count": 37
        }
      ]
    },
    {
      "cell_type": "code",
      "metadata": {
        "colab": {
          "base_uri": "https://localhost:8080/",
          "height": 419
        },
        "id": "Zxc0ktDU-wxa",
        "outputId": "3d7315df-9241-4df7-a063-db952919e937"
      },
      "source": [
        "x=data.iloc[:,0:8]\n",
        "x"
      ],
      "execution_count": null,
      "outputs": [
        {
          "output_type": "execute_result",
          "data": {
            "text/html": [
              "<div>\n",
              "<style scoped>\n",
              "    .dataframe tbody tr th:only-of-type {\n",
              "        vertical-align: middle;\n",
              "    }\n",
              "\n",
              "    .dataframe tbody tr th {\n",
              "        vertical-align: top;\n",
              "    }\n",
              "\n",
              "    .dataframe thead th {\n",
              "        text-align: right;\n",
              "    }\n",
              "</style>\n",
              "<table border=\"1\" class=\"dataframe\">\n",
              "  <thead>\n",
              "    <tr style=\"text-align: right;\">\n",
              "      <th></th>\n",
              "      <th>Cement</th>\n",
              "      <th>Blast</th>\n",
              "      <th>Fly Ash</th>\n",
              "      <th>Water</th>\n",
              "      <th>Superplasticizer</th>\n",
              "      <th>CA</th>\n",
              "      <th>FA</th>\n",
              "      <th>Age</th>\n",
              "    </tr>\n",
              "  </thead>\n",
              "  <tbody>\n",
              "    <tr>\n",
              "      <th>0</th>\n",
              "      <td>540.0</td>\n",
              "      <td>0.0</td>\n",
              "      <td>0.0</td>\n",
              "      <td>162.0</td>\n",
              "      <td>2.5</td>\n",
              "      <td>1040.0</td>\n",
              "      <td>676.0</td>\n",
              "      <td>3.332205</td>\n",
              "    </tr>\n",
              "    <tr>\n",
              "      <th>1</th>\n",
              "      <td>540.0</td>\n",
              "      <td>0.0</td>\n",
              "      <td>0.0</td>\n",
              "      <td>162.0</td>\n",
              "      <td>2.5</td>\n",
              "      <td>1055.0</td>\n",
              "      <td>676.0</td>\n",
              "      <td>3.332205</td>\n",
              "    </tr>\n",
              "    <tr>\n",
              "      <th>2</th>\n",
              "      <td>332.5</td>\n",
              "      <td>142.5</td>\n",
              "      <td>0.0</td>\n",
              "      <td>228.0</td>\n",
              "      <td>0.0</td>\n",
              "      <td>932.0</td>\n",
              "      <td>594.0</td>\n",
              "      <td>5.598422</td>\n",
              "    </tr>\n",
              "    <tr>\n",
              "      <th>3</th>\n",
              "      <td>332.5</td>\n",
              "      <td>142.5</td>\n",
              "      <td>0.0</td>\n",
              "      <td>228.0</td>\n",
              "      <td>0.0</td>\n",
              "      <td>932.0</td>\n",
              "      <td>594.0</td>\n",
              "      <td>5.899897</td>\n",
              "    </tr>\n",
              "    <tr>\n",
              "      <th>4</th>\n",
              "      <td>198.6</td>\n",
              "      <td>132.4</td>\n",
              "      <td>0.0</td>\n",
              "      <td>192.0</td>\n",
              "      <td>0.0</td>\n",
              "      <td>978.4</td>\n",
              "      <td>825.5</td>\n",
              "      <td>5.886104</td>\n",
              "    </tr>\n",
              "    <tr>\n",
              "      <th>...</th>\n",
              "      <td>...</td>\n",
              "      <td>...</td>\n",
              "      <td>...</td>\n",
              "      <td>...</td>\n",
              "      <td>...</td>\n",
              "      <td>...</td>\n",
              "      <td>...</td>\n",
              "      <td>...</td>\n",
              "    </tr>\n",
              "    <tr>\n",
              "      <th>1025</th>\n",
              "      <td>276.4</td>\n",
              "      <td>116.0</td>\n",
              "      <td>90.3</td>\n",
              "      <td>179.6</td>\n",
              "      <td>8.9</td>\n",
              "      <td>870.1</td>\n",
              "      <td>768.3</td>\n",
              "      <td>3.332205</td>\n",
              "    </tr>\n",
              "    <tr>\n",
              "      <th>1026</th>\n",
              "      <td>322.2</td>\n",
              "      <td>0.0</td>\n",
              "      <td>115.6</td>\n",
              "      <td>196.0</td>\n",
              "      <td>10.4</td>\n",
              "      <td>817.9</td>\n",
              "      <td>813.4</td>\n",
              "      <td>3.332205</td>\n",
              "    </tr>\n",
              "    <tr>\n",
              "      <th>1027</th>\n",
              "      <td>148.5</td>\n",
              "      <td>139.4</td>\n",
              "      <td>108.6</td>\n",
              "      <td>192.7</td>\n",
              "      <td>6.1</td>\n",
              "      <td>892.4</td>\n",
              "      <td>780.0</td>\n",
              "      <td>3.332205</td>\n",
              "    </tr>\n",
              "    <tr>\n",
              "      <th>1028</th>\n",
              "      <td>159.1</td>\n",
              "      <td>186.7</td>\n",
              "      <td>0.0</td>\n",
              "      <td>175.6</td>\n",
              "      <td>11.3</td>\n",
              "      <td>989.6</td>\n",
              "      <td>788.9</td>\n",
              "      <td>3.332205</td>\n",
              "    </tr>\n",
              "    <tr>\n",
              "      <th>1029</th>\n",
              "      <td>260.9</td>\n",
              "      <td>100.5</td>\n",
              "      <td>78.3</td>\n",
              "      <td>200.6</td>\n",
              "      <td>8.6</td>\n",
              "      <td>864.5</td>\n",
              "      <td>761.5</td>\n",
              "      <td>3.332205</td>\n",
              "    </tr>\n",
              "  </tbody>\n",
              "</table>\n",
              "<p>1030 rows × 8 columns</p>\n",
              "</div>"
            ],
            "text/plain": [
              "      Cement  Blast  Fly Ash  Water  Superplasticizer      CA     FA       Age\n",
              "0      540.0    0.0      0.0  162.0               2.5  1040.0  676.0  3.332205\n",
              "1      540.0    0.0      0.0  162.0               2.5  1055.0  676.0  3.332205\n",
              "2      332.5  142.5      0.0  228.0               0.0   932.0  594.0  5.598422\n",
              "3      332.5  142.5      0.0  228.0               0.0   932.0  594.0  5.899897\n",
              "4      198.6  132.4      0.0  192.0               0.0   978.4  825.5  5.886104\n",
              "...      ...    ...      ...    ...               ...     ...    ...       ...\n",
              "1025   276.4  116.0     90.3  179.6               8.9   870.1  768.3  3.332205\n",
              "1026   322.2    0.0    115.6  196.0              10.4   817.9  813.4  3.332205\n",
              "1027   148.5  139.4    108.6  192.7               6.1   892.4  780.0  3.332205\n",
              "1028   159.1  186.7      0.0  175.6              11.3   989.6  788.9  3.332205\n",
              "1029   260.9  100.5     78.3  200.6               8.6   864.5  761.5  3.332205\n",
              "\n",
              "[1030 rows x 8 columns]"
            ]
          },
          "metadata": {
            "tags": []
          },
          "execution_count": 70
        }
      ]
    },
    {
      "cell_type": "code",
      "metadata": {
        "colab": {
          "base_uri": "https://localhost:8080/"
        },
        "id": "94V9brOc-wvW",
        "outputId": "8229973d-ec87-4c14-ec55-800ccc0e9f07"
      },
      "source": [
        "x.shape"
      ],
      "execution_count": null,
      "outputs": [
        {
          "output_type": "execute_result",
          "data": {
            "text/plain": [
              "(1030, 8)"
            ]
          },
          "metadata": {
            "tags": []
          },
          "execution_count": 71
        }
      ]
    },
    {
      "cell_type": "code",
      "metadata": {
        "id": "b4KfsdDM-wt_"
      },
      "source": [
        "x_train,x_test,y_train,y_test=train_test_split(x,y,test_size=.2,random_state=42)"
      ],
      "execution_count": null,
      "outputs": []
    },
    {
      "cell_type": "code",
      "metadata": {
        "colab": {
          "base_uri": "https://localhost:8080/"
        },
        "id": "HjevUyxyLFOP",
        "outputId": "1dc03fd7-576c-4b15-aa92-7193e3fdad9c"
      },
      "source": [
        "x_train.shape"
      ],
      "execution_count": null,
      "outputs": [
        {
          "output_type": "execute_result",
          "data": {
            "text/plain": [
              "(824, 8)"
            ]
          },
          "metadata": {
            "tags": []
          },
          "execution_count": 73
        }
      ]
    },
    {
      "cell_type": "code",
      "metadata": {
        "colab": {
          "base_uri": "https://localhost:8080/"
        },
        "id": "AxvPLTVBLFLj",
        "outputId": "b5a83dac-16f0-4848-8f5e-2de18069c91f"
      },
      "source": [
        "y_train.shape"
      ],
      "execution_count": null,
      "outputs": [
        {
          "output_type": "execute_result",
          "data": {
            "text/plain": [
              "(824,)"
            ]
          },
          "metadata": {
            "tags": []
          },
          "execution_count": 74
        }
      ]
    },
    {
      "cell_type": "code",
      "metadata": {
        "colab": {
          "base_uri": "https://localhost:8080/"
        },
        "id": "I9itn_HiLFJ7",
        "outputId": "18e62d3c-ad5c-457b-8d5a-cd2dc839711c"
      },
      "source": [
        "x_test.shape"
      ],
      "execution_count": null,
      "outputs": [
        {
          "output_type": "execute_result",
          "data": {
            "text/plain": [
              "(206, 8)"
            ]
          },
          "metadata": {
            "tags": []
          },
          "execution_count": 75
        }
      ]
    },
    {
      "cell_type": "code",
      "metadata": {
        "colab": {
          "base_uri": "https://localhost:8080/"
        },
        "id": "GROKjXQxLFIE",
        "outputId": "09875c76-1383-4f0a-b5a2-1ed9e59551ef"
      },
      "source": [
        "y_test.shape"
      ],
      "execution_count": null,
      "outputs": [
        {
          "output_type": "execute_result",
          "data": {
            "text/plain": [
              "(206,)"
            ]
          },
          "metadata": {
            "tags": []
          },
          "execution_count": 76
        }
      ]
    },
    {
      "cell_type": "code",
      "metadata": {
        "id": "bQAFbvlELFFO"
      },
      "source": [
        "lm=LinearRegression()"
      ],
      "execution_count": null,
      "outputs": []
    },
    {
      "cell_type": "code",
      "metadata": {
        "colab": {
          "base_uri": "https://localhost:8080/"
        },
        "id": "6QNNCnVsLFDl",
        "outputId": "e17b04a9-dab9-4dee-d5a6-c968d05bac6d"
      },
      "source": [
        "lm.fit(x_train,y_train)"
      ],
      "execution_count": null,
      "outputs": [
        {
          "output_type": "execute_result",
          "data": {
            "text/plain": [
              "LinearRegression(copy_X=True, fit_intercept=True, n_jobs=None, normalize=False)"
            ]
          },
          "metadata": {
            "tags": []
          },
          "execution_count": 78
        }
      ]
    },
    {
      "cell_type": "code",
      "metadata": {
        "colab": {
          "base_uri": "https://localhost:8080/"
        },
        "id": "97MRHcSBLFBQ",
        "outputId": "35de683f-cd2f-4e18-87a7-c9259078df77"
      },
      "source": [
        "lm.score(x_train,y_train)"
      ],
      "execution_count": null,
      "outputs": [
        {
          "output_type": "execute_result",
          "data": {
            "text/plain": [
              "0.8154518268352264"
            ]
          },
          "metadata": {
            "tags": []
          },
          "execution_count": 79
        }
      ]
    },
    {
      "cell_type": "code",
      "metadata": {
        "colab": {
          "base_uri": "https://localhost:8080/"
        },
        "id": "Q7cMbEjvWa-j",
        "outputId": "5f3ac231-e4f6-4c40-f175-f5bb5e0a7fb7"
      },
      "source": [
        "lm.coef_"
      ],
      "execution_count": null,
      "outputs": [
        {
          "output_type": "execute_result",
          "data": {
            "text/plain": [
              "array([ 0.13340944,  0.1168204 ,  0.09078124, -0.12433288,  0.12319369,\n",
              "        0.02838403,  0.03700992,  8.77601546])"
            ]
          },
          "metadata": {
            "tags": []
          },
          "execution_count": 80
        }
      ]
    },
    {
      "cell_type": "code",
      "metadata": {
        "colab": {
          "base_uri": "https://localhost:8080/"
        },
        "id": "YXC_5n9fWa85",
        "outputId": "57cbcf00-7be8-4355-a8f3-62260b993e24"
      },
      "source": [
        "lm.intercept_"
      ],
      "execution_count": null,
      "outputs": [
        {
          "output_type": "execute_result",
          "data": {
            "text/plain": [
              "-77.57292821851216"
            ]
          },
          "metadata": {
            "tags": []
          },
          "execution_count": 82
        }
      ]
    },
    {
      "cell_type": "code",
      "metadata": {
        "id": "qSEN9ImaWa4z"
      },
      "source": [
        "pred=lm.predict(x_test)"
      ],
      "execution_count": null,
      "outputs": []
    },
    {
      "cell_type": "code",
      "metadata": {
        "colab": {
          "base_uri": "https://localhost:8080/"
        },
        "id": "JJwahiElWa2q",
        "outputId": "39c4dfc8-0faa-41b1-a5a2-892ed3c06222"
      },
      "source": [
        "print('Predicts value and actual value',pred,y_test)"
      ],
      "execution_count": null,
      "outputs": [
        {
          "output_type": "stream",
          "text": [
            "Predicts value and actual value [45.91176731 45.67077693 65.12253469 38.23487781 18.68513237 42.19153945\n",
            " 28.61095888 50.72209098 32.55184502 46.24848286 31.08818898 13.24632652\n",
            " 50.45552767 45.32284063 28.57535112 38.88265286 31.87740959 20.50416908\n",
            " 33.62628116 30.01110919 41.39784138 39.41035512 44.56332693 11.57246092\n",
            " 31.12467104 36.73144599  9.43797387 43.16159603 46.97623038  9.18122455\n",
            " 41.45513115 36.00156192 50.09124629 51.27473459 16.58563732 32.76601079\n",
            " 32.44764224 40.78366824 14.12210861 44.42481864 16.58571329  2.71496185\n",
            " 38.33032044 54.30886173  7.0459642  64.13826417 52.2531133  48.69291336\n",
            " 24.603779    5.66897592 43.98603428 43.20143029 30.60139082 27.72375672\n",
            " 52.79608476 38.45315392 26.46877465 10.67244321 35.20660483 22.84638905\n",
            " 40.64185901  7.83787091 37.81957052 48.40116281 26.54479039 22.16713153\n",
            " 34.55099608 18.58163887 31.91340001 24.45028166  5.80720554 22.0588862\n",
            "  0.75190234 31.03461963 30.47805179  7.19540476 46.5421509  49.96952187\n",
            " 62.15223538 18.30003269 46.79616476 42.99517838 40.08667173 34.01972528\n",
            " 55.30012289 38.23487781 35.76235671 36.17957924 25.03601263 20.5649337\n",
            " 31.88732227 68.16914688 10.39478079 45.13058756 42.02824403 42.0052474\n",
            " 26.78922344 31.44241474 15.36101785 36.4057222  26.09215058 41.77999688\n",
            " 47.52004313 24.53364638 80.40146201  9.14856695 46.76543244 31.54464992\n",
            " 35.80466392 54.3681243  52.87923513 45.09839016 20.59987004 40.36785429\n",
            " 40.99639444 62.31518253 17.28687494 40.24827478 48.31107548 42.05548324\n",
            " 29.23170063 30.60086316 42.83984236 35.53608606 27.0256344  37.20215338\n",
            " 50.73810821 48.58656388 39.55639624 34.16503521 10.54811032 32.93224942\n",
            " 19.17793885 66.55546371  2.44649107 52.65437017 31.43593996 39.32302755\n",
            " 19.09774416 34.68639801 33.1776276  35.32891049 15.05638162 34.28054111\n",
            " 49.69088672 39.16872289 29.56961281 19.84038638  6.68620948 14.66177109\n",
            " 39.01531979 26.18178082 41.81009801 27.09455723 43.38225839 40.34663388\n",
            " 29.32490043 73.1511699  45.67077693 43.12751225 15.91725875 60.72111496\n",
            " 32.39718618 45.15716536 41.15066475 59.24560556 44.58889071 24.37636545\n",
            " 44.06597141 19.94848465 39.4614833  19.60996666 22.15111964 36.40452504\n",
            " 39.20739322 14.79198592 27.25698109 44.88102579 43.2524572  45.11325574\n",
            " 36.95782068 29.87570591 54.25464226 45.783007   40.10316814 43.89639817\n",
            " 26.13867039 33.86219782 33.43762896 16.43229774 34.37419889 44.34919406\n",
            " 41.27469687 41.92080064 42.88805431 29.51079561 46.18623851 26.21164965\n",
            " 23.80070857 25.41246727 36.71281805 62.31518253 22.04853094 42.81702467\n",
            " 60.17001177 39.03018537] 31     52.91\n",
            "109    55.90\n",
            "136    74.50\n",
            "88     35.30\n",
            "918    10.54\n",
            "       ...  \n",
            "482    56.14\n",
            "545    18.75\n",
            "110    38.00\n",
            "514    74.36\n",
            "602    35.17\n",
            "Name: CMS, Length: 206, dtype: float64\n"
          ],
          "name": "stdout"
        }
      ]
    },
    {
      "cell_type": "code",
      "metadata": {
        "colab": {
          "base_uri": "https://localhost:8080/"
        },
        "id": "EWEcPdF2Way2",
        "outputId": "d602a88d-8a69-45b2-82a3-33103bb2cb10"
      },
      "source": [
        "from sklearn.metrics import mean_squared_error,r2_score\n",
        "print(mean_squared_error(pred,y_test))"
      ],
      "execution_count": null,
      "outputs": [
        {
          "output_type": "stream",
          "text": [
            "43.90710466372286\n"
          ],
          "name": "stdout"
        }
      ]
    },
    {
      "cell_type": "markdown",
      "metadata": {
        "id": "jij7B_66aVeE"
      },
      "source": [
        "lets make one test"
      ]
    },
    {
      "cell_type": "code",
      "metadata": {
        "id": "c6C4YUJkWaxb"
      },
      "source": [
        "def predicttest(testvalue):\n",
        "  testvalue=testvalue.reshape(1,-1)\n",
        "  t=lm.predict(testvalue)\n",
        "  print(t)"
      ],
      "execution_count": null,
      "outputs": []
    },
    {
      "cell_type": "code",
      "metadata": {
        "colab": {
          "base_uri": "https://localhost:8080/"
        },
        "id": "bZHwojRZWawL",
        "outputId": "483c81ed-c1d0-4f75-f776-c0c0ee2ce66e"
      },
      "source": [
        "testv=np.array([540.0,136.156793,120.288793,162.0,2.500000,1040.0,676.0,67.0])\n",
        "predicttest(testv)"
      ],
      "execution_count": null,
      "outputs": [
        {
          "output_type": "stream",
          "text": [
            "[643.99122192]\n"
          ],
          "name": "stdout"
        }
      ]
    },
    {
      "cell_type": "code",
      "metadata": {
        "id": "ssTX6ekIWavB"
      },
      "source": [
        ""
      ],
      "execution_count": null,
      "outputs": []
    },
    {
      "cell_type": "code",
      "metadata": {
        "id": "LF3R1dy5WaqE"
      },
      "source": [
        ""
      ],
      "execution_count": null,
      "outputs": []
    },
    {
      "cell_type": "code",
      "metadata": {
        "id": "HHY6PVGoWaon"
      },
      "source": [
        ""
      ],
      "execution_count": null,
      "outputs": []
    },
    {
      "cell_type": "code",
      "metadata": {
        "id": "uIQtUG24LE_5"
      },
      "source": [
        ""
      ],
      "execution_count": null,
      "outputs": []
    },
    {
      "cell_type": "code",
      "metadata": {
        "id": "k5eHz7QaLE9T"
      },
      "source": [
        ""
      ],
      "execution_count": null,
      "outputs": []
    },
    {
      "cell_type": "code",
      "metadata": {
        "id": "7Q8xNG9cLE76"
      },
      "source": [
        ""
      ],
      "execution_count": null,
      "outputs": []
    },
    {
      "cell_type": "code",
      "metadata": {
        "id": "fItRbHOQLE6V"
      },
      "source": [
        ""
      ],
      "execution_count": null,
      "outputs": []
    },
    {
      "cell_type": "code",
      "metadata": {
        "id": "FY9yhA63LE4o"
      },
      "source": [
        ""
      ],
      "execution_count": null,
      "outputs": []
    },
    {
      "cell_type": "code",
      "metadata": {
        "id": "Mn4Ds5tgLE3J"
      },
      "source": [
        ""
      ],
      "execution_count": null,
      "outputs": []
    },
    {
      "cell_type": "code",
      "metadata": {
        "id": "HiRZnqkKLE1X"
      },
      "source": [
        ""
      ],
      "execution_count": null,
      "outputs": []
    },
    {
      "cell_type": "code",
      "metadata": {
        "id": "GrDk5-56-wrF"
      },
      "source": [
        ""
      ],
      "execution_count": null,
      "outputs": []
    },
    {
      "cell_type": "code",
      "metadata": {
        "id": "I9tJXLGh-wo6"
      },
      "source": [
        ""
      ],
      "execution_count": null,
      "outputs": []
    }
  ]
}