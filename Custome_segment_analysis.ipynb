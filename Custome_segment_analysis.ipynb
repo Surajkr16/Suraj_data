{
  "nbformat": 4,
  "nbformat_minor": 0,
  "metadata": {
    "colab": {
      "name": "EDA_assign.ipynb",
      "provenance": [],
      "collapsed_sections": []
    },
    "kernelspec": {
      "name": "python3",
      "display_name": "Python 3"
    },
    "language_info": {
      "name": "python"
    }
  },
  "cells": [
    {
      "cell_type": "markdown",
      "metadata": {
        "id": "SgYPhsk4Wmh_"
      },
      "source": [
        "**SECTION I**"
      ]
    },
    {
      "cell_type": "markdown",
      "metadata": {
        "id": "-mO4-KkV_kMx"
      },
      "source": [
        "**Import Library**"
      ]
    },
    {
      "cell_type": "code",
      "metadata": {
        "id": "DivqgZi5MbKX"
      },
      "source": [
        "import pandas as pd\n",
        "import matplotlib.pyplot as plt\n",
        "import numpy as np\n"
      ],
      "execution_count": 37,
      "outputs": []
    },
    {
      "cell_type": "markdown",
      "metadata": {
        "id": "6tuuWP4B_1Z7"
      },
      "source": [
        "**Import The Dataset**"
      ]
    },
    {
      "cell_type": "code",
      "metadata": {
        "id": "Y4GW_bm5YnMH"
      },
      "source": [
        "df= pd.read_excel('/content/drive/MyDrive/RetailPulseAssignmentData.xlsx', sheet_name=None)"
      ],
      "execution_count": 38,
      "outputs": []
    },
    {
      "cell_type": "code",
      "metadata": {
        "colab": {
          "base_uri": "https://localhost:8080/"
        },
        "id": "yCwuMHPMXklE",
        "outputId": "8f30c184-30f1-4cb4-cbcf-ab088b0bd99c"
      },
      "source": [
        "df"
      ],
      "execution_count": 39,
      "outputs": [
        {
          "output_type": "execute_result",
          "data": {
            "text/plain": [
              "{'Year 2009-2010':        Invoice StockCode  ... Customer ID         Country\n",
              " 0       489434     85048  ...     13085.0  United Kingdom\n",
              " 1       489434    79323P  ...     13085.0  United Kingdom\n",
              " 2       489434    79323W  ...     13085.0  United Kingdom\n",
              " 3       489434     22041  ...     13085.0  United Kingdom\n",
              " 4       489434     21232  ...     13085.0  United Kingdom\n",
              " ...        ...       ...  ...         ...             ...\n",
              " 525456  538171     22271  ...     17530.0  United Kingdom\n",
              " 525457  538171     22750  ...     17530.0  United Kingdom\n",
              " 525458  538171     22751  ...     17530.0  United Kingdom\n",
              " 525459  538171     20970  ...     17530.0  United Kingdom\n",
              " 525460  538171     21931  ...     17530.0  United Kingdom\n",
              " \n",
              " [525461 rows x 8 columns],\n",
              " 'Year 2010-2011':        Invoice StockCode  ... Customer ID         Country\n",
              " 0       536365    85123A  ...     17850.0  United Kingdom\n",
              " 1       536365     71053  ...     17850.0  United Kingdom\n",
              " 2       536365    84406B  ...     17850.0  United Kingdom\n",
              " 3       536365    84029G  ...     17850.0  United Kingdom\n",
              " 4       536365    84029E  ...     17850.0  United Kingdom\n",
              " ...        ...       ...  ...         ...             ...\n",
              " 541905  581587     22899  ...     12680.0          France\n",
              " 541906  581587     23254  ...     12680.0          France\n",
              " 541907  581587     23255  ...     12680.0          France\n",
              " 541908  581587     22138  ...     12680.0          France\n",
              " 541909  581587      POST  ...     12680.0          France\n",
              " \n",
              " [541910 rows x 8 columns]}"
            ]
          },
          "metadata": {},
          "execution_count": 39
        }
      ]
    },
    {
      "cell_type": "markdown",
      "metadata": {
        "id": "vxLw-NZO_5fk"
      },
      "source": [
        "**JOining Both the dataset**"
      ]
    },
    {
      "cell_type": "code",
      "metadata": {
        "id": "adWYv1C1Xm9I"
      },
      "source": [
        "df_new=pd.concat(df.values())"
      ],
      "execution_count": 40,
      "outputs": []
    },
    {
      "cell_type": "code",
      "metadata": {
        "colab": {
          "base_uri": "https://localhost:8080/",
          "height": 202
        },
        "id": "1g7cuhkDWGSO",
        "outputId": "5ee74eb9-82b1-4bab-9713-dea8f231c31b"
      },
      "source": [
        "df_new.head()"
      ],
      "execution_count": 99,
      "outputs": [
        {
          "output_type": "execute_result",
          "data": {
            "text/html": [
              "<div>\n",
              "<style scoped>\n",
              "    .dataframe tbody tr th:only-of-type {\n",
              "        vertical-align: middle;\n",
              "    }\n",
              "\n",
              "    .dataframe tbody tr th {\n",
              "        vertical-align: top;\n",
              "    }\n",
              "\n",
              "    .dataframe thead th {\n",
              "        text-align: right;\n",
              "    }\n",
              "</style>\n",
              "<table border=\"1\" class=\"dataframe\">\n",
              "  <thead>\n",
              "    <tr style=\"text-align: right;\">\n",
              "      <th></th>\n",
              "      <th>Invoice</th>\n",
              "      <th>StockCode</th>\n",
              "      <th>Description</th>\n",
              "      <th>Quantity</th>\n",
              "      <th>InvoiceDate</th>\n",
              "      <th>Price</th>\n",
              "      <th>Customer ID</th>\n",
              "      <th>Country</th>\n",
              "      <th>Total_Amount</th>\n",
              "      <th>Month</th>\n",
              "      <th>Month_Year</th>\n",
              "    </tr>\n",
              "  </thead>\n",
              "  <tbody>\n",
              "    <tr>\n",
              "      <th>0</th>\n",
              "      <td>489434</td>\n",
              "      <td>85048</td>\n",
              "      <td>15CM CHRISTMAS GLASS BALL 20 LIGHTS</td>\n",
              "      <td>12</td>\n",
              "      <td>2009-12-01 07:45:00</td>\n",
              "      <td>6.95</td>\n",
              "      <td>13085.0</td>\n",
              "      <td>United Kingdom</td>\n",
              "      <td>83.4</td>\n",
              "      <td>12</td>\n",
              "      <td>2009=12</td>\n",
              "    </tr>\n",
              "    <tr>\n",
              "      <th>1</th>\n",
              "      <td>489434</td>\n",
              "      <td>79323P</td>\n",
              "      <td>PINK CHERRY LIGHTS</td>\n",
              "      <td>12</td>\n",
              "      <td>2009-12-01 07:45:00</td>\n",
              "      <td>6.75</td>\n",
              "      <td>13085.0</td>\n",
              "      <td>United Kingdom</td>\n",
              "      <td>81.0</td>\n",
              "      <td>12</td>\n",
              "      <td>2009=12</td>\n",
              "    </tr>\n",
              "    <tr>\n",
              "      <th>2</th>\n",
              "      <td>489434</td>\n",
              "      <td>79323W</td>\n",
              "      <td>WHITE CHERRY LIGHTS</td>\n",
              "      <td>12</td>\n",
              "      <td>2009-12-01 07:45:00</td>\n",
              "      <td>6.75</td>\n",
              "      <td>13085.0</td>\n",
              "      <td>United Kingdom</td>\n",
              "      <td>81.0</td>\n",
              "      <td>12</td>\n",
              "      <td>2009=12</td>\n",
              "    </tr>\n",
              "    <tr>\n",
              "      <th>3</th>\n",
              "      <td>489434</td>\n",
              "      <td>22041</td>\n",
              "      <td>RECORD FRAME 7\" SINGLE SIZE</td>\n",
              "      <td>48</td>\n",
              "      <td>2009-12-01 07:45:00</td>\n",
              "      <td>2.10</td>\n",
              "      <td>13085.0</td>\n",
              "      <td>United Kingdom</td>\n",
              "      <td>100.8</td>\n",
              "      <td>12</td>\n",
              "      <td>2009=12</td>\n",
              "    </tr>\n",
              "    <tr>\n",
              "      <th>4</th>\n",
              "      <td>489434</td>\n",
              "      <td>21232</td>\n",
              "      <td>STRAWBERRY CERAMIC TRINKET BOX</td>\n",
              "      <td>24</td>\n",
              "      <td>2009-12-01 07:45:00</td>\n",
              "      <td>1.25</td>\n",
              "      <td>13085.0</td>\n",
              "      <td>United Kingdom</td>\n",
              "      <td>30.0</td>\n",
              "      <td>12</td>\n",
              "      <td>2009=12</td>\n",
              "    </tr>\n",
              "  </tbody>\n",
              "</table>\n",
              "</div>"
            ],
            "text/plain": [
              "  Invoice StockCode  ... Month  Month_Year\n",
              "0  489434     85048  ...    12     2009=12\n",
              "1  489434    79323P  ...    12     2009=12\n",
              "2  489434    79323W  ...    12     2009=12\n",
              "3  489434     22041  ...    12     2009=12\n",
              "4  489434     21232  ...    12     2009=12\n",
              "\n",
              "[5 rows x 11 columns]"
            ]
          },
          "metadata": {},
          "execution_count": 99
        }
      ]
    },
    {
      "cell_type": "markdown",
      "metadata": {
        "id": "Rj7_TRahIkAi"
      },
      "source": [
        "**Chech the size of dataset**"
      ]
    },
    {
      "cell_type": "code",
      "metadata": {
        "colab": {
          "base_uri": "https://localhost:8080/"
        },
        "id": "lmmM2ZLdMlej",
        "outputId": "2fa65449-8746-46a9-a00b-a6b14430503e"
      },
      "source": [
        "df_new.shape"
      ],
      "execution_count": 42,
      "outputs": [
        {
          "output_type": "execute_result",
          "data": {
            "text/plain": [
              "(1067371, 8)"
            ]
          },
          "metadata": {},
          "execution_count": 42
        }
      ]
    },
    {
      "cell_type": "markdown",
      "metadata": {
        "id": "bWGRTogqIsIB"
      },
      "source": [
        "**Look more info about the dataset**"
      ]
    },
    {
      "cell_type": "code",
      "metadata": {
        "colab": {
          "base_uri": "https://localhost:8080/"
        },
        "id": "FKsVD2J7UGZz",
        "outputId": "a52b4e86-ed7f-49f4-e0b2-f5f8fda10e47"
      },
      "source": [
        "df_new.info()"
      ],
      "execution_count": 43,
      "outputs": [
        {
          "output_type": "stream",
          "name": "stdout",
          "text": [
            "<class 'pandas.core.frame.DataFrame'>\n",
            "Int64Index: 1067371 entries, 0 to 541909\n",
            "Data columns (total 8 columns):\n",
            " #   Column       Non-Null Count    Dtype         \n",
            "---  ------       --------------    -----         \n",
            " 0   Invoice      1067371 non-null  object        \n",
            " 1   StockCode    1067371 non-null  object        \n",
            " 2   Description  1062989 non-null  object        \n",
            " 3   Quantity     1067371 non-null  int64         \n",
            " 4   InvoiceDate  1067371 non-null  datetime64[ns]\n",
            " 5   Price        1067371 non-null  float64       \n",
            " 6   Customer ID  824364 non-null   float64       \n",
            " 7   Country      1067371 non-null  object        \n",
            "dtypes: datetime64[ns](1), float64(2), int64(1), object(4)\n",
            "memory usage: 73.3+ MB\n"
          ]
        }
      ]
    },
    {
      "cell_type": "markdown",
      "metadata": {
        "id": "wtcFHpEupUrS"
      },
      "source": [
        "**Customer distribution by country**"
      ]
    },
    {
      "cell_type": "code",
      "metadata": {
        "colab": {
          "base_uri": "https://localhost:8080/",
          "height": 1000
        },
        "id": "djNgJs2ApS_b",
        "outputId": "7e5c2387-2dc1-4418-a41e-327d716c5097"
      },
      "source": [
        "country_cust_data=df_new[['Country','Customer ID']].drop_duplicates()\n",
        "country_cust_data.groupby(['Country'])['Customer ID'].aggregate('count').reset_index().sort_values('Customer ID', ascending=False)"
      ],
      "execution_count": 44,
      "outputs": [
        {
          "output_type": "execute_result",
          "data": {
            "text/html": [
              "<div>\n",
              "<style scoped>\n",
              "    .dataframe tbody tr th:only-of-type {\n",
              "        vertical-align: middle;\n",
              "    }\n",
              "\n",
              "    .dataframe tbody tr th {\n",
              "        vertical-align: top;\n",
              "    }\n",
              "\n",
              "    .dataframe thead th {\n",
              "        text-align: right;\n",
              "    }\n",
              "</style>\n",
              "<table border=\"1\" class=\"dataframe\">\n",
              "  <thead>\n",
              "    <tr style=\"text-align: right;\">\n",
              "      <th></th>\n",
              "      <th>Country</th>\n",
              "      <th>Customer ID</th>\n",
              "    </tr>\n",
              "  </thead>\n",
              "  <tbody>\n",
              "    <tr>\n",
              "      <th>40</th>\n",
              "      <td>United Kingdom</td>\n",
              "      <td>5410</td>\n",
              "    </tr>\n",
              "    <tr>\n",
              "      <th>15</th>\n",
              "      <td>Germany</td>\n",
              "      <td>107</td>\n",
              "    </tr>\n",
              "    <tr>\n",
              "      <th>14</th>\n",
              "      <td>France</td>\n",
              "      <td>95</td>\n",
              "    </tr>\n",
              "    <tr>\n",
              "      <th>34</th>\n",
              "      <td>Spain</td>\n",
              "      <td>41</td>\n",
              "    </tr>\n",
              "    <tr>\n",
              "      <th>3</th>\n",
              "      <td>Belgium</td>\n",
              "      <td>29</td>\n",
              "    </tr>\n",
              "    <tr>\n",
              "      <th>30</th>\n",
              "      <td>Portugal</td>\n",
              "      <td>24</td>\n",
              "    </tr>\n",
              "    <tr>\n",
              "      <th>26</th>\n",
              "      <td>Netherlands</td>\n",
              "      <td>23</td>\n",
              "    </tr>\n",
              "    <tr>\n",
              "      <th>36</th>\n",
              "      <td>Switzerland</td>\n",
              "      <td>22</td>\n",
              "    </tr>\n",
              "    <tr>\n",
              "      <th>35</th>\n",
              "      <td>Sweden</td>\n",
              "      <td>19</td>\n",
              "    </tr>\n",
              "    <tr>\n",
              "      <th>20</th>\n",
              "      <td>Italy</td>\n",
              "      <td>17</td>\n",
              "    </tr>\n",
              "    <tr>\n",
              "      <th>0</th>\n",
              "      <td>Australia</td>\n",
              "      <td>15</td>\n",
              "    </tr>\n",
              "    <tr>\n",
              "      <th>13</th>\n",
              "      <td>Finland</td>\n",
              "      <td>15</td>\n",
              "    </tr>\n",
              "    <tr>\n",
              "      <th>7</th>\n",
              "      <td>Channel Islands</td>\n",
              "      <td>14</td>\n",
              "    </tr>\n",
              "    <tr>\n",
              "      <th>1</th>\n",
              "      <td>Austria</td>\n",
              "      <td>13</td>\n",
              "    </tr>\n",
              "    <tr>\n",
              "      <th>28</th>\n",
              "      <td>Norway</td>\n",
              "      <td>13</td>\n",
              "    </tr>\n",
              "    <tr>\n",
              "      <th>10</th>\n",
              "      <td>Denmark</td>\n",
              "      <td>12</td>\n",
              "    </tr>\n",
              "    <tr>\n",
              "      <th>8</th>\n",
              "      <td>Cyprus</td>\n",
              "      <td>11</td>\n",
              "    </tr>\n",
              "    <tr>\n",
              "      <th>21</th>\n",
              "      <td>Japan</td>\n",
              "      <td>10</td>\n",
              "    </tr>\n",
              "    <tr>\n",
              "      <th>38</th>\n",
              "      <td>USA</td>\n",
              "      <td>9</td>\n",
              "    </tr>\n",
              "    <tr>\n",
              "      <th>41</th>\n",
              "      <td>Unspecified</td>\n",
              "      <td>7</td>\n",
              "    </tr>\n",
              "    <tr>\n",
              "      <th>29</th>\n",
              "      <td>Poland</td>\n",
              "      <td>6</td>\n",
              "    </tr>\n",
              "    <tr>\n",
              "      <th>6</th>\n",
              "      <td>Canada</td>\n",
              "      <td>5</td>\n",
              "    </tr>\n",
              "    <tr>\n",
              "      <th>16</th>\n",
              "      <td>Greece</td>\n",
              "      <td>5</td>\n",
              "    </tr>\n",
              "    <tr>\n",
              "      <th>11</th>\n",
              "      <td>EIRE</td>\n",
              "      <td>5</td>\n",
              "    </tr>\n",
              "    <tr>\n",
              "      <th>39</th>\n",
              "      <td>United Arab Emirates</td>\n",
              "      <td>4</td>\n",
              "    </tr>\n",
              "    <tr>\n",
              "      <th>19</th>\n",
              "      <td>Israel</td>\n",
              "      <td>4</td>\n",
              "    </tr>\n",
              "    <tr>\n",
              "      <th>22</th>\n",
              "      <td>Korea</td>\n",
              "      <td>2</td>\n",
              "    </tr>\n",
              "    <tr>\n",
              "      <th>2</th>\n",
              "      <td>Bahrain</td>\n",
              "      <td>2</td>\n",
              "    </tr>\n",
              "    <tr>\n",
              "      <th>25</th>\n",
              "      <td>Malta</td>\n",
              "      <td>2</td>\n",
              "    </tr>\n",
              "    <tr>\n",
              "      <th>31</th>\n",
              "      <td>RSA</td>\n",
              "      <td>2</td>\n",
              "    </tr>\n",
              "    <tr>\n",
              "      <th>5</th>\n",
              "      <td>Brazil</td>\n",
              "      <td>2</td>\n",
              "    </tr>\n",
              "    <tr>\n",
              "      <th>18</th>\n",
              "      <td>Iceland</td>\n",
              "      <td>1</td>\n",
              "    </tr>\n",
              "    <tr>\n",
              "      <th>37</th>\n",
              "      <td>Thailand</td>\n",
              "      <td>1</td>\n",
              "    </tr>\n",
              "    <tr>\n",
              "      <th>9</th>\n",
              "      <td>Czech Republic</td>\n",
              "      <td>1</td>\n",
              "    </tr>\n",
              "    <tr>\n",
              "      <th>33</th>\n",
              "      <td>Singapore</td>\n",
              "      <td>1</td>\n",
              "    </tr>\n",
              "    <tr>\n",
              "      <th>32</th>\n",
              "      <td>Saudi Arabia</td>\n",
              "      <td>1</td>\n",
              "    </tr>\n",
              "    <tr>\n",
              "      <th>27</th>\n",
              "      <td>Nigeria</td>\n",
              "      <td>1</td>\n",
              "    </tr>\n",
              "    <tr>\n",
              "      <th>12</th>\n",
              "      <td>European Community</td>\n",
              "      <td>1</td>\n",
              "    </tr>\n",
              "    <tr>\n",
              "      <th>24</th>\n",
              "      <td>Lithuania</td>\n",
              "      <td>1</td>\n",
              "    </tr>\n",
              "    <tr>\n",
              "      <th>23</th>\n",
              "      <td>Lebanon</td>\n",
              "      <td>1</td>\n",
              "    </tr>\n",
              "    <tr>\n",
              "      <th>42</th>\n",
              "      <td>West Indies</td>\n",
              "      <td>1</td>\n",
              "    </tr>\n",
              "    <tr>\n",
              "      <th>4</th>\n",
              "      <td>Bermuda</td>\n",
              "      <td>0</td>\n",
              "    </tr>\n",
              "    <tr>\n",
              "      <th>17</th>\n",
              "      <td>Hong Kong</td>\n",
              "      <td>0</td>\n",
              "    </tr>\n",
              "  </tbody>\n",
              "</table>\n",
              "</div>"
            ],
            "text/plain": [
              "                 Country  Customer ID\n",
              "40        United Kingdom         5410\n",
              "15               Germany          107\n",
              "14                France           95\n",
              "34                 Spain           41\n",
              "3                Belgium           29\n",
              "30              Portugal           24\n",
              "26           Netherlands           23\n",
              "36           Switzerland           22\n",
              "35                Sweden           19\n",
              "20                 Italy           17\n",
              "0              Australia           15\n",
              "13               Finland           15\n",
              "7        Channel Islands           14\n",
              "1                Austria           13\n",
              "28                Norway           13\n",
              "10               Denmark           12\n",
              "8                 Cyprus           11\n",
              "21                 Japan           10\n",
              "38                   USA            9\n",
              "41           Unspecified            7\n",
              "29                Poland            6\n",
              "6                 Canada            5\n",
              "16                Greece            5\n",
              "11                  EIRE            5\n",
              "39  United Arab Emirates            4\n",
              "19                Israel            4\n",
              "22                 Korea            2\n",
              "2                Bahrain            2\n",
              "25                 Malta            2\n",
              "31                   RSA            2\n",
              "5                 Brazil            2\n",
              "18               Iceland            1\n",
              "37              Thailand            1\n",
              "9         Czech Republic            1\n",
              "33             Singapore            1\n",
              "32          Saudi Arabia            1\n",
              "27               Nigeria            1\n",
              "12    European Community            1\n",
              "24             Lithuania            1\n",
              "23               Lebanon            1\n",
              "42           West Indies            1\n",
              "4                Bermuda            0\n",
              "17             Hong Kong            0"
            ]
          },
          "metadata": {},
          "execution_count": 44
        }
      ]
    },
    {
      "cell_type": "markdown",
      "metadata": {
        "id": "a8LL9q9Kqv5K"
      },
      "source": [
        "**Check for missing values in the dataset**"
      ]
    },
    {
      "cell_type": "code",
      "metadata": {
        "colab": {
          "base_uri": "https://localhost:8080/"
        },
        "id": "bkAgIIGkq5yc",
        "outputId": "4dbb9010-ec6a-480c-cb83-e15794a8b332"
      },
      "source": [
        "df_new.isnull().sum(axis=0)"
      ],
      "execution_count": 45,
      "outputs": [
        {
          "output_type": "execute_result",
          "data": {
            "text/plain": [
              "Invoice             0\n",
              "StockCode           0\n",
              "Description      4382\n",
              "Quantity            0\n",
              "InvoiceDate         0\n",
              "Price               0\n",
              "Customer ID    243007\n",
              "Country             0\n",
              "dtype: int64"
            ]
          },
          "metadata": {},
          "execution_count": 45
        }
      ]
    },
    {
      "cell_type": "markdown",
      "metadata": {
        "id": "hP0gokP9r63p"
      },
      "source": [
        "**Remove missing values from CustomerID column, can ignore missing values in description column**"
      ]
    },
    {
      "cell_type": "code",
      "metadata": {
        "id": "dJW2nF7crsrU"
      },
      "source": [
        "df_new = df_new[pd.notnull(df_new['Customer ID'])]"
      ],
      "execution_count": 46,
      "outputs": []
    },
    {
      "cell_type": "markdown",
      "metadata": {
        "id": "Wzgj8SPxsP5H"
      },
      "source": [
        "**Validate if there are any negative values in Quantity column**"
      ]
    },
    {
      "cell_type": "code",
      "metadata": {
        "colab": {
          "base_uri": "https://localhost:8080/"
        },
        "id": "wSBvt1REsChy",
        "outputId": "f2649765-ef18-4db5-a8cb-a75d75125b5a"
      },
      "source": [
        "df_new.Quantity.min()"
      ],
      "execution_count": 47,
      "outputs": [
        {
          "output_type": "execute_result",
          "data": {
            "text/plain": [
              "-80995"
            ]
          },
          "metadata": {},
          "execution_count": 47
        }
      ]
    },
    {
      "cell_type": "markdown",
      "metadata": {
        "id": "6aorT-Z5sler"
      },
      "source": [
        "**Chech there are any negative values in Unit Price column**"
      ]
    },
    {
      "cell_type": "code",
      "metadata": {
        "colab": {
          "base_uri": "https://localhost:8080/"
        },
        "id": "H8YlNWMLskbM",
        "outputId": "632613bc-3ae5-4d7b-b79c-124159ba3c1f"
      },
      "source": [
        "df_new.Price.min()"
      ],
      "execution_count": 48,
      "outputs": [
        {
          "output_type": "execute_result",
          "data": {
            "text/plain": [
              "0.0"
            ]
          },
          "metadata": {},
          "execution_count": 48
        }
      ]
    },
    {
      "cell_type": "markdown",
      "metadata": {
        "id": "R72pj0JstN72"
      },
      "source": [
        "**Filter out records with negative values**"
      ]
    },
    {
      "cell_type": "code",
      "metadata": {
        "id": "vboHn29ZsXsX"
      },
      "source": [
        "df_new= df_new[(df_new['Quantity']>0)]"
      ],
      "execution_count": 49,
      "outputs": []
    },
    {
      "cell_type": "markdown",
      "metadata": {
        "id": "x6G68yy3tgwv"
      },
      "source": [
        "**Convert the string date field to datetime**"
      ]
    },
    {
      "cell_type": "code",
      "metadata": {
        "id": "GJPJnJbQtND0"
      },
      "source": [
        "df_new['InvoiceDate'] = pd.to_datetime(df_new['InvoiceDate'])"
      ],
      "execution_count": 50,
      "outputs": []
    },
    {
      "cell_type": "markdown",
      "metadata": {
        "id": "CsKEHvXTuTL4"
      },
      "source": [
        "**Add new column depicting total amount**"
      ]
    },
    {
      "cell_type": "code",
      "metadata": {
        "id": "ZB3VJMAxtfrb"
      },
      "source": [
        "df_new['Total_Amount'] = df_new['Quantity'] * df_new['Price']"
      ],
      "execution_count": 51,
      "outputs": []
    },
    {
      "cell_type": "markdown",
      "metadata": {
        "id": "CEaZHZEwueIq"
      },
      "source": [
        "**Check the shape (number of columns and rows) in the dataset after data is cleaned**"
      ]
    },
    {
      "cell_type": "code",
      "metadata": {
        "colab": {
          "base_uri": "https://localhost:8080/"
        },
        "id": "pWZ4KhLLt2e4",
        "outputId": "8f60a433-3b24-48dc-ea6c-e9f25f356727"
      },
      "source": [
        "df_new.shape"
      ],
      "execution_count": 52,
      "outputs": [
        {
          "output_type": "execute_result",
          "data": {
            "text/plain": [
              "(805620, 9)"
            ]
          },
          "metadata": {},
          "execution_count": 52
        }
      ]
    },
    {
      "cell_type": "markdown",
      "metadata": {
        "id": "fG1fuialMKyE"
      },
      "source": [
        "**Check null value after cleaning the dataset**"
      ]
    },
    {
      "cell_type": "code",
      "metadata": {
        "colab": {
          "base_uri": "https://localhost:8080/"
        },
        "id": "O3Qcfn2Qvjsp",
        "outputId": "bdabcbf6-9723-4d7a-f083-7a67ae66c318"
      },
      "source": [
        "df_new.isnull().sum(axis=0)"
      ],
      "execution_count": 53,
      "outputs": [
        {
          "output_type": "execute_result",
          "data": {
            "text/plain": [
              "Invoice         0\n",
              "StockCode       0\n",
              "Description     0\n",
              "Quantity        0\n",
              "InvoiceDate     0\n",
              "Price           0\n",
              "Customer ID     0\n",
              "Country         0\n",
              "Total_Amount    0\n",
              "dtype: int64"
            ]
          },
          "metadata": {},
          "execution_count": 53
        }
      ]
    },
    {
      "cell_type": "code",
      "metadata": {
        "colab": {
          "base_uri": "https://localhost:8080/",
          "height": 202
        },
        "id": "22ySzDWbugVE",
        "outputId": "47dbd972-fea9-4ffc-8576-c18114cf0c98"
      },
      "source": [
        "df_new.head()"
      ],
      "execution_count": 54,
      "outputs": [
        {
          "output_type": "execute_result",
          "data": {
            "text/html": [
              "<div>\n",
              "<style scoped>\n",
              "    .dataframe tbody tr th:only-of-type {\n",
              "        vertical-align: middle;\n",
              "    }\n",
              "\n",
              "    .dataframe tbody tr th {\n",
              "        vertical-align: top;\n",
              "    }\n",
              "\n",
              "    .dataframe thead th {\n",
              "        text-align: right;\n",
              "    }\n",
              "</style>\n",
              "<table border=\"1\" class=\"dataframe\">\n",
              "  <thead>\n",
              "    <tr style=\"text-align: right;\">\n",
              "      <th></th>\n",
              "      <th>Invoice</th>\n",
              "      <th>StockCode</th>\n",
              "      <th>Description</th>\n",
              "      <th>Quantity</th>\n",
              "      <th>InvoiceDate</th>\n",
              "      <th>Price</th>\n",
              "      <th>Customer ID</th>\n",
              "      <th>Country</th>\n",
              "      <th>Total_Amount</th>\n",
              "    </tr>\n",
              "  </thead>\n",
              "  <tbody>\n",
              "    <tr>\n",
              "      <th>0</th>\n",
              "      <td>489434</td>\n",
              "      <td>85048</td>\n",
              "      <td>15CM CHRISTMAS GLASS BALL 20 LIGHTS</td>\n",
              "      <td>12</td>\n",
              "      <td>2009-12-01 07:45:00</td>\n",
              "      <td>6.95</td>\n",
              "      <td>13085.0</td>\n",
              "      <td>United Kingdom</td>\n",
              "      <td>83.4</td>\n",
              "    </tr>\n",
              "    <tr>\n",
              "      <th>1</th>\n",
              "      <td>489434</td>\n",
              "      <td>79323P</td>\n",
              "      <td>PINK CHERRY LIGHTS</td>\n",
              "      <td>12</td>\n",
              "      <td>2009-12-01 07:45:00</td>\n",
              "      <td>6.75</td>\n",
              "      <td>13085.0</td>\n",
              "      <td>United Kingdom</td>\n",
              "      <td>81.0</td>\n",
              "    </tr>\n",
              "    <tr>\n",
              "      <th>2</th>\n",
              "      <td>489434</td>\n",
              "      <td>79323W</td>\n",
              "      <td>WHITE CHERRY LIGHTS</td>\n",
              "      <td>12</td>\n",
              "      <td>2009-12-01 07:45:00</td>\n",
              "      <td>6.75</td>\n",
              "      <td>13085.0</td>\n",
              "      <td>United Kingdom</td>\n",
              "      <td>81.0</td>\n",
              "    </tr>\n",
              "    <tr>\n",
              "      <th>3</th>\n",
              "      <td>489434</td>\n",
              "      <td>22041</td>\n",
              "      <td>RECORD FRAME 7\" SINGLE SIZE</td>\n",
              "      <td>48</td>\n",
              "      <td>2009-12-01 07:45:00</td>\n",
              "      <td>2.10</td>\n",
              "      <td>13085.0</td>\n",
              "      <td>United Kingdom</td>\n",
              "      <td>100.8</td>\n",
              "    </tr>\n",
              "    <tr>\n",
              "      <th>4</th>\n",
              "      <td>489434</td>\n",
              "      <td>21232</td>\n",
              "      <td>STRAWBERRY CERAMIC TRINKET BOX</td>\n",
              "      <td>24</td>\n",
              "      <td>2009-12-01 07:45:00</td>\n",
              "      <td>1.25</td>\n",
              "      <td>13085.0</td>\n",
              "      <td>United Kingdom</td>\n",
              "      <td>30.0</td>\n",
              "    </tr>\n",
              "  </tbody>\n",
              "</table>\n",
              "</div>"
            ],
            "text/plain": [
              "  Invoice StockCode  ...         Country  Total_Amount\n",
              "0  489434     85048  ...  United Kingdom          83.4\n",
              "1  489434    79323P  ...  United Kingdom          81.0\n",
              "2  489434    79323W  ...  United Kingdom          81.0\n",
              "3  489434     22041  ...  United Kingdom         100.8\n",
              "4  489434     21232  ...  United Kingdom          30.0\n",
              "\n",
              "[5 rows x 9 columns]"
            ]
          },
          "metadata": {},
          "execution_count": 54
        }
      ]
    },
    {
      "cell_type": "markdown",
      "metadata": {
        "id": "kVvQTEFdMVnd"
      },
      "source": [
        "**Group by Customer and Total_amount and find the customer wise purchasing Amountt**"
      ]
    },
    {
      "cell_type": "code",
      "metadata": {
        "colab": {
          "base_uri": "https://localhost:8080/",
          "height": 414
        },
        "id": "ZrUp47V3u-XL",
        "outputId": "a13ea5e3-3199-49ac-b547-7f46796ec26b"
      },
      "source": [
        "customer_wise_total_Amount_df = df_new[['Customer ID', 'Total_Amount']].groupby('Customer ID', as_index = False).sum()\n",
        "customer_wise_total_Amount_df.rename(columns = {'Total_Amount' : 'Monetary'}, inplace = True)\n",
        "customer_wise_total_Amount_df"
      ],
      "execution_count": 55,
      "outputs": [
        {
          "output_type": "execute_result",
          "data": {
            "text/html": [
              "<div>\n",
              "<style scoped>\n",
              "    .dataframe tbody tr th:only-of-type {\n",
              "        vertical-align: middle;\n",
              "    }\n",
              "\n",
              "    .dataframe tbody tr th {\n",
              "        vertical-align: top;\n",
              "    }\n",
              "\n",
              "    .dataframe thead th {\n",
              "        text-align: right;\n",
              "    }\n",
              "</style>\n",
              "<table border=\"1\" class=\"dataframe\">\n",
              "  <thead>\n",
              "    <tr style=\"text-align: right;\">\n",
              "      <th></th>\n",
              "      <th>Customer ID</th>\n",
              "      <th>Monetary</th>\n",
              "    </tr>\n",
              "  </thead>\n",
              "  <tbody>\n",
              "    <tr>\n",
              "      <th>0</th>\n",
              "      <td>12346.0</td>\n",
              "      <td>77556.46</td>\n",
              "    </tr>\n",
              "    <tr>\n",
              "      <th>1</th>\n",
              "      <td>12347.0</td>\n",
              "      <td>5633.32</td>\n",
              "    </tr>\n",
              "    <tr>\n",
              "      <th>2</th>\n",
              "      <td>12348.0</td>\n",
              "      <td>2019.40</td>\n",
              "    </tr>\n",
              "    <tr>\n",
              "      <th>3</th>\n",
              "      <td>12349.0</td>\n",
              "      <td>4428.69</td>\n",
              "    </tr>\n",
              "    <tr>\n",
              "      <th>4</th>\n",
              "      <td>12350.0</td>\n",
              "      <td>334.40</td>\n",
              "    </tr>\n",
              "    <tr>\n",
              "      <th>...</th>\n",
              "      <td>...</td>\n",
              "      <td>...</td>\n",
              "    </tr>\n",
              "    <tr>\n",
              "      <th>5876</th>\n",
              "      <td>18283.0</td>\n",
              "      <td>2736.65</td>\n",
              "    </tr>\n",
              "    <tr>\n",
              "      <th>5877</th>\n",
              "      <td>18284.0</td>\n",
              "      <td>461.68</td>\n",
              "    </tr>\n",
              "    <tr>\n",
              "      <th>5878</th>\n",
              "      <td>18285.0</td>\n",
              "      <td>427.00</td>\n",
              "    </tr>\n",
              "    <tr>\n",
              "      <th>5879</th>\n",
              "      <td>18286.0</td>\n",
              "      <td>1296.43</td>\n",
              "    </tr>\n",
              "    <tr>\n",
              "      <th>5880</th>\n",
              "      <td>18287.0</td>\n",
              "      <td>4182.99</td>\n",
              "    </tr>\n",
              "  </tbody>\n",
              "</table>\n",
              "<p>5881 rows × 2 columns</p>\n",
              "</div>"
            ],
            "text/plain": [
              "      Customer ID  Monetary\n",
              "0         12346.0  77556.46\n",
              "1         12347.0   5633.32\n",
              "2         12348.0   2019.40\n",
              "3         12349.0   4428.69\n",
              "4         12350.0    334.40\n",
              "...           ...       ...\n",
              "5876      18283.0   2736.65\n",
              "5877      18284.0    461.68\n",
              "5878      18285.0    427.00\n",
              "5879      18286.0   1296.43\n",
              "5880      18287.0   4182.99\n",
              "\n",
              "[5881 rows x 2 columns]"
            ]
          },
          "metadata": {},
          "execution_count": 55
        }
      ]
    },
    {
      "cell_type": "markdown",
      "metadata": {
        "id": "xsCIWCV_PCdk"
      },
      "source": [
        "**Check Customer wise purchasing frequency**"
      ]
    },
    {
      "cell_type": "code",
      "metadata": {
        "colab": {
          "base_uri": "https://localhost:8080/",
          "height": 414
        },
        "id": "qNXgmyMew1Ct",
        "outputId": "abf7735c-3109-4b38-967f-ff3b5dfb6a62"
      },
      "source": [
        "customer_wise_purchases_frequency_df =  df_new[['Customer ID', 'Invoice']].groupby('Customer ID', as_index = False).count()\n",
        "customer_wise_purchases_frequency_df.rename(columns = {'Invoice': 'Frequency'}, inplace = True)\n",
        "customer_wise_purchases_frequency_df"
      ],
      "execution_count": 56,
      "outputs": [
        {
          "output_type": "execute_result",
          "data": {
            "text/html": [
              "<div>\n",
              "<style scoped>\n",
              "    .dataframe tbody tr th:only-of-type {\n",
              "        vertical-align: middle;\n",
              "    }\n",
              "\n",
              "    .dataframe tbody tr th {\n",
              "        vertical-align: top;\n",
              "    }\n",
              "\n",
              "    .dataframe thead th {\n",
              "        text-align: right;\n",
              "    }\n",
              "</style>\n",
              "<table border=\"1\" class=\"dataframe\">\n",
              "  <thead>\n",
              "    <tr style=\"text-align: right;\">\n",
              "      <th></th>\n",
              "      <th>Customer ID</th>\n",
              "      <th>Frequency</th>\n",
              "    </tr>\n",
              "  </thead>\n",
              "  <tbody>\n",
              "    <tr>\n",
              "      <th>0</th>\n",
              "      <td>12346.0</td>\n",
              "      <td>34</td>\n",
              "    </tr>\n",
              "    <tr>\n",
              "      <th>1</th>\n",
              "      <td>12347.0</td>\n",
              "      <td>253</td>\n",
              "    </tr>\n",
              "    <tr>\n",
              "      <th>2</th>\n",
              "      <td>12348.0</td>\n",
              "      <td>51</td>\n",
              "    </tr>\n",
              "    <tr>\n",
              "      <th>3</th>\n",
              "      <td>12349.0</td>\n",
              "      <td>175</td>\n",
              "    </tr>\n",
              "    <tr>\n",
              "      <th>4</th>\n",
              "      <td>12350.0</td>\n",
              "      <td>17</td>\n",
              "    </tr>\n",
              "    <tr>\n",
              "      <th>...</th>\n",
              "      <td>...</td>\n",
              "      <td>...</td>\n",
              "    </tr>\n",
              "    <tr>\n",
              "      <th>5876</th>\n",
              "      <td>18283.0</td>\n",
              "      <td>986</td>\n",
              "    </tr>\n",
              "    <tr>\n",
              "      <th>5877</th>\n",
              "      <td>18284.0</td>\n",
              "      <td>28</td>\n",
              "    </tr>\n",
              "    <tr>\n",
              "      <th>5878</th>\n",
              "      <td>18285.0</td>\n",
              "      <td>12</td>\n",
              "    </tr>\n",
              "    <tr>\n",
              "      <th>5879</th>\n",
              "      <td>18286.0</td>\n",
              "      <td>67</td>\n",
              "    </tr>\n",
              "    <tr>\n",
              "      <th>5880</th>\n",
              "      <td>18287.0</td>\n",
              "      <td>155</td>\n",
              "    </tr>\n",
              "  </tbody>\n",
              "</table>\n",
              "<p>5881 rows × 2 columns</p>\n",
              "</div>"
            ],
            "text/plain": [
              "      Customer ID  Frequency\n",
              "0         12346.0         34\n",
              "1         12347.0        253\n",
              "2         12348.0         51\n",
              "3         12349.0        175\n",
              "4         12350.0         17\n",
              "...           ...        ...\n",
              "5876      18283.0        986\n",
              "5877      18284.0         28\n",
              "5878      18285.0         12\n",
              "5879      18286.0         67\n",
              "5880      18287.0        155\n",
              "\n",
              "[5881 rows x 2 columns]"
            ]
          },
          "metadata": {},
          "execution_count": 56
        }
      ]
    },
    {
      "cell_type": "markdown",
      "metadata": {
        "id": "m7HEN0iCPQ9r"
      },
      "source": [
        "**Merge both frequency and Monetory columns with customer id**"
      ]
    },
    {
      "cell_type": "code",
      "metadata": {
        "colab": {
          "base_uri": "https://localhost:8080/",
          "height": 414
        },
        "id": "tSSRUvo9xaA8",
        "outputId": "a9a16685-013d-4572-cf11-a230145d1c13"
      },
      "source": [
        "merged_df = customer_wise_total_Amount_df.merge(customer_wise_purchases_frequency_df, on = \"Customer ID\", how = \"inner\")\n",
        "merged_df"
      ],
      "execution_count": 57,
      "outputs": [
        {
          "output_type": "execute_result",
          "data": {
            "text/html": [
              "<div>\n",
              "<style scoped>\n",
              "    .dataframe tbody tr th:only-of-type {\n",
              "        vertical-align: middle;\n",
              "    }\n",
              "\n",
              "    .dataframe tbody tr th {\n",
              "        vertical-align: top;\n",
              "    }\n",
              "\n",
              "    .dataframe thead th {\n",
              "        text-align: right;\n",
              "    }\n",
              "</style>\n",
              "<table border=\"1\" class=\"dataframe\">\n",
              "  <thead>\n",
              "    <tr style=\"text-align: right;\">\n",
              "      <th></th>\n",
              "      <th>Customer ID</th>\n",
              "      <th>Monetary</th>\n",
              "      <th>Frequency</th>\n",
              "    </tr>\n",
              "  </thead>\n",
              "  <tbody>\n",
              "    <tr>\n",
              "      <th>0</th>\n",
              "      <td>12346.0</td>\n",
              "      <td>77556.46</td>\n",
              "      <td>34</td>\n",
              "    </tr>\n",
              "    <tr>\n",
              "      <th>1</th>\n",
              "      <td>12347.0</td>\n",
              "      <td>5633.32</td>\n",
              "      <td>253</td>\n",
              "    </tr>\n",
              "    <tr>\n",
              "      <th>2</th>\n",
              "      <td>12348.0</td>\n",
              "      <td>2019.40</td>\n",
              "      <td>51</td>\n",
              "    </tr>\n",
              "    <tr>\n",
              "      <th>3</th>\n",
              "      <td>12349.0</td>\n",
              "      <td>4428.69</td>\n",
              "      <td>175</td>\n",
              "    </tr>\n",
              "    <tr>\n",
              "      <th>4</th>\n",
              "      <td>12350.0</td>\n",
              "      <td>334.40</td>\n",
              "      <td>17</td>\n",
              "    </tr>\n",
              "    <tr>\n",
              "      <th>...</th>\n",
              "      <td>...</td>\n",
              "      <td>...</td>\n",
              "      <td>...</td>\n",
              "    </tr>\n",
              "    <tr>\n",
              "      <th>5876</th>\n",
              "      <td>18283.0</td>\n",
              "      <td>2736.65</td>\n",
              "      <td>986</td>\n",
              "    </tr>\n",
              "    <tr>\n",
              "      <th>5877</th>\n",
              "      <td>18284.0</td>\n",
              "      <td>461.68</td>\n",
              "      <td>28</td>\n",
              "    </tr>\n",
              "    <tr>\n",
              "      <th>5878</th>\n",
              "      <td>18285.0</td>\n",
              "      <td>427.00</td>\n",
              "      <td>12</td>\n",
              "    </tr>\n",
              "    <tr>\n",
              "      <th>5879</th>\n",
              "      <td>18286.0</td>\n",
              "      <td>1296.43</td>\n",
              "      <td>67</td>\n",
              "    </tr>\n",
              "    <tr>\n",
              "      <th>5880</th>\n",
              "      <td>18287.0</td>\n",
              "      <td>4182.99</td>\n",
              "      <td>155</td>\n",
              "    </tr>\n",
              "  </tbody>\n",
              "</table>\n",
              "<p>5881 rows × 3 columns</p>\n",
              "</div>"
            ],
            "text/plain": [
              "      Customer ID  Monetary  Frequency\n",
              "0         12346.0  77556.46         34\n",
              "1         12347.0   5633.32        253\n",
              "2         12348.0   2019.40         51\n",
              "3         12349.0   4428.69        175\n",
              "4         12350.0    334.40         17\n",
              "...           ...       ...        ...\n",
              "5876      18283.0   2736.65        986\n",
              "5877      18284.0    461.68         28\n",
              "5878      18285.0    427.00         12\n",
              "5879      18286.0   1296.43         67\n",
              "5880      18287.0   4182.99        155\n",
              "\n",
              "[5881 rows x 3 columns]"
            ]
          },
          "metadata": {},
          "execution_count": 57
        }
      ]
    },
    {
      "cell_type": "markdown",
      "metadata": {
        "id": "USCG8RB3PhK8"
      },
      "source": [
        "**Finding Last purchasing date**"
      ]
    },
    {
      "cell_type": "code",
      "metadata": {
        "colab": {
          "base_uri": "https://localhost:8080/",
          "height": 414
        },
        "id": "uyhb3-4_yRzl",
        "outputId": "1f54607a-92ed-4585-e0ce-d8fd19494b8f"
      },
      "source": [
        "last_purchase_df = df_new[['Customer ID', 'InvoiceDate']].groupby('Customer ID', as_index = False).max()\n",
        "last_purchase_df.rename(columns = {'InvoiceDate': 'Last_Purchase_Date'}, inplace = True)\n",
        "last_purchase_df"
      ],
      "execution_count": 58,
      "outputs": [
        {
          "output_type": "execute_result",
          "data": {
            "text/html": [
              "<div>\n",
              "<style scoped>\n",
              "    .dataframe tbody tr th:only-of-type {\n",
              "        vertical-align: middle;\n",
              "    }\n",
              "\n",
              "    .dataframe tbody tr th {\n",
              "        vertical-align: top;\n",
              "    }\n",
              "\n",
              "    .dataframe thead th {\n",
              "        text-align: right;\n",
              "    }\n",
              "</style>\n",
              "<table border=\"1\" class=\"dataframe\">\n",
              "  <thead>\n",
              "    <tr style=\"text-align: right;\">\n",
              "      <th></th>\n",
              "      <th>Customer ID</th>\n",
              "      <th>Last_Purchase_Date</th>\n",
              "    </tr>\n",
              "  </thead>\n",
              "  <tbody>\n",
              "    <tr>\n",
              "      <th>0</th>\n",
              "      <td>12346.0</td>\n",
              "      <td>2011-01-18 10:01:00</td>\n",
              "    </tr>\n",
              "    <tr>\n",
              "      <th>1</th>\n",
              "      <td>12347.0</td>\n",
              "      <td>2011-12-07 15:52:00</td>\n",
              "    </tr>\n",
              "    <tr>\n",
              "      <th>2</th>\n",
              "      <td>12348.0</td>\n",
              "      <td>2011-09-25 13:13:00</td>\n",
              "    </tr>\n",
              "    <tr>\n",
              "      <th>3</th>\n",
              "      <td>12349.0</td>\n",
              "      <td>2011-11-21 09:51:00</td>\n",
              "    </tr>\n",
              "    <tr>\n",
              "      <th>4</th>\n",
              "      <td>12350.0</td>\n",
              "      <td>2011-02-02 16:01:00</td>\n",
              "    </tr>\n",
              "    <tr>\n",
              "      <th>...</th>\n",
              "      <td>...</td>\n",
              "      <td>...</td>\n",
              "    </tr>\n",
              "    <tr>\n",
              "      <th>5876</th>\n",
              "      <td>18283.0</td>\n",
              "      <td>2011-12-06 12:02:00</td>\n",
              "    </tr>\n",
              "    <tr>\n",
              "      <th>5877</th>\n",
              "      <td>18284.0</td>\n",
              "      <td>2010-10-04 11:33:00</td>\n",
              "    </tr>\n",
              "    <tr>\n",
              "      <th>5878</th>\n",
              "      <td>18285.0</td>\n",
              "      <td>2010-02-17 10:24:00</td>\n",
              "    </tr>\n",
              "    <tr>\n",
              "      <th>5879</th>\n",
              "      <td>18286.0</td>\n",
              "      <td>2010-08-20 11:57:00</td>\n",
              "    </tr>\n",
              "    <tr>\n",
              "      <th>5880</th>\n",
              "      <td>18287.0</td>\n",
              "      <td>2011-10-28 09:29:00</td>\n",
              "    </tr>\n",
              "  </tbody>\n",
              "</table>\n",
              "<p>5881 rows × 2 columns</p>\n",
              "</div>"
            ],
            "text/plain": [
              "      Customer ID  Last_Purchase_Date\n",
              "0         12346.0 2011-01-18 10:01:00\n",
              "1         12347.0 2011-12-07 15:52:00\n",
              "2         12348.0 2011-09-25 13:13:00\n",
              "3         12349.0 2011-11-21 09:51:00\n",
              "4         12350.0 2011-02-02 16:01:00\n",
              "...           ...                 ...\n",
              "5876      18283.0 2011-12-06 12:02:00\n",
              "5877      18284.0 2010-10-04 11:33:00\n",
              "5878      18285.0 2010-02-17 10:24:00\n",
              "5879      18286.0 2010-08-20 11:57:00\n",
              "5880      18287.0 2011-10-28 09:29:00\n",
              "\n",
              "[5881 rows x 2 columns]"
            ]
          },
          "metadata": {},
          "execution_count": 58
        }
      ]
    },
    {
      "cell_type": "markdown",
      "metadata": {
        "id": "3RELGlfVPnzc"
      },
      "source": [
        "**Difference of days b/w Invice date and last purchasing date in terms of date**"
      ]
    },
    {
      "cell_type": "code",
      "metadata": {
        "colab": {
          "base_uri": "https://localhost:8080/"
        },
        "id": "oZQaipn5zeta",
        "outputId": "94bb8fd2-5a94-4ce2-8d67-4db130db7d4b"
      },
      "source": [
        "days_since_last_purchase = df_new['InvoiceDate'].max() - last_purchase_df['Last_Purchase_Date'] \n",
        "days_since_last_purchase = days_since_last_purchase + pd.Timedelta(\"1 days\")\n",
        "days_since_last_purchase"
      ],
      "execution_count": 59,
      "outputs": [
        {
          "output_type": "execute_result",
          "data": {
            "text/plain": [
              "0      326 days 02:49:00\n",
              "1        2 days 20:58:00\n",
              "2       75 days 23:37:00\n",
              "3       19 days 02:59:00\n",
              "4      310 days 20:49:00\n",
              "              ...       \n",
              "5876     4 days 00:48:00\n",
              "5877   432 days 01:17:00\n",
              "5878   661 days 02:26:00\n",
              "5879   477 days 00:53:00\n",
              "5880    43 days 03:21:00\n",
              "Name: Last_Purchase_Date, Length: 5881, dtype: timedelta64[ns]"
            ]
          },
          "metadata": {},
          "execution_count": 59
        }
      ]
    },
    {
      "cell_type": "code",
      "metadata": {
        "colab": {
          "base_uri": "https://localhost:8080/"
        },
        "id": "KAT3l5fLzzy5",
        "outputId": "a2b05637-f0c8-4575-98f3-ed8e426e68b1"
      },
      "source": [
        "time_diff_in_days = pd.Series(data = [d.days for d in days_since_last_purchase], index = merged_df.index)\n",
        "time_diff_in_days"
      ],
      "execution_count": 60,
      "outputs": [
        {
          "output_type": "execute_result",
          "data": {
            "text/plain": [
              "0       326\n",
              "1         2\n",
              "2        75\n",
              "3        19\n",
              "4       310\n",
              "       ... \n",
              "5876      4\n",
              "5877    432\n",
              "5878    661\n",
              "5879    477\n",
              "5880     43\n",
              "Length: 5881, dtype: int64"
            ]
          },
          "metadata": {},
          "execution_count": 60
        }
      ]
    },
    {
      "cell_type": "markdown",
      "metadata": {
        "id": "l2JwmhtnP6GM"
      },
      "source": [
        "**Merge Recency columns**"
      ]
    },
    {
      "cell_type": "code",
      "metadata": {
        "colab": {
          "base_uri": "https://localhost:8080/",
          "height": 202
        },
        "id": "fyVvjkRp0Pf5",
        "outputId": "88278edd-d7cf-47b3-8db8-586a8e997c8b"
      },
      "source": [
        "merged_df['Recency'] = time_diff_in_days\n",
        "merged_df.head()"
      ],
      "execution_count": 61,
      "outputs": [
        {
          "output_type": "execute_result",
          "data": {
            "text/html": [
              "<div>\n",
              "<style scoped>\n",
              "    .dataframe tbody tr th:only-of-type {\n",
              "        vertical-align: middle;\n",
              "    }\n",
              "\n",
              "    .dataframe tbody tr th {\n",
              "        vertical-align: top;\n",
              "    }\n",
              "\n",
              "    .dataframe thead th {\n",
              "        text-align: right;\n",
              "    }\n",
              "</style>\n",
              "<table border=\"1\" class=\"dataframe\">\n",
              "  <thead>\n",
              "    <tr style=\"text-align: right;\">\n",
              "      <th></th>\n",
              "      <th>Customer ID</th>\n",
              "      <th>Monetary</th>\n",
              "      <th>Frequency</th>\n",
              "      <th>Recency</th>\n",
              "    </tr>\n",
              "  </thead>\n",
              "  <tbody>\n",
              "    <tr>\n",
              "      <th>0</th>\n",
              "      <td>12346.0</td>\n",
              "      <td>77556.46</td>\n",
              "      <td>34</td>\n",
              "      <td>326</td>\n",
              "    </tr>\n",
              "    <tr>\n",
              "      <th>1</th>\n",
              "      <td>12347.0</td>\n",
              "      <td>5633.32</td>\n",
              "      <td>253</td>\n",
              "      <td>2</td>\n",
              "    </tr>\n",
              "    <tr>\n",
              "      <th>2</th>\n",
              "      <td>12348.0</td>\n",
              "      <td>2019.40</td>\n",
              "      <td>51</td>\n",
              "      <td>75</td>\n",
              "    </tr>\n",
              "    <tr>\n",
              "      <th>3</th>\n",
              "      <td>12349.0</td>\n",
              "      <td>4428.69</td>\n",
              "      <td>175</td>\n",
              "      <td>19</td>\n",
              "    </tr>\n",
              "    <tr>\n",
              "      <th>4</th>\n",
              "      <td>12350.0</td>\n",
              "      <td>334.40</td>\n",
              "      <td>17</td>\n",
              "      <td>310</td>\n",
              "    </tr>\n",
              "  </tbody>\n",
              "</table>\n",
              "</div>"
            ],
            "text/plain": [
              "   Customer ID  Monetary  Frequency  Recency\n",
              "0      12346.0  77556.46         34      326\n",
              "1      12347.0   5633.32        253        2\n",
              "2      12348.0   2019.40         51       75\n",
              "3      12349.0   4428.69        175       19\n",
              "4      12350.0    334.40         17      310"
            ]
          },
          "metadata": {},
          "execution_count": 61
        }
      ]
    },
    {
      "cell_type": "markdown",
      "metadata": {
        "id": "Pf0xxSiBQgD-"
      },
      "source": [
        "**Chech null value**"
      ]
    },
    {
      "cell_type": "code",
      "metadata": {
        "colab": {
          "base_uri": "https://localhost:8080/"
        },
        "id": "bRSCZVb_0aSB",
        "outputId": "2f026b17-f0c7-4379-83f1-46f1b98957b9"
      },
      "source": [
        "merged_df.isnull().sum()"
      ],
      "execution_count": 62,
      "outputs": [
        {
          "output_type": "execute_result",
          "data": {
            "text/plain": [
              "Customer ID    0\n",
              "Monetary       0\n",
              "Frequency      0\n",
              "Recency        0\n",
              "dtype: int64"
            ]
          },
          "metadata": {},
          "execution_count": 62
        }
      ]
    },
    {
      "cell_type": "markdown",
      "metadata": {
        "id": "8KNfgDiH3wXv"
      },
      "source": [
        "**Frequency Statistics**"
      ]
    },
    {
      "cell_type": "code",
      "metadata": {
        "colab": {
          "base_uri": "https://localhost:8080/"
        },
        "id": "NVRyNHNG31UM",
        "outputId": "535e58f8-b3ee-4176-e278-f2637d617787"
      },
      "source": [
        "merged_df.Frequency.describe()"
      ],
      "execution_count": 63,
      "outputs": [
        {
          "output_type": "execute_result",
          "data": {
            "text/plain": [
              "count     5881.000000\n",
              "mean       136.986907\n",
              "std        353.779018\n",
              "min          1.000000\n",
              "25%         21.000000\n",
              "50%         53.000000\n",
              "75%        142.000000\n",
              "max      12890.000000\n",
              "Name: Frequency, dtype: float64"
            ]
          },
          "metadata": {},
          "execution_count": 63
        }
      ]
    },
    {
      "cell_type": "markdown",
      "metadata": {
        "id": "blb1pk2L4A84"
      },
      "source": [
        "\n",
        "**Frequency distribution plot**"
      ]
    },
    {
      "cell_type": "code",
      "metadata": {
        "id": "HzBn18L14gQp"
      },
      "source": [
        "import seaborn as sns"
      ],
      "execution_count": 64,
      "outputs": []
    },
    {
      "cell_type": "code",
      "metadata": {
        "colab": {
          "base_uri": "https://localhost:8080/",
          "height": 334
        },
        "id": "e9mgArpB4HBx",
        "outputId": "f7e8f529-ee1d-4e8e-bb93-9a3e59306964"
      },
      "source": [
        "#Frequency distribution plot, taking observations which have frequency less than 1000\n",
        "x = merged_df.query('Frequency < 1000')['Frequency']\n",
        "\n",
        "ax = sns.distplot(x)"
      ],
      "execution_count": 65,
      "outputs": [
        {
          "output_type": "stream",
          "name": "stderr",
          "text": [
            "/usr/local/lib/python3.7/dist-packages/seaborn/distributions.py:2619: FutureWarning: `distplot` is a deprecated function and will be removed in a future version. Please adapt your code to use either `displot` (a figure-level function with similar flexibility) or `histplot` (an axes-level function for histograms).\n",
            "  warnings.warn(msg, FutureWarning)\n"
          ]
        },
        {
          "output_type": "display_data",
          "data": {
            "image/png": "[encoded data removed]",
            "text/plain": [
              "<Figure size 432x288 with 1 Axes>"
            ]
          },
          "metadata": {
            "needs_background": "light"
          }
        }
      ]
    },
    {
      "cell_type": "markdown",
      "metadata": {
        "id": "MClxQ6Nx6a2D"
      },
      "source": [
        "**Descriptive Statistics (Monetary)**"
      ]
    },
    {
      "cell_type": "code",
      "metadata": {
        "colab": {
          "base_uri": "https://localhost:8080/"
        },
        "id": "QJZtBu0m6YoK",
        "outputId": "80ada54f-1c51-4424-eaba-89d04fd21fcf"
      },
      "source": [
        "merged_df.Monetary.describe()"
      ],
      "execution_count": 66,
      "outputs": [
        {
          "output_type": "execute_result",
          "data": {
            "text/plain": [
              "count      5881.000000\n",
              "mean       3017.076888\n",
              "std       14734.128619\n",
              "min           0.000000\n",
              "25%         347.800000\n",
              "50%         897.620000\n",
              "75%        2304.180000\n",
              "max      608821.650000\n",
              "Name: Monetary, dtype: float64"
            ]
          },
          "metadata": {},
          "execution_count": 66
        }
      ]
    },
    {
      "cell_type": "markdown",
      "metadata": {
        "id": "MR0jg4Zx1-CA"
      },
      "source": [
        "**Recency Statistics**"
      ]
    },
    {
      "cell_type": "code",
      "metadata": {
        "colab": {
          "base_uri": "https://localhost:8080/"
        },
        "id": "PZOSE1rP08vC",
        "outputId": "7d08ffee-a44d-4fa3-f711-bad5aa719e74"
      },
      "source": [
        "merged_df.Recency.describe()"
      ],
      "execution_count": 67,
      "outputs": [
        {
          "output_type": "execute_result",
          "data": {
            "text/plain": [
              "count    5881.000000\n",
              "mean      201.457745\n",
              "std       209.474135\n",
              "min         1.000000\n",
              "25%        26.000000\n",
              "50%        96.000000\n",
              "75%       380.000000\n",
              "max       739.000000\n",
              "Name: Recency, dtype: float64"
            ]
          },
          "metadata": {},
          "execution_count": 67
        }
      ]
    },
    {
      "cell_type": "markdown",
      "metadata": {
        "id": "avFe4FnFREE4"
      },
      "source": [
        "**Monateray distribution Plot**"
      ]
    },
    {
      "cell_type": "code",
      "metadata": {
        "colab": {
          "base_uri": "https://localhost:8080/",
          "height": 334
        },
        "id": "kM4ImEBH6sLx",
        "outputId": "823e60e0-dbf8-4eab-d366-de8680cb4b74"
      },
      "source": [
        "#Monateray distribution plot, taking observations which have monetary value less than 10000\n",
        "x = merged_df.query('Monetary < 10000')['Monetary']\n",
        "\n",
        "ax = sns.distplot(x)"
      ],
      "execution_count": 69,
      "outputs": [
        {
          "output_type": "stream",
          "name": "stderr",
          "text": [
            "/usr/local/lib/python3.7/dist-packages/seaborn/distributions.py:2619: FutureWarning: `distplot` is a deprecated function and will be removed in a future version. Please adapt your code to use either `displot` (a figure-level function with similar flexibility) or `histplot` (an axes-level function for histograms).\n",
            "  warnings.warn(msg, FutureWarning)\n"
          ]
        },
        {
          "output_type": "display_data",
          "data": {
            "image/png": "[encoded data removed]",
            "text/plain": [
              "<Figure size 432x288 with 1 Axes>"
            ]
          },
          "metadata": {
            "needs_background": "light"
          }
        }
      ]
    },
    {
      "cell_type": "markdown",
      "metadata": {
        "id": "sNt47Kcq2RS-"
      },
      "source": [
        "**Recency distribution plot**"
      ]
    },
    {
      "cell_type": "code",
      "metadata": {
        "colab": {
          "base_uri": "https://localhost:8080/",
          "height": 368
        },
        "id": "GYWWhRhT19Co",
        "outputId": "4fd8b926-4060-45b7-9ea0-3f5a34dce08d"
      },
      "source": [
        "x = merged_df['Recency']\n",
        "\n",
        "ax = sns.displot(x)"
      ],
      "execution_count": 70,
      "outputs": [
        {
          "output_type": "display_data",
          "data": {
            "image/png": "[encoded data removed]",
            "text/plain": [
              "<Figure size 360x360 with 1 Axes>"
            ]
          },
          "metadata": {
            "needs_background": "light"
          }
        }
      ]
    },
    {
      "cell_type": "markdown",
      "metadata": {
        "id": "sE589rxc-l4v"
      },
      "source": [
        "**Split into 4 segments using quantiles**"
      ]
    },
    {
      "cell_type": "code",
      "metadata": {
        "id": "JmYsYDQI2dQw"
      },
      "source": [
        "quantiles = merged_df.quantile(q=[0.25,0.50,0.75])\n",
        "quantiles = quantiles.to_dict()"
      ],
      "execution_count": 71,
      "outputs": []
    },
    {
      "cell_type": "code",
      "metadata": {
        "colab": {
          "base_uri": "https://localhost:8080/"
        },
        "id": "wy4zcJiL-1np",
        "outputId": "9b6e9bdb-1847-497d-cd82-809cfc1be456"
      },
      "source": [
        "quantiles"
      ],
      "execution_count": 72,
      "outputs": [
        {
          "output_type": "execute_result",
          "data": {
            "text/plain": [
              "{'Customer ID': {0.25: 13833.0, 0.5: 15313.0, 0.75: 16797.0},\n",
              " 'Frequency': {0.25: 21.0, 0.5: 53.0, 0.75: 142.0},\n",
              " 'Monetary': {0.25: 347.8, 0.5: 897.6200000000003, 0.75: 2304.1799999999994},\n",
              " 'Recency': {0.25: 26.0, 0.5: 96.0, 0.75: 380.0}}"
            ]
          },
          "metadata": {},
          "execution_count": 72
        }
      ]
    },
    {
      "cell_type": "markdown",
      "metadata": {
        "id": "Bcpm6LLU_Ya9"
      },
      "source": [
        "**Functions to create R, F and M segments**"
      ]
    },
    {
      "cell_type": "code",
      "metadata": {
        "id": "nMLDcVAu-_SP"
      },
      "source": [
        "#RScoring\n",
        "def RScoring(x,p,d):\n",
        "    if x <= d[p][0.25]:\n",
        "        return 1\n",
        "    elif x <= d[p][0.50]:\n",
        "        return 2\n",
        "    elif x <= d[p][0.75]: \n",
        "        return 3\n",
        "    else:\n",
        "        return 4"
      ],
      "execution_count": 73,
      "outputs": []
    },
    {
      "cell_type": "code",
      "metadata": {
        "id": "qvGqb3Az_plr"
      },
      "source": [
        "#FScoring    \n",
        "def FnMScoring(x,p,d):\n",
        "    if x <= d[p][0.25]:\n",
        "        return 4\n",
        "    elif x <= d[p][0.50]:\n",
        "        return 3\n",
        "    elif x <= d[p][0.75]: \n",
        "        return 2\n",
        "    else:\n",
        "        return 1"
      ],
      "execution_count": 74,
      "outputs": []
    },
    {
      "cell_type": "markdown",
      "metadata": {
        "id": "Hnaaiz9WAX0D"
      },
      "source": [
        "**Calculate and Add R, F and M segment value columns in the existing dataset to show R, F and M segment values**"
      ]
    },
    {
      "cell_type": "code",
      "metadata": {
        "id": "0RzF8SVa_rUX"
      },
      "source": [
        "merged_df['R'] = merged_df['Recency'].apply(RScoring, args=('Recency',quantiles,))\n",
        "merged_df['F'] = merged_df['Frequency'].apply(FnMScoring, args=('Frequency',quantiles,))\n",
        "merged_df['M'] = merged_df['Monetary'].apply(FnMScoring, args=('Monetary',quantiles,))"
      ],
      "execution_count": 75,
      "outputs": []
    },
    {
      "cell_type": "code",
      "metadata": {
        "colab": {
          "base_uri": "https://localhost:8080/",
          "height": 202
        },
        "id": "GHV0aENYAZj4",
        "outputId": "b93793c1-2689-4a9b-d31a-43efb999605d"
      },
      "source": [
        "merged_df.head()"
      ],
      "execution_count": 76,
      "outputs": [
        {
          "output_type": "execute_result",
          "data": {
            "text/html": [
              "<div>\n",
              "<style scoped>\n",
              "    .dataframe tbody tr th:only-of-type {\n",
              "        vertical-align: middle;\n",
              "    }\n",
              "\n",
              "    .dataframe tbody tr th {\n",
              "        vertical-align: top;\n",
              "    }\n",
              "\n",
              "    .dataframe thead th {\n",
              "        text-align: right;\n",
              "    }\n",
              "</style>\n",
              "<table border=\"1\" class=\"dataframe\">\n",
              "  <thead>\n",
              "    <tr style=\"text-align: right;\">\n",
              "      <th></th>\n",
              "      <th>Customer ID</th>\n",
              "      <th>Monetary</th>\n",
              "      <th>Frequency</th>\n",
              "      <th>Recency</th>\n",
              "      <th>R</th>\n",
              "      <th>F</th>\n",
              "      <th>M</th>\n",
              "    </tr>\n",
              "  </thead>\n",
              "  <tbody>\n",
              "    <tr>\n",
              "      <th>0</th>\n",
              "      <td>12346.0</td>\n",
              "      <td>77556.46</td>\n",
              "      <td>34</td>\n",
              "      <td>326</td>\n",
              "      <td>3</td>\n",
              "      <td>3</td>\n",
              "      <td>1</td>\n",
              "    </tr>\n",
              "    <tr>\n",
              "      <th>1</th>\n",
              "      <td>12347.0</td>\n",
              "      <td>5633.32</td>\n",
              "      <td>253</td>\n",
              "      <td>2</td>\n",
              "      <td>1</td>\n",
              "      <td>1</td>\n",
              "      <td>1</td>\n",
              "    </tr>\n",
              "    <tr>\n",
              "      <th>2</th>\n",
              "      <td>12348.0</td>\n",
              "      <td>2019.40</td>\n",
              "      <td>51</td>\n",
              "      <td>75</td>\n",
              "      <td>2</td>\n",
              "      <td>3</td>\n",
              "      <td>2</td>\n",
              "    </tr>\n",
              "    <tr>\n",
              "      <th>3</th>\n",
              "      <td>12349.0</td>\n",
              "      <td>4428.69</td>\n",
              "      <td>175</td>\n",
              "      <td>19</td>\n",
              "      <td>1</td>\n",
              "      <td>1</td>\n",
              "      <td>1</td>\n",
              "    </tr>\n",
              "    <tr>\n",
              "      <th>4</th>\n",
              "      <td>12350.0</td>\n",
              "      <td>334.40</td>\n",
              "      <td>17</td>\n",
              "      <td>310</td>\n",
              "      <td>3</td>\n",
              "      <td>4</td>\n",
              "      <td>4</td>\n",
              "    </tr>\n",
              "  </tbody>\n",
              "</table>\n",
              "</div>"
            ],
            "text/plain": [
              "   Customer ID  Monetary  Frequency  Recency  R  F  M\n",
              "0      12346.0  77556.46         34      326  3  3  1\n",
              "1      12347.0   5633.32        253        2  1  1  1\n",
              "2      12348.0   2019.40         51       75  2  3  2\n",
              "3      12349.0   4428.69        175       19  1  1  1\n",
              "4      12350.0    334.40         17      310  3  4  4"
            ]
          },
          "metadata": {},
          "execution_count": 76
        }
      ]
    },
    {
      "cell_type": "markdown",
      "metadata": {
        "id": "PjSCacxLBf23"
      },
      "source": [
        "**Calculate and Add RFM Group value column showing combined concatenated score of RFM**"
      ]
    },
    {
      "cell_type": "code",
      "metadata": {
        "colab": {
          "base_uri": "https://localhost:8080/",
          "height": 202
        },
        "id": "fHRPoljSAzIr",
        "outputId": "66078252-e82f-43cb-ad64-23aa3ca917cd"
      },
      "source": [
        "merged_df['RFMGroup'] = merged_df.R.map(str) + merged_df.F.map(str) + merged_df.M.map(str)\n",
        "\n",
        "#Calculate and Add RFMScore value column showing total sum of RFMGroup values\n",
        "merged_df['RFMScore'] = merged_df[['R', 'F', 'M']].sum(axis = 1)\n",
        "merged_df.head()"
      ],
      "execution_count": 77,
      "outputs": [
        {
          "output_type": "execute_result",
          "data": {
            "text/html": [
              "<div>\n",
              "<style scoped>\n",
              "    .dataframe tbody tr th:only-of-type {\n",
              "        vertical-align: middle;\n",
              "    }\n",
              "\n",
              "    .dataframe tbody tr th {\n",
              "        vertical-align: top;\n",
              "    }\n",
              "\n",
              "    .dataframe thead th {\n",
              "        text-align: right;\n",
              "    }\n",
              "</style>\n",
              "<table border=\"1\" class=\"dataframe\">\n",
              "  <thead>\n",
              "    <tr style=\"text-align: right;\">\n",
              "      <th></th>\n",
              "      <th>Customer ID</th>\n",
              "      <th>Monetary</th>\n",
              "      <th>Frequency</th>\n",
              "      <th>Recency</th>\n",
              "      <th>R</th>\n",
              "      <th>F</th>\n",
              "      <th>M</th>\n",
              "      <th>RFMGroup</th>\n",
              "      <th>RFMScore</th>\n",
              "    </tr>\n",
              "  </thead>\n",
              "  <tbody>\n",
              "    <tr>\n",
              "      <th>0</th>\n",
              "      <td>12346.0</td>\n",
              "      <td>77556.46</td>\n",
              "      <td>34</td>\n",
              "      <td>326</td>\n",
              "      <td>3</td>\n",
              "      <td>3</td>\n",
              "      <td>1</td>\n",
              "      <td>331</td>\n",
              "      <td>7</td>\n",
              "    </tr>\n",
              "    <tr>\n",
              "      <th>1</th>\n",
              "      <td>12347.0</td>\n",
              "      <td>5633.32</td>\n",
              "      <td>253</td>\n",
              "      <td>2</td>\n",
              "      <td>1</td>\n",
              "      <td>1</td>\n",
              "      <td>1</td>\n",
              "      <td>111</td>\n",
              "      <td>3</td>\n",
              "    </tr>\n",
              "    <tr>\n",
              "      <th>2</th>\n",
              "      <td>12348.0</td>\n",
              "      <td>2019.40</td>\n",
              "      <td>51</td>\n",
              "      <td>75</td>\n",
              "      <td>2</td>\n",
              "      <td>3</td>\n",
              "      <td>2</td>\n",
              "      <td>232</td>\n",
              "      <td>7</td>\n",
              "    </tr>\n",
              "    <tr>\n",
              "      <th>3</th>\n",
              "      <td>12349.0</td>\n",
              "      <td>4428.69</td>\n",
              "      <td>175</td>\n",
              "      <td>19</td>\n",
              "      <td>1</td>\n",
              "      <td>1</td>\n",
              "      <td>1</td>\n",
              "      <td>111</td>\n",
              "      <td>3</td>\n",
              "    </tr>\n",
              "    <tr>\n",
              "      <th>4</th>\n",
              "      <td>12350.0</td>\n",
              "      <td>334.40</td>\n",
              "      <td>17</td>\n",
              "      <td>310</td>\n",
              "      <td>3</td>\n",
              "      <td>4</td>\n",
              "      <td>4</td>\n",
              "      <td>344</td>\n",
              "      <td>11</td>\n",
              "    </tr>\n",
              "  </tbody>\n",
              "</table>\n",
              "</div>"
            ],
            "text/plain": [
              "   Customer ID  Monetary  Frequency  Recency  R  F  M RFMGroup  RFMScore\n",
              "0      12346.0  77556.46         34      326  3  3  1      331         7\n",
              "1      12347.0   5633.32        253        2  1  1  1      111         3\n",
              "2      12348.0   2019.40         51       75  2  3  2      232         7\n",
              "3      12349.0   4428.69        175       19  1  1  1      111         3\n",
              "4      12350.0    334.40         17      310  3  4  4      344        11"
            ]
          },
          "metadata": {},
          "execution_count": 77
        }
      ]
    },
    {
      "cell_type": "code",
      "metadata": {
        "colab": {
          "base_uri": "https://localhost:8080/",
          "height": 414
        },
        "id": "Rkaizph2FTbM",
        "outputId": "bd8a7a80-7eff-4f09-fa31-847a78ae9695"
      },
      "source": [
        "merged_df.sort_values(by=['RFMGroup'])"
      ],
      "execution_count": 98,
      "outputs": [
        {
          "output_type": "execute_result",
          "data": {
            "text/html": [
              "<div>\n",
              "<style scoped>\n",
              "    .dataframe tbody tr th:only-of-type {\n",
              "        vertical-align: middle;\n",
              "    }\n",
              "\n",
              "    .dataframe tbody tr th {\n",
              "        vertical-align: top;\n",
              "    }\n",
              "\n",
              "    .dataframe thead th {\n",
              "        text-align: right;\n",
              "    }\n",
              "</style>\n",
              "<table border=\"1\" class=\"dataframe\">\n",
              "  <thead>\n",
              "    <tr style=\"text-align: right;\">\n",
              "      <th></th>\n",
              "      <th>Customer ID</th>\n",
              "      <th>Monetary</th>\n",
              "      <th>Frequency</th>\n",
              "      <th>Recency</th>\n",
              "      <th>R</th>\n",
              "      <th>F</th>\n",
              "      <th>M</th>\n",
              "      <th>RFMGroup</th>\n",
              "      <th>RFMScore</th>\n",
              "      <th>RFM_Loyalty_Level</th>\n",
              "    </tr>\n",
              "  </thead>\n",
              "  <tbody>\n",
              "    <tr>\n",
              "      <th>1283</th>\n",
              "      <td>13644.0</td>\n",
              "      <td>2624.26</td>\n",
              "      <td>146</td>\n",
              "      <td>16</td>\n",
              "      <td>1</td>\n",
              "      <td>1</td>\n",
              "      <td>1</td>\n",
              "      <td>111</td>\n",
              "      <td>3</td>\n",
              "      <td>Platinum</td>\n",
              "    </tr>\n",
              "    <tr>\n",
              "      <th>2658</th>\n",
              "      <td>15031.0</td>\n",
              "      <td>3156.58</td>\n",
              "      <td>405</td>\n",
              "      <td>4</td>\n",
              "      <td>1</td>\n",
              "      <td>1</td>\n",
              "      <td>1</td>\n",
              "      <td>111</td>\n",
              "      <td>3</td>\n",
              "      <td>Platinum</td>\n",
              "    </tr>\n",
              "    <tr>\n",
              "      <th>493</th>\n",
              "      <td>12841.0</td>\n",
              "      <td>7540.68</td>\n",
              "      <td>702</td>\n",
              "      <td>5</td>\n",
              "      <td>1</td>\n",
              "      <td>1</td>\n",
              "      <td>1</td>\n",
              "      <td>111</td>\n",
              "      <td>3</td>\n",
              "      <td>Platinum</td>\n",
              "    </tr>\n",
              "    <tr>\n",
              "      <th>5259</th>\n",
              "      <td>17663.0</td>\n",
              "      <td>5175.83</td>\n",
              "      <td>238</td>\n",
              "      <td>26</td>\n",
              "      <td>1</td>\n",
              "      <td>1</td>\n",
              "      <td>1</td>\n",
              "      <td>111</td>\n",
              "      <td>3</td>\n",
              "      <td>Platinum</td>\n",
              "    </tr>\n",
              "    <tr>\n",
              "      <th>2651</th>\n",
              "      <td>15024.0</td>\n",
              "      <td>4075.51</td>\n",
              "      <td>371</td>\n",
              "      <td>10</td>\n",
              "      <td>1</td>\n",
              "      <td>1</td>\n",
              "      <td>1</td>\n",
              "      <td>111</td>\n",
              "      <td>3</td>\n",
              "      <td>Platinum</td>\n",
              "    </tr>\n",
              "    <tr>\n",
              "      <th>...</th>\n",
              "      <td>...</td>\n",
              "      <td>...</td>\n",
              "      <td>...</td>\n",
              "      <td>...</td>\n",
              "      <td>...</td>\n",
              "      <td>...</td>\n",
              "      <td>...</td>\n",
              "      <td>...</td>\n",
              "      <td>...</td>\n",
              "      <td>...</td>\n",
              "    </tr>\n",
              "    <tr>\n",
              "      <th>620</th>\n",
              "      <td>12969.0</td>\n",
              "      <td>122.45</td>\n",
              "      <td>5</td>\n",
              "      <td>603</td>\n",
              "      <td>4</td>\n",
              "      <td>4</td>\n",
              "      <td>4</td>\n",
              "      <td>444</td>\n",
              "      <td>12</td>\n",
              "      <td>Bronze</td>\n",
              "    </tr>\n",
              "    <tr>\n",
              "      <th>3001</th>\n",
              "      <td>15375.0</td>\n",
              "      <td>60.96</td>\n",
              "      <td>6</td>\n",
              "      <td>690</td>\n",
              "      <td>4</td>\n",
              "      <td>4</td>\n",
              "      <td>4</td>\n",
              "      <td>444</td>\n",
              "      <td>12</td>\n",
              "      <td>Bronze</td>\n",
              "    </tr>\n",
              "    <tr>\n",
              "      <th>2536</th>\n",
              "      <td>14906.0</td>\n",
              "      <td>68.44</td>\n",
              "      <td>1</td>\n",
              "      <td>445</td>\n",
              "      <td>4</td>\n",
              "      <td>4</td>\n",
              "      <td>4</td>\n",
              "      <td>444</td>\n",
              "      <td>12</td>\n",
              "      <td>Bronze</td>\n",
              "    </tr>\n",
              "    <tr>\n",
              "      <th>585</th>\n",
              "      <td>12934.0</td>\n",
              "      <td>181.65</td>\n",
              "      <td>2</td>\n",
              "      <td>737</td>\n",
              "      <td>4</td>\n",
              "      <td>4</td>\n",
              "      <td>4</td>\n",
              "      <td>444</td>\n",
              "      <td>12</td>\n",
              "      <td>Bronze</td>\n",
              "    </tr>\n",
              "    <tr>\n",
              "      <th>1498</th>\n",
              "      <td>13861.0</td>\n",
              "      <td>273.26</td>\n",
              "      <td>21</td>\n",
              "      <td>429</td>\n",
              "      <td>4</td>\n",
              "      <td>4</td>\n",
              "      <td>4</td>\n",
              "      <td>444</td>\n",
              "      <td>12</td>\n",
              "      <td>Bronze</td>\n",
              "    </tr>\n",
              "  </tbody>\n",
              "</table>\n",
              "<p>5881 rows × 10 columns</p>\n",
              "</div>"
            ],
            "text/plain": [
              "      Customer ID  Monetary  Frequency  ...  RFMGroup  RFMScore  RFM_Loyalty_Level\n",
              "1283      13644.0   2624.26        146  ...       111         3           Platinum\n",
              "2658      15031.0   3156.58        405  ...       111         3           Platinum\n",
              "493       12841.0   7540.68        702  ...       111         3           Platinum\n",
              "5259      17663.0   5175.83        238  ...       111         3           Platinum\n",
              "2651      15024.0   4075.51        371  ...       111         3           Platinum\n",
              "...           ...       ...        ...  ...       ...       ...                ...\n",
              "620       12969.0    122.45          5  ...       444        12             Bronze\n",
              "3001      15375.0     60.96          6  ...       444        12             Bronze\n",
              "2536      14906.0     68.44          1  ...       444        12             Bronze\n",
              "585       12934.0    181.65          2  ...       444        12             Bronze\n",
              "1498      13861.0    273.26         21  ...       444        12             Bronze\n",
              "\n",
              "[5881 rows x 10 columns]"
            ]
          },
          "metadata": {},
          "execution_count": 98
        }
      ]
    },
    {
      "cell_type": "markdown",
      "metadata": {
        "id": "uoleYEhXCE-w"
      },
      "source": [
        "**Assign Loyalty Level to each customer**"
      ]
    },
    {
      "cell_type": "code",
      "metadata": {
        "colab": {
          "base_uri": "https://localhost:8080/",
          "height": 202
        },
        "id": "k6OVQUGlB1aN",
        "outputId": "38587110-7bc7-4a6e-956b-f1db9acff754"
      },
      "source": [
        "Loyalty_Level = ['Platinum', 'Gold', 'Silver', 'Bronze']\n",
        "Score_cuts = pd.qcut(merged_df.RFMScore, q = 4, labels = Loyalty_Level)\n",
        "merged_df['RFM_Loyalty_Level'] = Score_cuts.values\n",
        "merged_df.reset_index().head()"
      ],
      "execution_count": 78,
      "outputs": [
        {
          "output_type": "execute_result",
          "data": {
            "text/html": [
              "<div>\n",
              "<style scoped>\n",
              "    .dataframe tbody tr th:only-of-type {\n",
              "        vertical-align: middle;\n",
              "    }\n",
              "\n",
              "    .dataframe tbody tr th {\n",
              "        vertical-align: top;\n",
              "    }\n",
              "\n",
              "    .dataframe thead th {\n",
              "        text-align: right;\n",
              "    }\n",
              "</style>\n",
              "<table border=\"1\" class=\"dataframe\">\n",
              "  <thead>\n",
              "    <tr style=\"text-align: right;\">\n",
              "      <th></th>\n",
              "      <th>index</th>\n",
              "      <th>Customer ID</th>\n",
              "      <th>Monetary</th>\n",
              "      <th>Frequency</th>\n",
              "      <th>Recency</th>\n",
              "      <th>R</th>\n",
              "      <th>F</th>\n",
              "      <th>M</th>\n",
              "      <th>RFMGroup</th>\n",
              "      <th>RFMScore</th>\n",
              "      <th>RFM_Loyalty_Level</th>\n",
              "    </tr>\n",
              "  </thead>\n",
              "  <tbody>\n",
              "    <tr>\n",
              "      <th>0</th>\n",
              "      <td>0</td>\n",
              "      <td>12346.0</td>\n",
              "      <td>77556.46</td>\n",
              "      <td>34</td>\n",
              "      <td>326</td>\n",
              "      <td>3</td>\n",
              "      <td>3</td>\n",
              "      <td>1</td>\n",
              "      <td>331</td>\n",
              "      <td>7</td>\n",
              "      <td>Gold</td>\n",
              "    </tr>\n",
              "    <tr>\n",
              "      <th>1</th>\n",
              "      <td>1</td>\n",
              "      <td>12347.0</td>\n",
              "      <td>5633.32</td>\n",
              "      <td>253</td>\n",
              "      <td>2</td>\n",
              "      <td>1</td>\n",
              "      <td>1</td>\n",
              "      <td>1</td>\n",
              "      <td>111</td>\n",
              "      <td>3</td>\n",
              "      <td>Platinum</td>\n",
              "    </tr>\n",
              "    <tr>\n",
              "      <th>2</th>\n",
              "      <td>2</td>\n",
              "      <td>12348.0</td>\n",
              "      <td>2019.40</td>\n",
              "      <td>51</td>\n",
              "      <td>75</td>\n",
              "      <td>2</td>\n",
              "      <td>3</td>\n",
              "      <td>2</td>\n",
              "      <td>232</td>\n",
              "      <td>7</td>\n",
              "      <td>Gold</td>\n",
              "    </tr>\n",
              "    <tr>\n",
              "      <th>3</th>\n",
              "      <td>3</td>\n",
              "      <td>12349.0</td>\n",
              "      <td>4428.69</td>\n",
              "      <td>175</td>\n",
              "      <td>19</td>\n",
              "      <td>1</td>\n",
              "      <td>1</td>\n",
              "      <td>1</td>\n",
              "      <td>111</td>\n",
              "      <td>3</td>\n",
              "      <td>Platinum</td>\n",
              "    </tr>\n",
              "    <tr>\n",
              "      <th>4</th>\n",
              "      <td>4</td>\n",
              "      <td>12350.0</td>\n",
              "      <td>334.40</td>\n",
              "      <td>17</td>\n",
              "      <td>310</td>\n",
              "      <td>3</td>\n",
              "      <td>4</td>\n",
              "      <td>4</td>\n",
              "      <td>344</td>\n",
              "      <td>11</td>\n",
              "      <td>Bronze</td>\n",
              "    </tr>\n",
              "  </tbody>\n",
              "</table>\n",
              "</div>"
            ],
            "text/plain": [
              "   index  Customer ID  Monetary  ...  RFMGroup  RFMScore  RFM_Loyalty_Level\n",
              "0      0      12346.0  77556.46  ...       331         7               Gold\n",
              "1      1      12347.0   5633.32  ...       111         3           Platinum\n",
              "2      2      12348.0   2019.40  ...       232         7               Gold\n",
              "3      3      12349.0   4428.69  ...       111         3           Platinum\n",
              "4      4      12350.0    334.40  ...       344        11             Bronze\n",
              "\n",
              "[5 rows x 11 columns]"
            ]
          },
          "metadata": {},
          "execution_count": 78
        }
      ]
    },
    {
      "cell_type": "markdown",
      "metadata": {
        "id": "Agu226mADB8Z"
      },
      "source": [
        "**Validate the data for RFMGroup = 331**"
      ]
    },
    {
      "cell_type": "code",
      "metadata": {
        "colab": {
          "base_uri": "https://localhost:8080/",
          "height": 202
        },
        "id": "trLHVlOPCHBo",
        "outputId": "0f30f26e-0a58-4397-e597-554478ee4f79"
      },
      "source": [
        "merged_df[merged_df['RFMGroup']=='331'].sort_values('Monetary', ascending=False).reset_index().head()"
      ],
      "execution_count": 79,
      "outputs": [
        {
          "output_type": "execute_result",
          "data": {
            "text/html": [
              "<div>\n",
              "<style scoped>\n",
              "    .dataframe tbody tr th:only-of-type {\n",
              "        vertical-align: middle;\n",
              "    }\n",
              "\n",
              "    .dataframe tbody tr th {\n",
              "        vertical-align: top;\n",
              "    }\n",
              "\n",
              "    .dataframe thead th {\n",
              "        text-align: right;\n",
              "    }\n",
              "</style>\n",
              "<table border=\"1\" class=\"dataframe\">\n",
              "  <thead>\n",
              "    <tr style=\"text-align: right;\">\n",
              "      <th></th>\n",
              "      <th>index</th>\n",
              "      <th>Customer ID</th>\n",
              "      <th>Monetary</th>\n",
              "      <th>Frequency</th>\n",
              "      <th>Recency</th>\n",
              "      <th>R</th>\n",
              "      <th>F</th>\n",
              "      <th>M</th>\n",
              "      <th>RFMGroup</th>\n",
              "      <th>RFMScore</th>\n",
              "      <th>RFM_Loyalty_Level</th>\n",
              "    </tr>\n",
              "  </thead>\n",
              "  <tbody>\n",
              "    <tr>\n",
              "      <th>0</th>\n",
              "      <td>0</td>\n",
              "      <td>12346.0</td>\n",
              "      <td>77556.46</td>\n",
              "      <td>34</td>\n",
              "      <td>326</td>\n",
              "      <td>3</td>\n",
              "      <td>3</td>\n",
              "      <td>1</td>\n",
              "      <td>331</td>\n",
              "      <td>7</td>\n",
              "      <td>Gold</td>\n",
              "    </tr>\n",
              "    <tr>\n",
              "      <th>1</th>\n",
              "      <td>631</td>\n",
              "      <td>12980.0</td>\n",
              "      <td>16245.78</td>\n",
              "      <td>52</td>\n",
              "      <td>158</td>\n",
              "      <td>3</td>\n",
              "      <td>3</td>\n",
              "      <td>1</td>\n",
              "      <td>331</td>\n",
              "      <td>7</td>\n",
              "      <td>Gold</td>\n",
              "    </tr>\n",
              "    <tr>\n",
              "      <th>2</th>\n",
              "      <td>1681</td>\n",
              "      <td>14045.0</td>\n",
              "      <td>11313.03</td>\n",
              "      <td>39</td>\n",
              "      <td>109</td>\n",
              "      <td>3</td>\n",
              "      <td>3</td>\n",
              "      <td>1</td>\n",
              "      <td>331</td>\n",
              "      <td>7</td>\n",
              "      <td>Gold</td>\n",
              "    </tr>\n",
              "    <tr>\n",
              "      <th>3</th>\n",
              "      <td>296</td>\n",
              "      <td>12643.0</td>\n",
              "      <td>8350.42</td>\n",
              "      <td>52</td>\n",
              "      <td>128</td>\n",
              "      <td>3</td>\n",
              "      <td>3</td>\n",
              "      <td>1</td>\n",
              "      <td>331</td>\n",
              "      <td>7</td>\n",
              "      <td>Gold</td>\n",
              "    </tr>\n",
              "    <tr>\n",
              "      <th>4</th>\n",
              "      <td>568</td>\n",
              "      <td>12917.0</td>\n",
              "      <td>4359.20</td>\n",
              "      <td>50</td>\n",
              "      <td>128</td>\n",
              "      <td>3</td>\n",
              "      <td>3</td>\n",
              "      <td>1</td>\n",
              "      <td>331</td>\n",
              "      <td>7</td>\n",
              "      <td>Gold</td>\n",
              "    </tr>\n",
              "  </tbody>\n",
              "</table>\n",
              "</div>"
            ],
            "text/plain": [
              "   index  Customer ID  Monetary  ...  RFMGroup  RFMScore  RFM_Loyalty_Level\n",
              "0      0      12346.0  77556.46  ...       331         7               Gold\n",
              "1    631      12980.0  16245.78  ...       331         7               Gold\n",
              "2   1681      14045.0  11313.03  ...       331         7               Gold\n",
              "3    296      12643.0   8350.42  ...       331         7               Gold\n",
              "4    568      12917.0   4359.20  ...       331         7               Gold\n",
              "\n",
              "[5 rows x 11 columns]"
            ]
          },
          "metadata": {},
          "execution_count": 79
        }
      ]
    },
    {
      "cell_type": "markdown",
      "metadata": {
        "id": "8mUXxxrDSJo7"
      },
      "source": [
        "**Plot 3-D presentation of RFM Loyalty level**"
      ]
    },
    {
      "cell_type": "code",
      "metadata": {
        "colab": {
          "base_uri": "https://localhost:8080/",
          "height": 542
        },
        "id": "WNUassRPEm_H",
        "outputId": "ced5fa93-9840-4895-bfd8-17de59019034"
      },
      "source": [
        "import plotly.express as px\n",
        "plotly_fig2 = px.scatter_3d(merged_df, x = 'Monetary', y = 'Frequency', z = 'Recency', color = 'RFM_Loyalty_Level')\n",
        "plotly_fig2.show()"
      ],
      "execution_count": 81,
      "outputs": [
        {
          "output_type": "display_data",
          "data": {
            "text/html": [
              "<html>\n",
              "<head><meta charset=\"utf-8\" /></head>\n",
              "<body>\n",
              "    <div>\n",
              "            <script src=\"https://cdnjs.cloudflare.com/ajax/libs/mathjax/2.7.5/MathJax.js?config=TeX-AMS-MML_SVG\"></script><script type=\"text/javascript\">if (window.MathJax) {MathJax.Hub.Config({SVG: {font: \"STIX-Web\"}});}</script>\n",
              "                <script type=\"text/javascript\">window.PlotlyConfig = {MathJaxConfig: 'local'};</script>\n",
              "        <script src=\"https://cdn.plot.ly/plotly-latest.min.js\"></script>    \n",
              "            <div id=\"1469a015-fbd9-4c2c-9554-36ffac30d80c\" class=\"plotly-graph-div\" style=\"height:525px; width:100%;\"></div>\n",
              "            <script type=\"text/javascript\">\n",
              "                \n",
              "                    window.PLOTLYENV=window.PLOTLYENV || {};\n",
              "                    \n",
              "                if (document.getElementById(\"1469a015-fbd9-4c2c-9554-36ffac30d80c\")) {\n",
              "                    Plotly.newPlot(\n",
              "                        '1469a015-fbd9-4c2c-9554-36ffac30d80c',\n",
              "                        [{\"hoverlabel\": {\"namelength\": 0}, \"hovertemplate\": \"RFM_Loyalty_Level=Gold<br>Monetary=%{x}<br>Frequency=%{y}<br>Recency=%{z}\", \"legendgroup\": \"RFM_Loyalty_Level=Gold\", \"marker\": {\"color\": \"#636efa\", \"symbol\": \"circle\"}, \"mode\": \"markers\", \"name\": \"RFM_Loyalty_Level=Gold\", \"scene\": \"scene\", \"showlegend\": true, \"type\": \"scatter3d\", \"x\": [77556.46, 2019.4, 1079.4, 947.61, 1791.15, 1298.0400000000002, 1127.65, 457.5000000000001, 1620.22, 1850.5599999999997, 585.2700000000001, 1938.3999999999999, 549.8399999999999, 1272.48, 931.4300000000006, 1635.6599999999999, 1962.3000000000013, 1256.9000000000003, 1019.36, 1710.3900000000006, 1708.1199999999997, 1013.7099999999999, 999.4499999999998, 952.4100000000001, 2021.2000000000003, 600.3900000000001, 3340.03, 1741.4099999999996, 1345.2100000000005, 1129.3, 1103.4299999999998, 1158.18, 434.97999999999996, 1002.3099999999998, 449.4500000000001, 430.57000000000005, 16679.78, 1777.4900000000002, 826.8800000000001, 1344.7799999999997, 1212.0499999999997, 742.1900000000002, 3070.539999999998, 1149.64, 680.9900000000002, 527.2, 23691.399999999983, 460.4000000000001, 715.2100000000002, 403.7, 2169.3899999999994, 779.0500000000002, 1844.0600000000002, 398.27000000000004, 3084.0200000000004, 1597.7600000000002, 726.5400000000002, 973.7299999999998, 735.5100000000001, 1367.8899999999996, 1089.18, 716.3500000000001, 640.4499999999999, 981.1800000000002, 1000.3899999999999, 1161.5, 964.8299999999994, 603.7099999999997, 519.6099999999999, 717.4100000000001, 2142.7200000000003, 440.41999999999996, 1052.9, 1980.4, 2040.099999999999, 958.78, 9864.260000000004, 1352.1500000000005, 618.27, 2296.7199999999993, 739.1999999999999, 1232.9499999999996, 1579.51, 1193.32, 1131.1, 355.5300000000002, 786.4599999999998, 921.4900000000001, 1312.37, 1174.58, 1013.26, 8350.419999999998, 1918.490000000001, 1346.9700000000003, 1112.0, 2294.65, 1017.03, 4160.83, 601.98, 1643.18, 686.0500000000001, 620.13, 2744.0300000000007, 2622.481000000001, 1970.6000000000006, 958.5000000000002, 1113.0200000000002, 880.81, 2138.9100000000003, 1170.4, 1703.02, 1843.3500000000013, 957.5899999999999, 1006.5299999999999, 1149.0200000000007, 1339.0499999999993, 848.5499999999998, 1308.9100000000003, 644.9499999999999, 997.6299999999999, 725.0699999999998, 2694.56, 1070.1699999999998, 427.5999999999999, 1201.52, 546.4299999999997, 4366.779999999999, 3010.74, 9030.66, 1693.8800000000003, 1404.58, 949.8199999999999, 1143.6000000000001, 3246.45, 892.4700000000004, 826.7400000000001, 1100.3999999999999, 862.18, 1056.1100000000001, 1017.3299999999999, 860.4099999999999, 430.4800000000001, 2416.4200000000005, 1092.81, 1434.9500000000005, 2878.959999999999, 906.0999999999997, 1755.9400000000003, 1033.9, 1063.46, 572.2, 948.8799999999999, 6501.5, 397.11999999999995, 430.15, 6814.640000000001, 383.03000000000003, 6043.309999999981, 688.41, 1917.9900000000002, 648.6000000000001, 650.9400000000005, 3687.9999999999995, 1008.3200000000004, 2792.55, 1227.35, 2247.0600000000004, 1676.9500000000007, 2027.3000000000002, 1463.0399999999995, 703.4700000000001, 1175.2199999999996, 1378.4, 717.2699999999999, 372.79999999999995, 509.57999999999976, 1018.4200000000003, 1680.4700000000003, 1662.3, 1174.7500000000005, 4359.200000000001, 1335.1899999999998, 488.09000000000003, 789.8699999999998, 729.3299999999997, 1548.4600000000007, 415.8, 1698.5600000000004, 913.5400000000001, 942.6500000000001, 604.51, 900.11, 1908.0299999999997, 1843.0, 828.8099999999998, 1322.0700000000002, 771.9099999999996, 4306.92, 1161.1999999999998, 2100.0900000000006, 517.6299999999999, 2502.819999999999, 16245.779999999997, 2729.840000000002, 1312.21, 535.32, 955.4999999999999, 764.8199999999999, 920.0799999999999, 1032.5000000000002, 999.6799999999998, 789.8899999999996, 1229.9500000000003, 1449.0300000000002, 17335.199999999997, 661.32, 1927.2999999999997, 3419.2699999999973, 922.6799999999998, 1364.2, 908.46, 1010.7299999999999, 676.9900000000001, 1556.5400000000009, 949.2500000000001, 1408.2400000000005, 2303.1700000000005, 1260.910000000001, 470.80000000000007, 508.50999999999993, 919.61, 419.17999999999995, 7335.749999999998, 395.43, 2433.2800000000007, 2321.820000000001, 2140.28, 709.64, 1709.1000000000001, 1098.52, 1134.0300000000002, 922.3900000000002, 3371.45, 1215.6800000000003, 307.0899999999999, 1423.52, 712.8000000000001, 2146.380000000001, 486.22, 1624.8400000000008, 1586.540000000001, 1508.1800000000005, 1451.1600000000005, 884.1800000000001, 468.4099999999999, 492.8400000000001, 512.2, 1575.8900000000003, 367.0099999999999, 260.68, 870.09, 1240.6100000000001, 1580.3000000000004, 966.66, 8377.319999999996, 535.86, 353.47999999999996, 788.0799999999998, 3264.229999999994, 1336.09, 847.4100000000001, 2155.9499999999994, 1176.4599999999998, 1031.0699999999997, 744.8500000000003, 1006.6299999999993, 1594.6900000000007, 1278.0399999999995, 989.2199999999999, 501.12, 1608.9300000000005, 2951.1099999999988, 904.4599999999999, 1035.18, 2107.6600000000008, 217.3799999999999, 523.3, 1435.8499999999995, 1313.1899999999996, 994.51, 1192.9399999999998, 1689.5300000000002, 1101.9700000000005, 360.0, 1218.7000000000005, 1285.51, 618.0899999999998, 1217.9900000000002, 1541.200000000001, 598.57, 775.9400000000002, 640.76, 199.48, 787.85, 350.9, 1015.7399999999999, 795.12, 1575.26, 2445.6200000000003, 860.1200000000002, 979.1199999999999, 397.9800000000001, 743.5300000000003, 768.2400000000001, 1043.3100000000002, 1553.6500000000005, 2225.3700000000013, 1121.5000000000002, 1509.7400000000007, 2297.6600000000008, 378.64, 1792.2300000000002, 1019.7600000000003, 1552.8800000000003, 572.5599999999997, 1387.58, 1185.65, 797.96, 1131.45, 1180.2300000000005, 1360.9899999999998, 1535.13, 1213.8110000000001, 2244.7000000000003, 2201.96, 2494.14, 940.8000000000001, 1006.5300000000001, 679.45, 1666.8600000000004, 986.6099999999999, 1295.2500000000007, 720.9, 1280.1600000000005, 631.68, 3881.889999999999, 1160.4099999999996, 1153.8500000000001, 1013.3499999999998, 663.7900000000004, 1431.7800000000009, 2061.4700000000003, 2215.7800000000007, 1122.4099999999999, 846.8699999999999, 1269.8400000000006, 653.3299999999999, 1320.3300000000006, 1159.11, 2885.1100000000015, 780.5000000000001, 1639.1999999999998, 1114.72, 1265.8200000000002, 2128.42, 659.4399999999998, 680.1800000000001, 628.78, 1738.52, 210.30999999999983, 1569.3600000000006, 829.0000000000006, 1638.2800000000022, 174.37000000000003, 1820.720000000001, 777.5300000000001, 414.7999999999998, 1083.6900000000003, 1384.25, 916.47, 732.0699999999997, 1445.0310000000002, 392.44999999999993, 1673.4999999999998, 1120.74, 2093.940000000001, 533.32, 818.2200000000008, 789.5900000000001, 1025.17, 164.34, 1078.3100000000004, 1039.8500000000004, 1278.7500000000005, 2245.9000000000005, 3070.42, 949.1199999999999, 810.4999999999998, 1346.2699999999995, 514.7199999999998, 2156.77, 1764.0200000000002, 1678.8800000000008, 2280.510000000001, 1078.85, 382.13999999999993, 2250.1099999999997, 2047.5100000000007, 1711.6600000000003, 349.70000000000016, 396.9199999999999, 827.83, 596.9800000000002, 11880.839999999998, 1259.5, 2011.8200000000002, 1792.2600000000002, 1763.3000000000004, 741.54, 1209.2, 1980.5600000000004, 1079.6600000000003, 1080.05, 491.86, 6701.639999999998, 1597.7700000000002, 668.43, 1341.5999999999997, 1156.36, 777.3600000000002, 2268.35, 1590.7300000000005, 2094.5700000000006, 659.41, 1363.6399999999999, 1952.1699999999996, 2472.48, 5217.440000000001, 1049.66, 1124.49, 735.8200000000003, 778.8300000000004, 3358.94, 1222.5, 348.79999999999995, 383.94999999999993, 1179.4499999999998, 2803.57, 1679.5600000000009, 1338.9100000000003, 924.5999999999999, 1499.01, 538.9999999999999, 2257.3200000000006, 571.6700000000001, 382.9799999999999, 2642.3500000000004, 1410.730000000001, 632.0000000000001, 412.0499999999998, 613.6899999999998, 361.62, 3335.0, 1595.4799999999996, 1090.14, 1310.34, 1142.0300000000002, 1001.0099999999999, 1239.5500000000002, 501.56, 1015.2900000000002, 919.5700000000002, 1038.92, 2049.15, 449.68000000000006, 2169.0500000000015, 1991.2300000000007, 863.5600000000001, 1267.6499999999999, 564.62, 1160.72, 388.52000000000004, 1610.59, 34095.26, 626.4499999999999, 1275.8100000000006, 1212.8400000000001, 1360.6800000000003, 1774.6800000000005, 678.2499999999999, 708.26, 464.56999999999994, 3494.099999999999, 922.0999999999997, 6116.920000000001, 939.6599999999996, 880.1300000000003, 839.1400000000002, 1876.23, 745.0600000000001, 439.92, 545.1699999999997, 362.8, 677.7200000000004, 1192.36, 799.9199999999998, 2048.6000000000004, 2026.0599999999995, 855.9699999999999, 2046.3399999999992, 2196.67, 1099.9099999999999, 1084.57, 1948.2100000000007, 917.34, 1421.6100000000004, 1716.5800000000004, 584.0699999999998, 4057.900000000001, 651.8200000000002, 836.9500000000003, 11313.029999999999, 748.6899999999999, 746.3600000000001, 480.8099999999998, 1520.96, 22710.199999999997, 374.69999999999993, 1528.3700000000003, 615.0799999999998, 1692.630000000001, 1115.6799999999998, 413.36, 442.8499999999999, 771.5799999999996, 1044.96, 692.85, 1364.0900000000008, 1172.4599999999998, 1900.080000000001, 924.2100000000004, 1882.670000000001, 911.1399999999999, 11123.349999999997, 1570.8100000000002, 982.3800000000005, 1086.8000000000002, 915.1300000000002, 983.1500000000002, 7600.050000000001, 2590.2000000000003, 658.6400000000001, 1997.3399999999995, 507.66000000000014, 8421.470000000001, 1631.7700000000002, 1296.4900000000002, 597.3299999999999, 498.7899999999998, 586.0, 916.0099999999999, 719.7799999999997, 452.89, 1550.630000000001, 2054.3599999999997, 1210.1900000000003, 2615.600000000001, 1193.5399999999997, 1185.0100000000007, 567.05, 2190.14, 1004.3799999999997, 633.83, 1514.9999999999998, 991.13, 1897.900000000002, 2037.0200000000002, 1235.62, 2048.0700000000006, 1744.6400000000008, 1247.49, 1693.4499999999996, 1474.0600000000006, 772.6600000000003, 1032.9499999999998, 5625.460999999999, 2473.9900000000007, 1163.4499999999998, 1517.3600000000006, 1373.3499999999997, 1516.2399999999998, 920.8099999999998, 559.9700000000001, 2102.6800000000007, 1299.6499999999994, 911.2599999999999, 1992.1800000000005, 1725.01, 1858.9599999999998, 3151.3999999999996, 508.58, 1346.7500000000005, 940.9800000000001, 1894.9299999999994, 468.26, 928.0999999999998, 918.44, 1088.9100000000003, 133.50000000000006, 972.03, 1078.96, 1014.4500000000005, 701.23, 2128.23, 161.20000000000002, 3717.349999999999, 1132.9900000000005, 1268.9099999999999, 631.3399999999995, 1247.6899999999998, 1770.5600000000013, 1898.0099999999993, 2113.1600000000008, 1732.4699999999998, 1880.5099999999998, 2157.7299999999996, 1426.189999999999, 770.3700000000011, 490.22, 1639.1699999999996, 1263.5199999999998, 2614.199999999999, 1372.8, 958.8400000000003, 9443.04, 375.35, 1128.4399999999998, 665.5899999999997, 977.3000000000005, 5375.740999999999, 1093.5000000000002, 2112.2100000000005, 712.0400000000001, 2228.2200000000007, 1278.0800000000002, 1151.15, 1969.6, 1276.6599999999996, 1299.1100000000013, 1070.98, 1064.2800000000002, 1574.93, 1273.4700000000005, 1921.91, 401.4599999999999, 2668.2299999999996, 673.2599999999995, 1007.2800000000002, 1223.4700000000003, 1758.6200000000003, 620.0399999999998, 641.4000000000001, 1370.8400000000001, 537.48, 2627.4900000000002, 916.5500000000005, 880.04, 511.27999999999946, 835.3400000000006, 1080.7600000000004, 2605.6200000000003, 4092.0, 1530.3600000000006, 598.98, 613.7500000000005, 168.63, 433.8, 1747.9100000000012, 1143.27, 3006.6199999999994, 570.4599999999998, 634.83, 384.03999999999996, 865.1700000000002, 937.16, 1486.2, 1342.32, 1291.2400000000002, 814.0700000000002, 1998.0000000000002, 2025.6900000000007, 2124.4600000000005, 609.8500000000001, 1679.8899999999999, 2247.72, 4546.859999999999, 814.6500000000007, 247.14999999999998, 637.89, 602.0, 1127.45, 1113.1399999999999, 1289.44, 1514.81, 4619.790000000001, 885.830000000001, 1402.06, 794.33, 2114.3299999999995, 1745.0899999999997, 1165.3600000000001, 1620.0699999999997, 318.1699999999999, 2212.2799999999993, 1328.0699999999997, 565.4499999999999, 663.8100000000003, 513.37, 907.38, 380.0199999999999, 1056.4199999999998, 1821.9000000000005, 2571.810000000002, 869.5099999999998, 1550.48, 2864.9700000000016, 447.92, 1418.46, 447.67999999999995, 449.92999999999995, 625.9, 724.3100000000003, 193.1399999999999, 353.2699999999999, 1090.8700000000003, 778.5, 1170.4099999999999, 470.16, 1286.4500000000003, 9839.459999999997, 1692.8399999999992, 1676.5699999999997, 915.2800000000001, 1348.9499999999998, 1794.0100000000014, 829.4100000000001, 1376.8700000000001, 1311.3800000000006, 1380.73, 841.2000000000002, 2952.0600000000018, 1838.9500000000005, 2862.4000000000015, 706.1900000000002, 761.5900000000001, 1598.1200000000001, 1862.0, 817.25, 1106.7299999999996, 1492.8100000000004, 2092.4199999999996, 1384.88, 1971.3899999999994, 1404.6800000000007, 434.3500000000001, 1811.2500000000005, 5955.810000000001, 1607.170000000001, 1316.0700000000004, 749.0999999999998, 931.0100000000001, 836.6900000000002, 1257.68, 1029.6599999999999, 2849.83, 1621.88, 2322.4300000000003, 1049.79, 371.2, 503.43999999999966, 957.9399999999997, 695.42, 221.26999999999992, 598.9999999999999, 1982.6100000000004, 504.99, 1314.45, 472.39, 790.8599999999997, 566.9000000000002, 1713.8499999999997, 2066.6000000000004, 960.630000000001, 233.23000000000005, 776.6000000000001, 770.7300000000001, 490.52, 1060.7000000000007, 1246.3199999999995, 825.1399999999999, 860.6200000000008, 1641.300000000001, 2365.0199999999995, 630.2999999999998, 607.4599999999998, 1061.6099999999997, 1979.91, 13780.650000000009, 465.55, 2873.7999999999997, 482.7499999999998, 697.79, 302.09999999999997, 3255.9600000000014, 303.0899999999999, 1254.4100000000008, 893.59, 1109.5300000000007, 1455.56, 1566.33, 773.0300000000002, 1447.7399999999996, 2428.0799999999995, 965.2, 1046.6100000000001, 3141.6400000000017, 39916.5, 410.48, 2894.7, 703.3599999999998, 1027.44, 940.3499999999998, 1300.2500000000002, 983.1000000000004, 1505.8500000000004, 531.85, 1352.7500000000002, 457.71999999999997, 450.82000000000005, 711.5000000000001, 1783.6800000000007, 977.9300000000002, 1806.9, 1388.4699999999998, 1327.1600000000008, 1554.6100000000004, 2085.61, 304.4699999999999, 975.5000000000002, 1659.6700000000023, 1494.6000000000001, 904.4300000000002, 1200.2000000000003, 2998.9520000000007, 689.9499999999998, 1403.2000000000003, 1981.39, 3861.0, 571.3499999999999, 3122.4, 1842.95, 653.2399999999999, 420.29999999999995, 970.5200000000001, 1176.1900000000003, 1277.4799999999998, 486.09000000000003, 1778.9599999999994, 2465.45, 3550.9099999999985, 1417.9500000000003, 1071.9899999999998, 780.59, 927.2800000000004, 912.08, 1893.9299999999996, 2103.4100000000003, 1088.35, 1182.38, 1508.0000000000007, 848.4, 1717.36, 1225.36, 716.5700000000003, 615.1399999999999, 649.5299999999999, 476.3400000000001, 1580.5400000000004, 406.2199999999999, 856.0300000000003, 1593.0900000000001, 641.94, 7991.540000000001, 496.4399999999999, 1224.1800000000003, 919.5500000000002, 570.5, 312.62, 1390.8600000000006, 1602.01, 1700.519999999999, 351.6699999999999, 2402.72, 563.94, 1363.6000000000004, 473.80999999999983, 1004.1100000000002, 913.1900000000004, 722.74, 6251.259999999999, 6017.059999999999, 1233.3599999999997, 1890.57, 2027.7900000000002, 942.0800000000003, 2733.8, 1216.66, 891.3400000000001, 815.7699999999999, 1302.3000000000002, 1830.5400000000016, 975.8699999999999, 6798.72, 774.8999999999999, 508.8000000000001, 1619.9700000000003, 1944.5699999999995, 762.7500000000002, 397.3499999999998, 149.29000000000005, 393.4499999999998, 1269.0499999999997, 383.67999999999995, 1254.2100000000003, 406.94999999999993, 429.84, 2119.269999999999, 370.43999999999994, 737.0499999999998, 1048.8500000000006, 524.88, 1430.48, 874.2499999999999, 371.56, 2046.0, 454.10999999999984, 2209.9799999999996, 2024.9799999999998, 862.2, 659.4599999999999, 423.84999999999997, 1000.2700000000002, 398.84, 591.4, 807.5699999999997, 1087.8200000000013, 538.46, 460.68, 918.4500000000008, 428.04999999999967, 437.22999999999985, 279.77, 1109.3999999999996, 758.2899999999998, 3586.3500000000017, 1518.7000000000007, 940.6700000000002, 397.97999999999985, 1381.1899999999998, 682.9100000000001, 1522.0799999999997, 1496.6000000000001, 388.58, 563.3700000000001, 548.0199999999999, 1250.0600000000002, 1199.3100000000002, 1936.8000000000004, 1708.9699999999998, 1785.98, 3147.3599999999988, 776.8510000000002, 1942.3600000000008, 1293.0300000000002, 2437.050000000002, 1067.52, 2240.900000000001, 1481.3999999999992, 4352.459999999997, 554.6500000000001, 1444.5800000000006, 797.5900000000003, 2265.2, 1065.08, 812.9999999999998, 974.6100000000005, 1259.0599999999997, 1420.3399999999997, 922.5300000000002, 748.5000000000001, 2423.4700000000025, 1215.95, 1254.0300000000002, 684.34, 542.04, 1305.63, 1893.8899999999994, 781.2799999999999, 1131.0399999999997, 696.6799999999996, 1060.56, 898.8700000000005, 1010.7900000000002, 784.8100000000001, 507.0799999999998, 947.6500000000004, 415.2500000000001, 1726.5800000000006, 1682.0700000000002, 2263.2999999999997, 1815.7200000000005, 784.4600000000004, 614.7600000000003, 44534.3, 1380.4400000000005, 532.9599999999995, 583.75, 1086.9200000000003, 831.0600000000002, 774.5200000000001, 1329.9400000000003, 1762.61, 1962.0099999999989, 220.84999999999997, 933.8400000000001, 1979.8699999999997, 2821.08, 1535.3700000000001, 1242.5800000000004, 1063.9499999999998, 1929.66, 784.5799999999999, 1817.52, 1274.4400000000007, 5201.4699999999975, 1303.9099999999999, 2100.6000000000004, 2766.399999999999, 570.96, 1108.8199999999997, 576.0, 801.7599999999999, 836.7899999999998, 954.0899999999996, 777.0099999999999, 1048.4900000000002, 355.56, 822.5700000000003, 1052.7200000000003, 570.48, 358.6999999999998, 2180.76, 2248.919999999999, 862.6099999999994, 493.28, 1157.3, 686.5600000000001, 1495.98, 396.47999999999996, 1951.82, 1052.8700000000001, 429.16, 1806.2799999999995, 524.52, 420.2899999999999, 164.67999999999998, 1702.3400000000015, 1074.6999999999998, 429.20999999999987, 560.6299999999997, 582.8799999999999, 571.6400000000004, 802.1099999999999, 2164.2400000000007, 1708.2400000000002, 364.7199999999999, 806.5699999999998, 492.98999999999984, 470.7600000000001, 1127.0500000000002, 1017.3199999999996, 1810.2700000000013, 371.01, 1746.6400000000017, 2715.279999999999, 354.42, 770.09, 372.50999999999976, 896.5999999999997, 1202.1799999999996, 12393.7, 2146.390000000001, 1724.0600000000018, 1553.8300000000002, 698.1299999999999, 851.0100000000001, 532.2499999999999, 628.2800000000001, 719.81, 484.20000000000033, 439.66, 2048.3600000000006, 548.9399999999999, 1970.4500000000003, 928.7199999999998, 1509.3400000000008, 471.7799999999999, 3166.4, 1856.5900000000001, 1075.2299999999998, 362.06000000000006, 2111.8800000000015, 664.85, 3395.2900000000004, 852.15, 1076.7999999999997, 1352.0000000000002, 602.5599999999998, 2351.4199999999996, 1587.9400000000007, 1584.97, 1573.1999999999994, 1842.1400000000003, 2386.1900000000005, 2235.9200000000014, 939.48, 654.3999999999997, 4376.25, 1001.34, 1772.4900000000011, 801.3100000000001, 1396.0500000000006, 987.48, 946.8000000000003, 910.3499999999998, 1557.6000000000001, 955.9400000000003, 946.38, 2398.91, 422.2199999999999, 1829.04, 656.6899999999999, 1232.7899999999997, 1025.4400000000005, 2849.58, 822.4800000000001, 1386.1200000000001, 1884.5500000000009, 2246.7499999999995, 1836.4400000000005, 2052.6900000000005, 2247.31, 9971.65, 1077.8099999999997, 1158.7900000000002, 644.72, 1087.6600000000003, 2016.7100000000014, 1030.041, 2501.989999999999, 1114.54, 394.38, 1090.5899999999997, 2038.2500000000007, 914.9300000000002, 1345.2200000000007, 1102.3500000000001, 1616.5400000000002, 1027.2200000000003, 1078.22, 1965.7100000000005, 2053.7100000000005, 1492.2, 409.09999999999974, 1800.0700000000006, 985.1400000000002, 1629.37, 1035.45, 1757.9500000000016, 667.6500000000001, 1141.2399999999996, 715.9000000000003, 2151.110000000001, 2629.390000000001, 1117.8400000000001, 3424.02, 1307.5800000000002, 1029.7699999999998, 1006.9800000000006, 2069.300000000001, 1253.76, 1313.6700000000003, 1085.7, 1392.430000000001, 1192.82, 1194.9200000000003, 5120.0, 616.26, 1491.4000000000005, 2192.5100000000007, 604.5500000000002, 326.74999999999994, 428.6799999999998, 1703.0700000000006, 634.3299999999998, 2774.000000000001, 3517.6900000000005, 1526.060000000002, 687.0699999999999, 1198.7400000000002, 494.44000000000005, 1129.51, 415.86999999999995, 868.3699999999998, 896.6600000000001, 946.94, 707.0399999999997, 640.2100000000003, 1780.5900000000001, 1358.9500000000005, 1030.6099999999997, 918.5499999999995, 1382.07, 1103.6100000000013, 763.0500000000002, 1555.3400000000006, 1705.8000000000004, 641.8199999999998, 511.3999999999999, 443.0500000000001, 647.2299999999997, 528.9799999999999, 559.7099999999999, 719.4399999999999, 1487.42, 1117.94, 642.81, 384.52, 1011.5700000000005, 798.3499999999997, 1034.4299999999998, 602.7300000000001, 168472.5, 775.1400000000008, 1505.7300000000002, 1013.1499999999996, 814.7199999999996, 1615.2200000000018, 2869.1600000000003, 787.52, 1189.9800000000007, 544.3, 300.83, 769.2899999999995, 498.79999999999995, 1533.1599999999999, 2132.090000000001, 684.4100000000003, 843.91, 1237.230000000002, 484.37999999999977, 2100.000000000001, 874.5899999999999, 959.3699999999998, 556.2600000000001, 1148.0100000000004, 1272.44, 2012.0000000000002, 8756.64, 548.97, 5606.469999999997, 2237.12, 1915.6799999999998, 511.12000000000006, 614.66, 1455.2299999999998, 1009.5999999999999, 663.6099999999998, 1301.7800000000009, 1462.7800000000002, 1361.2800000000007, 612.3600000000001, 1071.1400000000003, 579.6300000000001, 684.2499999999999, 763.3299999999998, 482.47, 1288.7200000000003, 1785.1299999999999, 618.59, 1179.7899999999997, 500.42000000000013, 1938.33, 813.4800000000002, 1015.2400000000001, 810.5699999999999, 1654.03, 417.72999999999985, 1892.5200000000004, 1814.6100000000004, 3802.0399999999986, 1154.4700000000003, 1747.98, 923.1100000000001, 833.7799999999996, 672.8, 1916.11, 1711.47, 814.0699999999999, 1879.55, 986.6300000000002, 225.93999999999997, 570.1299999999998, 862.4200000000004, 1692.27, 319.61000000000007, 821.4499999999999, 1921.8400000000004, 1027.9999999999998, 324.24, 994.5999999999999, 1110.8299999999997, 531.35, 656.6300000000001, 1529.7999999999988, 625.5200000000001, 1301.6299999999999, 1882.110000000004, 1437.4199999999996, 743.11, 650.51, 2956.5600000000004, 836.0600000000001, 4387.079999999998, 623.93, 1764.7199999999998, 67502.47, 1312.3700000000003, 369.34, 789.79, 964.7000000000006, 1145.6, 1141.7500000000007, 3723.5499999999984, 421.2399999999999, 1594.4500000000003, 619.85, 605.5500000000001, 934.2499999999999, 1035.43, 1950.300000000001, 623.4600000000002, 1827.7700000000032, 848.710000000001, 1619.7300000000002, 536.99, 1097.2400000000002, 801.4899999999996, 2123.8799999999997, 547.0699999999999, 2391.9999999999995, 497.61000000000007, 2260.0900000000015, 686.2399999999999, 1826.89, 1207.5, 898.9600000000002, 1538.4100000000003, 782.3699999999999, 1159.6100000000001, 1264.1899999999998, 842.41, 614.8900000000001, 1411.6200000000003, 1408.9600000000005, 358.49, 4668.279999999996, 1932.4100000000003, 946.59, 998.5200000000001, 825.4199999999997, 1213.13, 705.1199999999998, 1073.9200000000003, 710.7400000000005, 660.7199999999999, 762.1000000000005, 401.7699999999996, 1324.0600000000015, 887.1100000000005, 1706.88, 1857.83, 446.6699999999999, 846.7499999999998, 1421.3500000000006, 380.55000000000007, 440.7099999999998, 551.1699999999997, 1299.4899999999998, 1222.0400000000004, 955.2099999999999, 1277.7500000000014, 798.7800000000001, 1309.4099999999996, 2154.9700000000003, 439.4300000000001, 650.4100000000002, 357.20999999999987, 768.8799999999998, 1473.3300000000008, 384.06, 382.67, 1133.25, 1041.2099999999996, 2123.61, 484.82000000000005, 1120.1000000000001, 671.7, 586.3299999999998, 2287.7000000000007, 935.6200000000005, 1510.6399999999996, 1593.8300000000002, 2137.3, 3004.5999999999995, 1332.7900000000002, 1267.3199999999997, 743.1700000000005, 1686.2800000000007, 1906.0700000000002, 2289.2300000000014, 2071.6800000000003, 714.3900000000001, 413.75000000000006, 1356.3300000000004, 1179.8899999999999, 1208.22, 859.3500000000003, 445.3199999999997, 1242.7499999999995, 378.2000000000001, 957.53, 4049.7900000000004, 1991.009999999999, 665.7800000000004, 1295.4600000000005, 476.58000000000004, 2322.590000000001, 808.6199999999997, 606.91, 977.1700000000002, 2070.440000000002, 1272.8, 1133.63, 754.3300000000011, 1283.7500000000002, 924.1100000000002, 984.5699999999998, 3120.909999999998, 1375.65, 892.4600000000004, 1979.9999999999993, 1715.4599999999996, 699.78, 1794.3200000000013, 867.1099999999999, 1156.73, 956.57, 1443.6900000000003, 902.3200000000002, 1507.26, 465.3699999999999, 957.63, 2310.0400000000004, 812.5000000000001, 1013.01, 999.3500000000001, 1069.12, 1605.0100000000007, 873.5299999999999, 900.12, 421.5200000000001, 560.8599999999999, 1189.45, 2744.140000000001, 2889.280000000001, 1826.0400000000006, 282.18999999999994, 546.16, 384.52, 812.4300000000004, 353.8599999999999, 799.1300000000005, 1889.3400000000001, 2757.6199999999994, 562.8999999999997, 517.7299999999996, 1733.8900000000003, 537.4599999999998, 2148.6299999999997, 577.3799999999999, 1065.3500000000001, 395.4799999999997, 556.9499999999997, 131.78000000000006, 957.5600000000001, 330.42999999999995, 3999.8900000000003, 2328.8399999999997, 2600.34, 922.5900000000003, 423.8, 494.24999999999994, 2027.8700000000033, 1889.8300000000027, 1227.54, 1259.9399999999998, 468.10999999999996, 852.2500000000001, 1988.23, 3242.0, 946.4699999999999, 388.1399999999999, 866.0500000000004, 284.46000000000004, 880.6400000000002, 1024.0400000000002, 1096.24, 446.18, 1167.5, 660.5500000000004, 453.64000000000004, 404.66, 902.2800000000001, 309.9899999999999, 507.54999999999995, 261.11000000000007, 784.11, 626.56, 8807.099999999999, 400.57000000000005, 7793.51, 2249.5200000000004, 670.06, 1084.4299999999994, 1059.4100000000003, 1118.9500000000005, 759.1699999999995, 1357.4599999999998, 735.1700000000001, 569.9600000000003, 534.06, 1422.7700000000007, 2940.0400000000013, 541.53, 14556.969999999981, 486.71999999999997, 1547.94, 1225.4200000000005, 5984.81, 529.5799999999999, 657.3, 2228.270000000002, 757.4599999999996, 675.6899999999999, 1000.9399999999999, 2542.7899999999995, 763.2800000000003, 935.1000000000004, 902.0300000000002, 591.73, 376.63999999999993, 1122.42, 806.7199999999997, 1412.89, 1341.3899999999994, 1138.0, 689.0999999999999, 558.9599999999999, 2435.48, 605.5799999999999, 514.56, 1158.8, 542.83, 546.8100000000001, 1278.0600000000006, 652.7400000000001, 1161.8999999999996, 939.37, 1240.2500000000002, 1266.8200000000004, 1668.8299999999997, 897.6200000000003, 1226.5700000000006, 960.6899999999999, 3757.6, 575.4599999999999, 1895.8000000000002, 454.0099999999999, 723.0100000000002, 380.59999999999997, 1047.3300000000004, 753.2800000000003, 545.2699999999999, 1450.7000000000007, 2093.299999999999, 2939.55, 388.7900000000001, 3484.0899999999983, 421.47999999999973, 1793.4800000000012, 945.930000000001, 498.5299999999999, 1529.490000000001, 390.0699999999999, 733.1999999999998, 2057.39, 1265.58, 547.06, 615.1700000000001, 1824.4899999999998, 2216.37, 1578.8899999999999, 1207.5600000000002, 1674.69, 595.42, 359.4699999999999, 2047.8000000000002, 851.6999999999998, 497.45, 1695.97, 1746.0400000000002, 1094.84, 887.9300000000005, 385.1, 522.91, 1198.0900000000001, 1410.18, 3378.4, 1033.0000000000002, 1092.06, 1708.9899999999998, 2470.39, 692.1899999999998, 1442.3200000000004, 377.4399999999999, 2098.48, 904.1800000000002, 1026.18, 733.6999999999998, 530.7999999999998, 413.05, 1143.2699999999995, 387.4099999999999, 384.76999999999975, 658.5699999999999, 379.90999999999985, 403.3800000000001, 278.74, 1117.9, 323.03999999999996, 1199.01, 385.2299999999998, 927.03, 546.0399999999998, 1617.3200000000004, 112.32000000000002, 807.8500000000001, 2188.5, 398.7, 155.3700000000001, 350.63999999999993, 338.80000000000007, 2033.1, 1063.7600000000002, 1563.3400000000006, 663.2100000000003, 1608.1900000000003, 1071.450000000001, 1418.0300000000002, 1015.5400000000005, 1279.0900000000008, 1134.9499999999998, 1621.2800000000002, 1036.1600000000003, 1118.9899999999996, 1412.33, 190.18999999999997, 774.8700000000005, 602.0900000000005, 191.66999999999993, 1411.5400000000013, 366.23, 336.4299999999999, 341.2799999999999, 1840.3199999999997, 1035.4900000000002, 3082.1, 1331.5699999999997, 1049.15, 686.14, 389.8399999999999, 30393.190000000006, 1636.0800000000004, 819.6099999999999, 949.9000000000001, 973.8799999999999, 687.4200000000002, 733.4600000000007, 1974.4200000000003, 357.29, 888.0400000000006, 706.3800000000007, 1565.6299999999997, 1461.76, 757.71, 1033.4199999999998, 1191.2699999999995, 634.9499999999999, 1003.6400000000006, 489.53999999999974, 1527.61, 482.33, 639.2399999999999, 730.9, 249.71999999999989, 2155.8300000000004, 527.0299999999999, 120.03, 1177.7200000000005, 462.0999999999999, 1276.7400000000007, 579.1699999999997, 357.20000000000005, 401.7299999999999, 2282.28, 571.0699999999999, 1203.5600000000009, 774.0600000000002, 1185.4600000000005, 1632.67, 4495.030000000001, 1440.4, 396.3300000000001, 1428.6299999999999, 3877.520000000002, 1509.04, 844.6000000000003, 1231.5, 703.3699999999997, 812.9300000000002, 1645.7500000000007, 14761.519999999999, 2303.0899999999997, 629.1599999999997, 754.6400000000002, 1461.4600000000007, 435.4299999999998, 775.9599999999999, 320.71999999999997, 362.2399999999999, 684.5899999999999, 206.83000000000007, 561.5299999999997, 1249.62, 1631.3600000000008, 1000.1599999999997, 1624.71, 566.5800000000002, 1879.4399999999998, 932.5999999999999, 371.62000000000006, 453.4000000000001, 1003.8800000000001, 399.65000000000003, 1384.86, 2696.36, 2216.8699999999985, 1403.7300000000005, 957.9699999999999, 1207.3500000000004, 4162.040000000001, 1396.9900000000007, 504.41999999999985, 517.36, 600.07, 546.7200000000001, 1780.3399999999997, 2247.4900000000007, 481.75, 945.0400000000002, 1141.9999999999998, 1921.7600000000002, 779.9, 592.97, 1796.48, 1795.3500000000001, 2150.3599999999997, 758.8199999999999, 1542.09, 801.5100000000001, 1490.2300000000002, 357.0, 1656.5200000000007, 1180.0499999999997, 414.2, 1296.4300000000007], \"y\": [34, 51, 58, 35, 93, 52, 51, 17, 81, 99, 27, 65, 32, 27, 65, 85, 110, 70, 9, 54, 77, 40, 51, 28, 102, 29, 92, 91, 77, 41, 70, 72, 24, 58, 22, 22, 40, 84, 35, 83, 29, 47, 76, 61, 36, 31, 204, 26, 42, 23, 149, 20, 50, 69, 190, 84, 40, 60, 32, 72, 63, 34, 34, 52, 50, 69, 57, 121, 34, 119, 142, 29, 58, 103, 87, 46, 68, 69, 27, 133, 3, 76, 101, 65, 54, 42, 41, 48, 64, 53, 47, 52, 111, 45, 65, 118, 51, 86, 38, 47, 36, 33, 101, 45, 83, 113, 48, 53, 126, 39, 79, 83, 41, 74, 77, 60, 38, 71, 39, 53, 69, 130, 61, 27, 67, 134, 53, 63, 64, 45, 68, 43, 32, 28, 55, 25, 56, 44, 30, 51, 45, 14, 138, 55, 58, 67, 54, 81, 56, 47, 29, 46, 18, 25, 25, 38, 27, 620, 92, 48, 103, 70, 121, 133, 48, 63, 146, 93, 35, 13, 42, 71, 82, 139, 22, 72, 54, 248, 24, 73, 50, 50, 60, 62, 50, 274, 25, 95, 99, 91, 30, 51, 114, 23, 48, 70, 109, 80, 77, 112, 59, 163, 52, 102, 66, 92, 27, 45, 58, 62, 56, 47, 55, 76, 86, 45, 17, 435, 55, 42, 28, 55, 43, 199, 56, 26, 202, 76, 48, 32, 22, 17, 129, 22, 84, 45, 105, 33, 30, 45, 70, 55, 18, 122, 23, 10, 4, 135, 15, 93, 104, 100, 49, 69, 46, 72, 30, 79, 64, 29, 46, 88, 69, 57, 581, 13, 22, 142, 229, 53, 66, 108, 76, 58, 36, 47, 94, 220, 45, 25, 35, 75, 32, 46, 91, 96, 23, 108, 51, 59, 72, 102, 67, 2, 62, 55, 81, 78, 95, 26, 62, 20, 25, 21, 21, 55, 51, 87, 128, 54, 40, 24, 51, 42, 56, 66, 128, 52, 78, 92, 23, 71, 53, 78, 97, 86, 69, 51, 69, 81, 43, 96, 43, 85, 50, 55, 26, 52, 49, 35, 167, 59, 38, 204, 58, 192, 73, 71, 55, 130, 86, 106, 125, 69, 49, 50, 35, 67, 42, 114, 33, 98, 49, 76, 141, 38, 27, 6, 90, 66, 86, 258, 200, 33, 233, 49, 60, 203, 33, 89, 46, 96, 83, 30, 52, 101, 33, 152, 99, 58, 27, 122, 59, 107, 129, 11, 63, 101, 59, 114, 102, 106, 126, 119, 87, 16, 137, 99, 106, 25, 65, 57, 109, 45, 9, 106, 92, 124, 42, 59, 104, 42, 84, 33, 28, 95, 34, 41, 72, 56, 59, 95, 80, 25, 119, 122, 35, 50, 63, 44, 100, 57, 124, 86, 45, 23, 78, 106, 73, 78, 13, 35, 36, 79, 28, 24, 101, 209, 96, 93, 57, 20, 11, 93, 23, 73, 54, 128, 70, 30, 61, 57, 60, 69, 23, 184, 83, 100, 36, 27, 59, 19, 95, 63, 33, 74, 30, 77, 86, 41, 41, 27, 57, 31, 80, 59, 54, 49, 56, 35, 25, 87, 23, 43, 56, 65, 93, 86, 84, 49, 77, 74, 68, 76, 20, 66, 90, 31, 100, 89, 114, 39, 141, 54, 125, 33, 40, 52, 111, 56, 163, 83, 65, 105, 143, 54, 10, 74, 43, 117, 65, 224, 36, 180, 106, 47, 69, 40, 66, 25, 30, 26, 133, 41, 107, 29, 121, 165, 64, 33, 46, 165, 24, 104, 65, 64, 16, 55, 71, 35, 21, 67, 43, 38, 60, 238, 87, 69, 115, 50, 61, 108, 75, 117, 47, 291, 134, 52, 79, 79, 55, 64, 29, 121, 67, 47, 53, 88, 105, 46, 24, 81, 57, 106, 63, 50, 33, 238, 31, 59, 47, 71, 33, 118, 41, 69, 216, 129, 114, 59, 140, 87, 193, 73, 25, 73, 84, 99, 14, 93, 44, 81, 12, 48, 129, 20, 76, 132, 110, 113, 42, 147, 60, 333, 132, 48, 14, 68, 149, 53, 46, 100, 80, 92, 17, 111, 107, 78, 80, 46, 229, 23, 52, 32, 113, 144, 80, 157, 203, 69, 107, 16, 33, 35, 68, 24, 65, 221, 111, 204, 164, 84, 90, 54, 111, 13, 51, 60, 51, 86, 91, 109, 28, 62, 62, 455, 215, 29, 99, 188, 55, 106, 63, 86, 195, 235, 40, 105, 71, 163, 75, 86, 22, 53, 32, 100, 37, 94, 208, 45, 63, 80, 141, 48, 137, 136, 24, 80, 27, 27, 39, 49, 59, 12, 177, 53, 107, 57, 72, 101, 110, 82, 74, 62, 201, 42, 31, 66, 86, 48, 137, 65, 89, 47, 53, 31, 6, 57, 63, 46, 287, 137, 78, 80, 30, 90, 141, 97, 78, 44, 31, 34, 41, 49, 26, 34, 71, 54, 19, 126, 72, 59, 27, 83, 29, 85, 32, 26, 72, 100, 17, 244, 310, 61, 38, 127, 77, 349, 158, 207, 255, 355, 296, 108, 36, 140, 33, 125, 127, 52, 120, 71, 114, 70, 121, 81, 42, 70, 54, 73, 27, 80, 32, 31, 57, 124, 3, 23, 18, 35, 69, 48, 60, 48, 53, 35, 45, 28, 31, 28, 123, 52, 49, 80, 91, 69, 57, 29, 54, 313, 86, 58, 20, 125, 85, 52, 106, 1, 31, 51, 100, 37, 9, 48, 67, 75, 24, 117, 34, 138, 34, 50, 49, 61, 48, 106, 118, 67, 57, 92, 55, 11, 35, 47, 41, 190, 26, 94, 61, 36, 97, 39, 13, 28, 69, 29, 37, 33, 83, 225, 129, 99, 24, 26, 41, 72, 51, 29, 8, 59, 57, 117, 24, 118, 21, 6, 77, 44, 50, 27, 131, 122, 25, 39, 28, 120, 144, 44, 82, 29, 57, 57, 62, 57, 114, 30, 230, 13, 41, 157, 52, 80, 43, 76, 14, 29, 79, 71, 290, 35, 69, 92, 57, 9, 83, 134, 41, 31, 252, 112, 56, 31, 62, 53, 142, 373, 45, 60, 229, 44, 14, 87, 24, 37, 36, 83, 71, 111, 109, 105, 81, 45, 129, 16, 108, 80, 77, 80, 177, 34, 57, 41, 25, 69, 238, 85, 60, 104, 21, 47, 117, 44, 70, 33, 35, 72, 97, 110, 59, 86, 55, 110, 61, 49, 91, 129, 32, 111, 104, 43, 103, 88, 37, 10, 130, 192, 37, 61, 26, 47, 113, 39, 138, 35, 57, 131, 12, 83, 244, 64, 51, 31, 88, 58, 125, 40, 49, 152, 62, 74, 39, 68, 54, 50, 52, 62, 27, 48, 95, 24, 79, 23, 127, 147, 129, 183, 210, 75, 49, 115, 62, 39, 399, 62, 79, 30, 259, 95, 146, 155, 61, 108, 83, 38, 29, 19, 91, 74, 28, 35, 24, 145, 24, 398, 104, 25, 129, 88, 54, 114, 9, 90, 299, 131, 56, 46, 145, 76, 101, 86, 28, 35, 100, 212, 57, 71, 26, 6, 73, 44, 34, 122, 68, 73, 33, 73, 21, 30, 71, 90, 66, 69, 57, 110, 135, 31, 89, 41, 64, 82, 75, 96, 55, 46, 37, 71, 50, 41, 136, 30, 29, 18, 52, 20, 73, 34, 63, 113, 65, 98, 72, 118, 51, 41, 45, 40, 74, 93, 33, 124, 77, 19, 36, 98, 37, 160, 126, 116, 34, 101, 75, 115, 35, 51, 69, 75, 29, 18, 109, 45, 54, 134, 111, 26, 55, 39, 33, 139, 42, 131, 62, 74, 47, 249, 69, 75, 7, 37, 62, 117, 23, 37, 118, 115, 118, 366, 68, 377, 86, 111, 28, 142, 59, 47, 106, 94, 53, 98, 32, 81, 137, 96, 34, 331, 149, 83, 82, 113, 117, 23, 136, 69, 64, 162, 92, 28, 83, 34, 126, 132, 86, 192, 3, 73, 43, 65, 135, 269, 24, 45, 62, 28, 35, 53, 29, 87, 111, 97, 34, 207, 86, 131, 35, 68, 42, 239, 77, 129, 6, 55, 94, 88, 66, 31, 18, 35, 57, 42, 86, 28, 71, 44, 78, 30, 72, 40, 34, 122, 110, 30, 49, 33, 116, 29, 51, 48, 99, 64, 80, 91, 73, 69, 81, 55, 62, 37, 98, 83, 72, 24, 65, 50, 53, 53, 6, 98, 29, 49, 30, 62, 62, 91, 123, 27, 116, 28, 130, 392, 213, 82, 53, 143, 42, 77, 95, 25, 142, 79, 22, 42, 44, 34, 100, 69, 65, 135, 137, 99, 56, 114, 495, 102, 407, 173, 76, 60, 251, 103, 142, 28, 115, 26, 175, 39, 64, 75, 48, 87, 42, 59, 63, 47, 37, 85, 75, 19, 137, 110, 49, 56, 128, 18, 39, 75, 142, 102, 139, 135, 191, 79, 44, 51, 95, 83, 114, 54, 144, 141, 35, 75, 53, 86, 88, 57, 28, 31, 42, 41, 67, 112, 22, 20, 12, 74, 75, 23, 67, 28, 74, 37, 69, 42, 95, 29, 239, 40, 75, 63, 129, 85, 142, 101, 157, 92, 83, 62, 164, 62, 105, 50, 28, 33, 115, 115, 90, 140, 49, 159, 127, 35, 43, 475, 78, 176, 174, 90, 121, 48, 180, 93, 73, 113, 104, 30, 100, 79, 75, 39, 63, 42, 158, 30, 123, 44, 61, 29, 35, 103, 113, 101, 61, 36, 58, 32, 171, 84, 120, 55, 117, 57, 80, 87, 190, 330, 21, 127, 127, 30, 146, 114, 79, 69, 93, 69, 51, 70, 121, 48, 24, 9, 177, 8, 28, 543, 407, 35, 80, 69, 94, 69, 14, 86, 45, 147, 38, 58, 144, 135, 33, 91, 86, 55, 83, 18, 53, 20, 47, 78, 76, 50, 46, 104, 21, 42, 57, 58, 43, 43, 95, 42, 93, 17, 71, 135, 36, 1117, 19, 126, 77, 64, 86, 111, 139, 111, 27, 42, 142, 41, 230, 54, 28, 29, 39, 48, 72, 71, 5, 28, 38, 102, 88, 35, 18, 87, 30, 78, 33, 26, 47, 82, 58, 92, 75, 149, 92, 6, 35, 56, 49, 36, 25, 65, 94, 95, 124, 397, 71, 83, 128, 76, 107, 210, 169, 157, 100, 59, 101, 74, 35, 79, 108, 125, 98, 44, 82, 19, 89, 44, 38, 20, 81, 61, 78, 74, 23, 29, 76, 81, 12, 40, 64, 99, 140, 35, 86, 25, 85, 36, 57, 85, 83, 39, 38, 69, 105, 82, 92, 51, 72, 5, 58, 104, 92, 11, 43, 146, 55, 138, 176, 23, 61, 61, 56, 1, 50, 237, 110, 106, 120, 15, 232, 102, 26, 141, 98, 85, 85, 64, 122, 94, 38, 277, 39, 80, 94, 40, 44, 15, 90, 41, 64, 77, 36, 33, 104, 22, 36, 200, 139, 114, 115, 220, 130, 108, 80, 146, 66, 251, 23, 178, 123, 57, 67, 58, 176, 60, 181, 93, 46, 112, 65, 61, 168, 19, 61, 55, 32, 140, 16, 75, 54, 65, 53, 37, 86, 73, 56, 77, 2, 73, 8, 71, 88, 48, 112, 38, 196, 84, 63, 74, 60, 59, 56, 69, 37, 88, 61, 96, 37, 106, 47, 25, 34, 65, 24, 37, 45, 100, 86, 45, 70, 28, 68, 60, 32, 42, 55, 58, 90, 26, 40, 39, 25, 30, 37, 104, 98, 125, 5, 138, 46, 67, 4, 94, 64, 24, 67], \"z\": [326, 75, 232, 214, 413, 72, 311, 11, 82, 185, 29, 379, 80, 64, 674, 46, 119, 323, 50, 149, 50, 309, 67, 217, 113, 64, 163, 78, 195, 22, 85, 683, 22, 58, 44, 17, 56, 71, 94, 53, 10, 17, 523, 54, 4, 11, 576, 39, 63, 21, 337, 18, 134, 26, 429, 267, 64, 498, 82, 628, 131, 92, 29, 30, 75, 47, 79, 50, 40, 227, 36, 78, 247, 239, 234, 39, 211, 317, 51, 29, 22, 376, 60, 52, 95, 29, 4, 33, 239, 24, 25, 128, 130, 5, 155, 107, 331, 149, 11, 11, 19, 58, 151, 606, 39, 554, 59, 1, 481, 28, 127, 70, 29, 71, 97, 612, 1, 151, 5, 85, 4, 371, 71, 64, 626, 134, 81, 236, 281, 317, 472, 376, 239, 211, 60, 64, 364, 10, 374, 335, 53, 19, 187, 393, 382, 435, 37, 178, 261, 148, 96, 71, 75, 60, 6, 38, 32, 428, 173, 70, 29, 373, 211, 426, 52, 283, 186, 375, 282, 9, 25, 63, 68, 24, 42, 18, 577, 552, 3, 149, 128, 8, 17, 64, 5, 411, 78, 539, 55, 131, 36, 288, 144, 2, 10, 414, 89, 358, 414, 437, 156, 385, 158, 429, 74, 292, 31, 23, 493, 107, 174, 73, 379, 64, 114, 23, 31, 407, 55, 74, 80, 584, 9, 598, 31, 64, 250, 373, 24, 82, 130, 4, 126, 4, 158, 28, 71, 40, 3, 373, 60, 94, 197, 108, 19, 40, 10, 417, 6, 399, 385, 95, 46, 283, 22, 46, 65, 40, 337, 19, 19, 502, 394, 731, 400, 15, 94, 20, 418, 78, 240, 60, 74, 212, 25, 17, 262, 203, 51, 18, 92, 157, 9, 12, 53, 37, 16, 41, 18, 39, 392, 190, 360, 1, 268, 169, 104, 351, 28, 4, 2, 1, 17, 3, 14, 411, 77, 546, 158, 201, 16, 60, 71, 80, 64, 432, 34, 257, 372, 505, 90, 89, 99, 397, 26, 281, 131, 11, 584, 185, 29, 127, 74, 579, 24, 134, 44, 19, 19, 74, 255, 423, 92, 449, 374, 430, 625, 253, 184, 236, 191, 179, 469, 78, 58, 136, 11, 283, 18, 288, 17, 316, 9, 73, 60, 86, 41, 15, 205, 34, 86, 40, 380, 7, 216, 84, 19, 428, 206, 50, 23, 156, 307, 64, 15, 65, 53, 517, 47, 65, 26, 40, 453, 40, 59, 100, 37, 52, 74, 216, 31, 400, 257, 114, 165, 11, 86, 179, 386, 75, 19, 18, 286, 438, 63, 374, 219, 32, 36, 217, 50, 39, 29, 28, 509, 241, 72, 3, 95, 162, 96, 124, 288, 33, 54, 50, 219, 63, 591, 103, 7, 251, 367, 76, 4, 66, 437, 117, 310, 255, 52, 29, 42, 92, 24, 29, 302, 145, 6, 58, 19, 11, 92, 129, 57, 501, 169, 393, 248, 58, 31, 527, 120, 358, 86, 120, 93, 378, 27, 24, 50, 16, 183, 632, 12, 464, 50, 59, 432, 93, 75, 11, 169, 264, 597, 180, 169, 17, 79, 11, 2, 154, 22, 49, 207, 60, 27, 66, 12, 211, 116, 198, 110, 77, 53, 47, 155, 7, 465, 22, 176, 109, 305, 32, 20, 106, 438, 64, 320, 41, 102, 33, 365, 12, 155, 31, 14, 274, 8, 123, 61, 319, 130, 383, 401, 2, 46, 3, 373, 47, 78, 36, 75, 40, 610, 71, 39, 375, 98, 11, 297, 41, 67, 427, 31, 68, 202, 60, 239, 95, 90, 31, 4, 247, 92, 110, 435, 184, 43, 81, 30, 220, 111, 278, 318, 411, 260, 51, 155, 109, 163, 74, 51, 99, 31, 9, 117, 223, 71, 51, 65, 207, 242, 163, 16, 161, 21, 421, 10, 274, 157, 366, 80, 32, 22, 109, 185, 44, 52, 38, 33, 65, 394, 149, 130, 107, 43, 362, 22, 99, 50, 303, 22, 366, 320, 9, 181, 11, 376, 155, 110, 416, 12, 104, 46, 72, 20, 382, 254, 50, 68, 207, 406, 430, 26, 312, 47, 376, 188, 24, 60, 58, 65, 16, 151, 311, 18, 152, 596, 76, 435, 111, 57, 1, 281, 3, 17, 169, 50, 425, 35, 7, 44, 306, 374, 72, 9, 246, 57, 91, 51, 438, 36, 170, 68, 416, 169, 5, 20, 280, 549, 235, 382, 188, 576, 414, 107, 44, 31, 137, 265, 519, 15, 3, 29, 43, 6, 147, 374, 47, 426, 43, 113, 87, 45, 145, 59, 58, 55, 26, 21, 53, 61, 9, 370, 37, 74, 64, 367, 197, 29, 680, 418, 149, 312, 23, 24, 36, 52, 26, 186, 262, 108, 77, 19, 132, 79, 254, 148, 85, 205, 395, 158, 437, 3, 91, 116, 213, 30, 51, 246, 32, 5, 366, 297, 57, 562, 72, 19, 12, 147, 64, 8, 96, 50, 30, 107, 57, 57, 376, 16, 212, 382, 39, 46, 170, 48, 473, 147, 51, 54, 488, 501, 173, 39, 80, 72, 256, 72, 31, 65, 5, 12, 275, 8, 410, 53, 179, 94, 105, 78, 173, 495, 380, 68, 104, 182, 84, 334, 31, 197, 311, 142, 246, 24, 18, 18, 50, 23, 66, 60, 18, 128, 458, 165, 134, 423, 18, 373, 321, 381, 367, 66, 154, 29, 14, 120, 3, 92, 59, 87, 85, 10, 1, 225, 60, 88, 52, 366, 319, 226, 29, 10, 74, 65, 411, 36, 127, 513, 135, 64, 22, 24, 4, 38, 66, 47, 355, 172, 22, 29, 10, 67, 64, 290, 61, 64, 4, 86, 104, 334, 157, 81, 1, 366, 158, 373, 96, 21, 492, 137, 40, 214, 170, 40, 172, 396, 16, 1, 92, 149, 31, 692, 10, 85, 323, 400, 15, 27, 22, 262, 405, 55, 396, 377, 30, 283, 25, 94, 338, 9, 51, 50, 113, 14, 77, 380, 40, 161, 28, 81, 189, 33, 25, 19, 173, 7, 11, 512, 54, 60, 24, 568, 3, 104, 178, 38, 151, 377, 25, 50, 382, 47, 35, 53, 27, 428, 36, 337, 28, 438, 33, 57, 4, 141, 75, 450, 45, 509, 17, 90, 53, 379, 134, 166, 158, 37, 91, 9, 45, 190, 317, 51, 40, 81, 49, 53, 24, 267, 172, 64, 417, 143, 12, 12, 365, 15, 66, 212, 115, 435, 16, 40, 235, 461, 61, 65, 32, 64, 6, 69, 241, 358, 10, 400, 150, 113, 493, 107, 46, 51, 46, 50, 36, 107, 208, 64, 421, 44, 375, 38, 58, 254, 44, 65, 33, 59, 38, 137, 19, 26, 22, 41, 33, 2, 404, 369, 199, 2, 93, 60, 81, 157, 227, 253, 8, 624, 178, 402, 248, 191, 154, 173, 277, 83, 17, 34, 74, 20, 3, 304, 456, 84, 165, 123, 30, 19, 376, 4, 55, 3, 475, 246, 47, 39, 17, 395, 260, 46, 12, 30, 92, 92, 456, 196, 270, 8, 31, 38, 373, 54, 145, 45, 563, 22, 45, 17, 82, 101, 115, 264, 50, 42, 249, 85, 219, 190, 653, 73, 317, 39, 407, 422, 60, 379, 66, 88, 157, 134, 5, 269, 16, 282, 65, 232, 17, 414, 95, 126, 94, 421, 50, 72, 67, 64, 17, 45, 469, 75, 361, 59, 25, 89, 171, 267, 318, 375, 57, 225, 379, 71, 41, 57, 34, 53, 378, 267, 51, 74, 71, 353, 373, 197, 177, 100, 72, 340, 31, 170, 465, 122, 626, 23, 430, 214, 429, 38, 18, 390, 120, 72, 1, 128, 428, 18, 552, 421, 107, 16, 44, 18, 63, 198, 33, 10, 32, 12, 2, 61, 90, 60, 323, 53, 401, 270, 57, 154, 19, 265, 70, 54, 57, 22, 44, 113, 57, 213, 28, 512, 6, 67, 34, 1, 136, 150, 88, 28, 178, 509, 74, 275, 88, 10, 76, 33, 47, 80, 3, 5, 383, 25, 372, 5, 61, 25, 415, 81, 190, 18, 110, 291, 96, 35, 6, 15, 3, 127, 85, 71, 249, 386, 71, 51, 16, 41, 36, 75, 454, 186, 70, 183, 15, 264, 52, 246, 81, 275, 74, 482, 223, 438, 32, 31, 246, 178, 43, 72, 141, 368, 16, 540, 19, 68, 15, 28, 55, 43, 73, 5, 61, 380, 415, 37, 46, 219, 78, 91, 302, 364, 52, 52, 506, 38, 591, 45, 31, 372, 215, 65, 8, 199, 273, 260, 423, 57, 68, 60, 100, 372, 398, 123, 282, 393, 554, 163, 23, 174, 103, 143, 5, 361, 96, 227, 16, 39, 39, 228, 128, 40, 197, 101, 50, 43, 53, 417, 15, 369, 145, 60, 31, 23, 77, 67, 38, 15, 35, 1, 367, 502, 17, 116, 277, 61, 21, 371, 26, 53, 26, 212, 383, 236, 135, 109, 185, 8, 4, 39, 38, 78, 255, 61, 5, 7, 421, 30, 23, 51, 30, 8, 41, 542, 61, 581, 111, 548, 86, 88, 30, 27, 157, 85, 118, 194, 28, 28, 82, 314, 59, 114, 36, 36, 22, 109, 28, 159, 29, 47, 574, 6, 3, 162, 152, 452, 416, 418, 239, 417, 1, 513, 377, 18, 32, 29, 22, 284, 380, 58, 79, 44, 202, 178, 57, 106, 36, 274, 30, 54, 60, 65, 310, 309, 3, 35, 313, 385, 108, 53, 15, 120, 4, 363, 117, 41, 148, 52, 139, 2, 108, 386, 42, 35, 228, 22, 29, 17, 101, 21, 395, 31, 46, 376, 23, 86, 151, 157, 380, 355, 46, 179, 36, 129, 312, 24, 303, 11, 49, 239, 432, 73, 40, 199, 71, 11, 65, 4, 19, 15, 20, 307, 39, 36, 185, 44, 42, 50, 386, 46, 19, 128, 33, 88, 2, 254, 148, 40, 497, 18, 192, 365, 127, 15, 43, 94, 23, 60, 158, 426, 10, 191, 78, 65, 59, 248, 8, 359, 290, 17, 9, 3, 162, 262, 25, 72, 128, 54, 30, 11, 360, 54, 610, 190, 54, 30, 618, 390, 130, 14, 95, 24, 71, 29, 218, 5, 253, 236, 109, 100, 12, 214, 239, 78, 217, 33, 540, 57, 130, 31, 424, 31, 276, 120, 61, 138, 37, 73, 26, 141, 4, 74, 24, 142, 132, 35, 188, 11, 45, 382, 321, 127, 71, 395, 79, 373, 39, 54, 9, 113, 240, 178, 376, 159, 15, 199, 57, 11, 21, 72, 53, 85, 74, 25, 37, 376, 74, 11, 375, 37, 4, 420, 2, 50, 3, 42, 85, 218, 422, 12, 407, 185, 2, 369, 324, 143, 30, 107, 205, 44, 12, 212, 323, 21, 374, 9, 4, 45, 88, 133, 11, 29, 52, 138, 5, 49, 40, 378, 199, 117, 142, 32, 38, 372, 374, 372, 29, 365, 36, 166, 145, 22, 185, 12, 237, 380, 380, 37, 4, 235, 373, 4, 380, 379, 36, 374, 19, 203, 634, 71, 393, 10, 408, 173, 133, 75, 40, 258, 114, 374, 217, 19, 26, 16, 330, 98, 313, 11, 37, 330, 20, 12, 26, 368, 24, 61, 19, 29, 63, 117, 51, 32, 135, 3, 75, 9, 57, 37, 23, 87, 31, 78, 72, 165, 82, 200, 157, 36, 26, 326, 531, 89, 31, 29, 211, 227, 57, 82, 72, 30, 219, 24, 51, 72, 134, 2, 44, 58, 74, 477]}, {\"hoverlabel\": {\"namelength\": 0}, \"hovertemplate\": \"RFM_Loyalty_Level=Platinum<br>Monetary=%{x}<br>Frequency=%{y}<br>Recency=%{z}\", \"legendgroup\": \"RFM_Loyalty_Level=Platinum\", \"marker\": {\"color\": \"#EF553B\", \"symbol\": \"circle\"}, \"mode\": \"markers\", \"name\": \"RFM_Loyalty_Level=Platinum\", \"scene\": \"scene\", \"showlegend\": true, \"type\": \"scatter3d\", \"x\": [5633.3199999999915, 4428.690000000002, 2849.8400000000015, 6373.679999999995, 18287.659999999993, 3887.070000000003, 8935.939999999993, 4252.89, 5356.230000000002, 1313.1000000000001, 4320.309999999998, 4067.3799999999983, 2989.2200000000007, 3426.319999999998, 5416.32, 9676.300000000001, 1845.3100000000006, 3901.110000000001, 2773.419999999994, 2399.45, 5067.269999999997, 2409.9000000000005, 6390.359999999998, 4340.770000000002, 23419.289999999997, 2596.930000000001, 144458.36999999968, 6816.909999999999, 1098.6, 5231.7999999999965, 2622.3899999999985, 7956.460000000004, 7485.909999999996, 10857.969999999988, 5059.3200000000015, 20581.260000000013, 13925.930000000008, 12683.400000000005, 2906.8500000000004, 5005.46, 4835.889999999999, 12669.87999999999, 5879.950000000002, 3181.039999999998, 2995.91, 1189.5900000000001, 3670.7400000000007, 39963.790000000045, 17880.590000000026, 3938.55, 12424.449999999995, 14115.409999999982, 20276.369999999995, 5464.850000000001, 12361.389999999989, 5120.579999999999, 6370.150000000001, 1298.6599999999999, 9823.64000000001, 1872.8700000000008, 6248.499999999999, 5955.210000000002, 3723.87, 5178.019999999998, 2648.62, 2502.8399999999983, 2056.8899999999994, 2634.26, 4372.149999999999, 11126.109999999991, 1316.6600000000005, 1933.4800000000007, 3759.2600000000007, 1933.1999999999998, 12601.830000000005, 11214.750000000007, 22254.49000000004, 4608.750000000004, 18716.14, 2134.01, 4966.920000000003, 13709.859999999991, 4124.689999999999, 1020.4200000000003, 1653.7500000000011, 4642.45, 14447.440000000004, 2338.1499999999996, 2062.670000000001, 4695.66, 2582.6600000000003, 5090.110000000005, 3811.2200000000016, 4534.089999999998, 5043.920000000003, 3435.859999999999, 2099.540000000001, 6835.070000000008, 5740.9800000000005, 3781.3800000000006, 1339.4099999999999, 24775.81000000001, 3747.84, 5164.879999999999, 6620.479999999998, 4478.53, 1270.8799999999999, 3481.5699999999997, 5678.160000000003, 2930.4100000000017, 8340.310000000009, 3539.300000000002, 17924.350000000002, 6407.830000000003, 6988.020000000009, 6070.039999999999, 11444.679999999991, 3760.29, 1230.0200000000002, 2843.09, 34281.179999999986, 30868.280000000002, 24033.90999999997, 12696.779999999995, 2283.6299999999997, 2863.0800000000004, 4873.810000000005, 1247.61, 1407.12, 4939.990000000006, 2446.4100000000003, 2340.84, 11762.099999999982, 5314.099999999998, 31093.340000000033, 7193.659999999997, 14093.710000000014, 1053.4899999999996, 8260.669999999995, 4013.08, 2317.5200000000004, 4014.5999999999985, 5679.53, 25775.71000000004, 2424.87, 2726.7300000000005, 25317.059999999976, 9276.540000000006, 56599.38999999967, 6897.3600000000015, 21429.39, 7857.099999999999, 9903.239999999998, 5020.739999999994, 1898.5200000000004, 10068.279999999993, 1686.1200000000006, 1775.6800000000012, 6722.269999999997, 4618.239999999998, 2225.91, 1804.750000000001, 8510.93, 2689.520000000002, 2955.7500000000036, 1018.7100000000003, 6585.619999999992, 3398.4799999999996, 10071.729999999992, 4041.9700000000007, 7540.679999999987, 6588.409999999996, 1636.8999999999999, 3090.5600000000004, 3907.5000000000014, 2994.019999999999, 2179.9300000000007, 3323.470000000002, 7913.289999999989, 3685.489999999996, 4081.7900000000004, 2955.1699999999983, 17654.539999999997, 2919.809999999999, 3103.1900000000005, 5796.519999999999, 6700.8600000000015, 4654.0199999999995, 35921.04000000006, 2469.3999999999996, 4304.890000000002, 92347.34000000003, 1687.0300000000016, 4243.860000000001, 1063.9000000000005, 3097.6099999999997, 25264.800000000007, 2317.43, 15526.700000000017, 3213.72, 1387.7900000000004, 4757.159999999999, 8706.970000000003, 3601.590000000003, 1524.9700000000003, 15972.79, 3156.3799999999983, 2744.8099999999995, 1239.38, 13551.750000000002, 1259.6299999999999, 974.42, 2110.91, 24172.09999999996, 11650.849999999982, 2972.83, 12625.770000000008, 5381.080000000003, 6586.419999999998, 9763.159999999994, 4887.239999999998, 1733.08, 1227.2199999999998, 2843.5500000000015, 3914.95, 4853.900000000005, 8795.160000000005, 4084.2099999999996, 12344.52999999998, 3168.530000000001, 2321.11, 1680.740000000001, 9683.129999999988, 3064.6699999999973, 29532.450000000015, 59205.15, 116737.85999999943, 14103.089999999998, 54943.65000000008, 2433.12, 13389.220000000023, 28882.440000000013, 11696.91999999997, 5253.069999999998, 2957.469999999999, 18625.73, 5494.699999999995, 2643.81, 2415.4100000000035, 4782.449999999995, 3998.2499999999986, 3313.7699999999995, 2475.2299999999996, 6274.559999999997, 7712.699999999968, 1467.24, 8202.98, 7668.5799999999945, 8621.809999999976, 1676.0599999999997, 2580.740000000003, 1750.1800000000007, 5687.36, 1437.8500000000006, 9275.489999999998, 1125.1499999999999, 1875.3100000000006, 2639.3500000000017, 9494.839999999986, 14059.189999999982, 7036.180000000003, 1701.2900000000009, 2558.5799999999995, 3068.8399999999997, 4974.229999999995, 16432.88999999999, 2648.2500000000014, 1988.5, 8509.51, 2729.319999999999, 3851.5199999999995, 16260.070000000002, 6360.7799999999925, 1357.6000000000015, 1738.519999999999, 3387.4299999999985, 1433.3800000000033, 8704.689999999966, 6135.039999999999, 9758.259999999995, 3214.6899999999996, 8891.699999999993, 1939.2599999999998, 2322.630000000002, 3364.59, 3320.8399999999965, 4368.620000000002, 3754.7100000000037, 1670.3700000000001, 1706.369999999999, 3445.3200000000033, 13191.569999999994, 6486.090999999994, 22082.500000000007, 2228.1000000000004, 10513.47, 9879.479999999994, 5112.969999999999, 2806.180000000002, 6263.749999999996, 22100.559999999998, 2543.720000000002, 3838.3599999999997, 5394.07, 1723.8600000000004, 7587.189999999994, 8224.369999999997, 6680.829999999998, 6621.699999999993, 3191.87, 51733.46200000001, 1669.4900000000002, 12233.600000000002, 4103.120000000001, 2626.3000000000006, 3403.6299999999997, 8167.379999999987, 499.97999999999985, 1006.8000000000001, 3316.240000000003, 4475.23, 3408.0599999999995, 1129.14, 9240.869999999984, 4120.04, 7190.919999999989, 2905.930000000001, 1766.7199999999998, 11959.269999999984, 4160.000000000001, 3097.6399999999994, 1083.71, 13390.50999999999, 2531.579999999998, 2657.7600000000016, 2834.1700000000033, 3830.840000000004, 3019.219999999999, 15587.880000000005, 4566.56, 5374.2599999999975, 1466.3, 1905.3899999999994, 4393.629999999999, 2479.159999999999, 4558.290000000005, 1685.2600000000004, 6909.400000000001, 1093.6500000000003, 5101.520000000003, 4683.740000000001, 7720.900000000022, 3448.2899999999986, 3112.730000000002, 4006.1699999999933, 1092.1400000000006, 908.9900000000001, 1005.7999999999997, 6978.919999999998, 8999.189999999993, 3032.2599999999993, 605.0599999999998, 4838.180000000005, 17249.550000000043, 1708.1200000000017, 893.7800000000007, 4546.539999999993, 11551.740000000005, 3489.2800000000057, 1539.039999999999, 2478.949999999998, 6349.589999999999, 5523.689999999995, 697.04, 10167.630000000008, 1185.1399999999999, 2175.8800000000056, 3319.530000000001, 2359.190000000001, 6272.529999999997, 2566.4899999999984, 13370.859999999999, 2031.7800000000002, 3648.149999999999, 5073.469999999994, 2999.1599999999994, 2624.260000000001, 3071.6800000000007, 3288.0000000000027, 2570.850000000002, 6307.999999999997, 6025.500000000006, 4894.879999999995, 13089.939999999991, 11435.669999999975, 3119.4400000000014, 3114.3999999999987, 196482.81000000006, 2770.7299999999987, 2613.4599999999987, 2308.0599999999986, 2035.3299999999995, 3365.8599999999965, 7591.750000000003, 8483.289999999992, 2815.250000000001, 5635.409999999996, 2855.1700000000033, 9813.220000000005, 2766.2099999999946, 3131.020000000001, 3602.1800000000007, 2161.3500000000013, 9207.499999999996, 9416.97999999999, 2953.2600000000007, 35540.530000000086, 5800.419999999996, 5728.819999999998, 3114.2200000000016, 56478.42000000003, 1793.720000000002, 2910.23, 75836.87000000011, 26259.11000000001, 3208.520000000001, 1747.66, 2765.4700000000007, 7475.7400000000025, 3403.449999999998, 3314.7599999999998, 7023.58, 1095.2700000000002, 1966.090000000008, 5629.909999999997, 1307.79, 3469.3000000000006, 4606.459999999999, 12253.960000000008, 1245.9000000000003, 2556.0899999999997, 3192.54, 8111.569999999993, 5712.080000000001, 7885.8499999999985, 4814.370000000001, 2473.060000000001, 4391.66, 45179.1, 1191.1299999999999, 6560.019999999999, 1888.4800000000007, 2927.3799999999983, 4008.5200000000004, 5676.339999999997, 2369.5499999999984, 4234.990000000001, 1838.8500000000001, 5257.3799999999965, 1560.9600000000003, 11122.299999999997, 2427.3199999999974, 12823.521000000002, 6640.680000000002, 1026.4200000000003, 4709.229999999996, 1076.18, 3011.87, 13365.869999999984, 4667.570000000002, 5358.839999999997, 3416.2300000000023, 4445.59, 7108.449999999998, 10020.859999999991, 4757.8, 6775.709999999999, 2313.140000000001, 3902.01, 9502.259999999991, 4530.09, 6258.450000000003, 2874.7200000000007, 11403.410000000002, 1249.01, 8262.28999999998, 40999.17000000005, 4850.270000000001, 2856.719999999999, 3069.88, 12645.570000000007, 3123.0999999999963, 4255.03, 13239.030000000022, 22434.0, 8214.64999999998, 8408.840000000004, 9519.080000000013, 25604.199999999993, 3332.42, 1438.820000000003, 1734.8700000000003, 5370.099999999972, 1407.260000000001, 10104.969999999988, 846.2199999999992, 64036.80000000004, 7229.449999999991, 65164.78999999966, 5765.709999999995, 9961.93, 1360.2800000000002, 5988.829999999997, 4877.299999999996, 12987.949999999993, 5834.590000000006, 7092.609999999999, 1382.7400000000002, 2780.1499999999996, 2740.4300000000017, 2591.340000000001, 3586.030000000001, 9643.92, 935.0499999999996, 9450.299999999992, 6460.699999999992, 313946.3700000004, 1002.7799999999997, 7938.010000000001, 3318.879999999999, 2594.620000000001, 7678.879999999998, 2229.3400000000024, 1620.93, 6319.249999999993, 5814.389999999998, 4817.660000000002, 18670.58999999994, 1569.7300000000002, 1062.9600000000007, 2414.200000000003, 4993.269999999999, 5861.519999999992, 4402.29, 3416.3299999999995, 2150.0400000000004, 3416.8900000000003, 6517.489999999992, 3002.5299999999984, 6368.710000000005, 2594.04, 2904.270000000001, 775.4600000000004, 4717.990000000001, 4263.170000000004, 7431.05, 1904.0500000000002, 2879.7000000000003, 5954.450000000002, 32051.340000000015, 2618.230000000001, 17225.810000000012, 7849.660000000012, 3284.4199999999996, 8479.760000000004, 4516.56, 7904.099999999995, 9226.249999999993, 3267.929999999999, 2362.91, 1305.3299999999997, 91194.49000000076, 14499.490000000002, 5071.030000000002, 3780.810000000002, 3090.290000000001, 3197.8200000000015, 2218.06, 9927.219999999992, 1943.5100000000004, 4318.480000000001, 1614.9100000000008, 4467.320000000002, 3333.699999999997, 2315.749999999999, 912.1800000000002, 9261.520000000006, 1246.8000000000022, 6701.000000000006, 6399.830000000002, 8208.009999999998, 2121.930000000004, 2612.960000000001, 6795.899999999991, 2899.11, 4109.7699999999995, 3756.0900000000024, 2651.1400000000012, 2399.330000000001, 12091.59999999993, 1937.2500000000002, 1260.9099999999996, 2469.3699999999994, 10271.519999999982, 11727.939999999999, 1244.8300000000004, 2255.5099999999984, 6638.729999999999, 4611.689999999998, 5367.02, 2386.4699999999993, 1241.3100000000015, 1711.729999999999, 2482.8000000000015, 3308.7699999999986, 3062.3999999999983, 6713.499999999999, 2270.010000000001, 3946.0299999999966, 4646.899999999999, 2220.990000000001, 1299.5200000000002, 2311.49, 4357.91, 1453.6100000000013, 5130.149999999997, 3911.2699999999995, 2138.9700000000025, 2470.6699999999996, 3543.2600000000016, 12001.839999999993, 3290.6699999999964, 3284.430000000002, 874.9400000000004, 1314.8099999999997, 4598.980000000006, 3749.259999999999, 2933.7100000000005, 8240.639999999989, 27792.300000000498, 6197.399999999996, 3859.18, 3466.37, 6271.10999999999, 6030.729999999981, 3795.3400000000024, 2499.6800000000017, 14906.769999999991, 2982.4299999999985, 5197.899999999996, 4007.539999999999, 1353.3100000000006, 1841.5400000000002, 2381.040000000002, 2315.63, 6114.029999999996, 6729.3999999999905, 3859.2200000000016, 5615.179999999992, 2621.420000000002, 1374.2500000000007, 1781.0300000000016, 1601.1400000000008, 1447.140000000001, 3712.010000000004, 2164.45, 2201.54, 30861.060000000394, 24137.63, 3352.94, 3000.5700000000015, 2059.58, 4497.8799999999965, 5410.92, 959.0100000000001, 4978.959999999996, 3667.0599999999995, 528602.5200000026, 3775.3099999999936, 2034.1200000000015, 3614.5399999999954, 3878.5099999999993, 1460.8700000000008, 2529.930000000001, 1416.330000000001, 2749.6499999999996, 21927.140000000054, 3243.929999999999, 3410.8100000000013, 1066.9000000000003, 8356.789999999995, 57412.77, 1468.5500000000018, 7713.5699999999915, 2767.8999999999983, 1250.7600000000014, 3116.259999999999, 4562.089999999994, 6754.219999999982, 1813.5700000000013, 8886.330000000004, 1922.590000000004, 2868.7999999999965, 5418.869999999991, 906.2399999999999, 1840.4500000000012, 1602.1300000000008, 2093.060000000005, 1315.2399999999996, 2005.0600000000063, 5517.070000000002, 16184.970000000003, 12240.159999999996, 3554.17, 12287.5, 4161.06, 1897.5900000000006, 3885.08, 3152.3200000000024, 9972.549999999992, 2653.7600000000007, 1625.9699999999993, 6556.1299999999965, 15771.880000000026, 3637.6400000000003, 3708.2999999999956, 1156.3200000000002, 2526.6200000000003, 1953.8999999999999, 10889.640000000009, 7774.3199999999915, 1104.64, 2741.169999999997, 2537.0200000000004, 3959.8599999999983, 1274.76, 4022.909999999999, 4925.080000000004, 2206.1600000000008, 3460.3199999999983, 7163.000000000003, 2824.6899999999996, 6702.43, 15763.449999999986, 6147.179999999996, 4322.860000000001, 6520.300000000002, 3651.851, 1705.6399999999994, 20850.219999999998, 4184.01, 2804.2399999999984, 1258.970000000001, 4105.24, 3628.1499999999996, 1809.6100000000001, 25119.54000000002, 3140.54, 3507.8100000000018, 2289.6500000000005, 1035.6200000000003, 2810.63, 1640.639999999999, 6165.7899999999945, 295972.63000000146, 1889.2500000000002, 4073.1299999999937, 3042.950000000003, 5246.629999999999, 3503.5, 12410.809999999956, 9784.669999999991, 1101.9699999999996, 17629.34999999999, 1013.7699999999995, 16410.149999999983, 3164.480000000001, 1115.8400000000008, 4919.35, 1116.5699999999993, 3142.1399999999985, 1271.4100000000008, 4817.279999999999, 14106.199999999928, 1261.7799999999997, 2783.8300000000013, 1186.0899999999995, 12170.679999999991, 4075.5099999999957, 1013.0900000000007, 3195.6000000000004, 1157.7099999999998, 3156.5799999999986, 2586.670000000001, 8313.399999999976, 1309.8600000000024, 40031.430000000204, 16204.329999999996, 7812.39, 4193.790000000001, 3935.160000000003, 3410.030000000001, 3523.569999999996, 137818.52000000016, 2585.620000000001, 3326.860000000001, 3877.8800000000024, 1176.8500000000001, 2788.0199999999995, 17761.87999999994, 3767.3500000000026, 1965.720000000001, 1160.07, 2420.8400000000024, 14326.110000000019, 908.3500000000004, 1477.94, 3094.910000000002, 1422.5200000000002, 2730.870000000001, 3609.330000000001, 3400.1199999999985, 2485.97, 4497.470000000001, 4656.1700000000055, 17024.869999999995, 6860.179999999995, 1596.2900000000004, 1286.7000000000005, 3243.690000000001, 2619.9199999999996, 12160.309999999983, 1194.7300000000005, 9001.079999999987, 5263.829999999999, 1388.4100000000012, 961.4899999999999, 2654.1099999999983, 22116.73000000001, 2068.920000000001, 1624.0499999999997, 7491.920000000005, 4777.180000000001, 17524.379999999997, 12427.689999999975, 1877.51, 4400.180000000003, 1661.44, 2422.430000000001, 11516.569999999998, 2488.49, 5580.27, 2937.8100000000004, 1412.320000000001, 4459.9800000000005, 3050.1600000000008, 4610.84, 9266.000000000002, 20324.540000000008, 2055.090000000001, 3729.4199999999987, 9188.23, 3345.6400000000026, 8524.859999999995, 4709.539999999996, 2085.480000000002, 8543.569999999987, 3883.130000000001, 10496.28, 13846.559999999998, 10342.829999999993, 9459.36999999999, 7603.439999999995, 3484.73, 116771.15999999932, 2930.19, 6709.729999999994, 2984.3300000000017, 6553.740000000002, 1827.8400000000013, 3738.29, 3175.95, 3464.9499999999994, 17050.410000000044, 4557.129999999998, 2389.0799999999995, 5081.33, 3739.0099999999993, 3421.3899999999985, 4877.840000000002, 3479.060000000002, 13733.54999999997, 2911.619999999998, 5286.800000000002, 1345.5299999999997, 1056.44, 4685.720000000004, 1358.8800000000003, 4572.820000000001, 3805.3399999999992, 2615.3900000000003, 1483.1399999999999, 2567.0599999999986, 1122.5300000000007, 5175.929999999992, 1418.2600000000016, 974.52, 1799.1100000000004, 1388.370000000001, 12655.650000000003, 1571.0100000000002, 1316.5599999999995, 6279.0, 14592.560000000001, 4656.000000000003, 5771.509999999998, 2419.610000000001, 3100.0900000000015, 4314.979999999985, 3780.050000000001, 8657.38999999999, 26039.580000000013, 1131.5600000000004, 13993.469999999998, 3610.9600000000005, 2040.0299999999984, 909.2300000000001, 27750.550000000032, 6598.549999999998, 4218.939999999993, 7106.689999999994, 17359.99000000001, 1295.7000000000014, 5575.639999999997, 5111.94999999999, 1813.7199999999996, 2007.4399999999994, 3771.8999999999946, 8162.430000000011, 10154.389999999996, 2345.96, 2218.7999999999984, 1710.080000000001, 12112.350000000064, 1934.3899999999996, 2866.9999999999964, 9311.039999999994, 4051.6299999999965, 4068.670000000002, 1207.1800000000014, 1302.5000000000016, 7794.589999999992, 1277.5000000000018, 1771.78, 3130.040000000001, 14960.120000000026, 3230.5099999999998, 5230.989999999998, 2997.2799999999993, 21373.969999999947, 7852.609999999994, 3236.4, 5652.259999999997, 3285.310000000001, 23957.58000000004, 5345.549999999995, 1055.1699999999994, 2812.9900000000002, 4015.120000000001, 2657.1300000000006, 6414.789999999991, 6948.229999999999, 3435.7599999999998, 4507.579999999999, 2989.700000000001, 2993.099999999999, 10810.809999999992, 3906.5699999999965, 1542.14, 3817.960000000002, 945.5799999999999, 4378.720000000002, 3472.4099999999985, 3056.81, 10223.059999999934, 741.9200000000002, 5258.1, 9445.509999999987, 1205.12, 13372.97000000001, 1094.59, 2562.6099999999997, 6797.1909999999825, 4207.540000000007, 3037.609999999999, 5993.119999999987, 2940.3599999999983, 4503.08, 15601.09, 88704.31999999999, 4014.0999999999995, 5969.929999999996, 8514.819999999992, 948.0500000000001, 3608.340000000001, 2399.5699999999997, 5175.829999999996, 1424.2899999999993, 4206.389999999997, 10189.229999999992, 18409.930000000055, 2999.04, 3890.519999999998, 2634.4400000000005, 3934.7900000000004, 1840.0599999999995, 3897.1700000000005, 2598.28, 3794.07, 3772.9899999999966, 74162.99999999993, 2742.4099999999994, 4426.280000000001, 1058.7200000000005, 5583.809999999994, 34220.34000000012, 3960.3699999999913, 2505.2100000000046, 4401.790000000006, 2928.290000000002, 9063.949999999983, 795.6800000000001, 11284.759999999995, 5596.30999999999, 900.3999999999999, 703.2199999999998, 8939.840000000002, 2555.6399999999985, 967.4499999999998, 2681.7999999999997, 3427.169999999997, 910.6100000000009, 2495.870000000001, 1107.4600000000003, 9060.39, 1509.0900000000001, 7180.710000000008, 1013.17, 3669.5499999999997, 8658.36, 930.0999999999999, 3013.09, 3041.6000000000013, 5902.83, 3442.15, 1054.7299999999996, 3279.4200000000014, 6593.680000000002, 9362.770000000004, 3958.819999999999, 8759.319999999985, 1682.1300000000006, 2010.05, 2797.5699999999983, 1686.900000000001, 8308.339999999987, 5613.829999999996, 2436.2200000000003, 3075.1399999999962, 5384.130000000006, 992.7099999999999, 5880.459999999996, 2989.7899999999995, 57446.44000000004, 1130.2700000000007, 705.3899999999996, 2533.940000000002, 17465.849999999995, 122209.14000000016, 10836.129999999974, 2556.840000000002, 2416.899999999999, 2265.1199999999994, 3434.929999999999, 1899.6800000000023, 3634.840000000004, 3854.8500000000017, 3217.769999999998, 2863.45, 2382.6200000000013, 1521.8700000000001, 4328.889999999999, 2234.729999999999, 4460.180000000003, 2343.5300000000016, 2864.9900000000002, 3695.5599999999995, 4448.099999999999, 3229.160000000002, 6191.710000000004, 2778.610000000002, 3204.16, 1819.2700000000007, 2575.1399999999967, 1720.8100000000002, 3056.9100000000008, 1477.0900000000006, 4587.649999999995, 14646.8, 3801.050000000001, 9957.419999999993, 22992.25999999999, 2145.34, 1111.15, 4910.83, 6805.439999999999, 4395.590000000002, 5133.489999999998, 6218.180000000002, 12831.79999999996, 10636.46999999999, 1822.9700000000003, 6869.000000000004, 1418.3199999999993, 16249.869999999997, 9026.109999999993, 6911.439999999999, 2723.5499999999997, 15688.020000000004, 5643.449999999982, 2112.119999999999, 944.24, 1830.6100000000029, 2602.320000000001, 3440.450000000002, 4146.780000000001, 38489.51000000002, 1293.7100000000003, 4439.970000000002, 2235.51, 2867.4100000000035, 2867.8600000000033, 2712.9700000000007, 3718.800000000001, 4329.309999999995, 7474.399999999996, 2579.3799999999987, 1413.660000000001, 7310.149999999995, 4906.799999999997, 11942.51999999998, 1059.4500000000003, 6935.169999999999, 3463.020000000002, 5705.080000000003, 4403.820000000004, 4657.949999999998, 1328.5500000000004, 7928.269999999998, 5744.910000000001, 5628.989999999996, 3597.4999999999973, 4826.989999999998, 10731.340000000004, 2010.4100000000017, 26626.8, 3850.79, 3509.4099999999985, 1798.2200000000018, 2253.890000000001, 3330.029999999997, 9999.46, 2919.649999999999, 2697.7500000000014, 3512.5299999999997, 3307.199999999998, 1548.13, 1362.3999999999996, 2664.81, 1320.5600000000004, 1328.6100000000024, 1771.450000000002, 987.0100000000007, 2157.400000000001, 2974.840000000009, 1102.5900000000004, 5561.6599999999935, 3537.849999999998, 3159.439999999999, 6849.149999999998, 552.6800000000001, 2821.650000000002, 5709.039999999987, 910.190000000001, 2972.8799999999997, 1101.9400000000007, 63651.47000000004, 1908.2500000000002, 2741.7400000000002, 3856.9699999999984, 899.4699999999998, 3656.579999999998, 4384.369999999999, 6862.909999999999, 5715.340000000013, 1422.4, 1314.6800000000003, 3838.5899999999974, 828.9100000000007, 2458.6000000000004, 1871.5000000000025, 4320.020000000002, 2294.6799999999994, 2330.7700000000013, 6695.279999999994, 2578.34, 3614.339999999998, 1819.0200000000013, 3216.3000000000006, 2482.6199999999985, 11916.330000000005, 24582.640000000018, 2298.3300000000013, 1095.5600000000006, 1001.5899999999997, 3732.01, 13182.19000000001, 9435.130000000005, 16644.009999999995, 2841.720000000001, 8012.579999999981, 13873.50999999998, 3048.3799999999983, 4422.759999999998, 7434.310000000002, 4248.739999999999, 3163.6699999999983, 7807.909999999992, 1810.1800000000007, 2153.4099999999994, 5706.869999999996, 5493.460000000006, 3245.4300000000017, 2647.5900000000015, 1758.93, 4413.100000000002, 2318.1, 2883.1000000000004, 2430.530000000001, 1077.45, 17550.38999999999, 1212.6600000000005, 6548.37, 16833.170000000002, 933.6199999999995, 1374.8700000000003, 8030.149999999999, 8134.94, 2361.9000000000005, 3109.990000000001, 147142.76999999993, 5070.919999999988, 1260.8600000000001, 1199.4600000000007, 9167.709999999994, 9916.729999999994, 43515.05100000002, 9087.459999999994, 6349.089999999993, 2868.479999999999, 4266.989999999996, 14560.690000000015, 6986.229999999999, 3647.5299999999975, 3973.2999999999965, 795.4800000000005, 8989.079999999996, 2088.410000000001, 1054.6699999999996, 7239.919999999984, 4387.639999999998, 6270.560000000004, 2852.61, 4253.259999999994, 1304.7599999999993, 7194.300000000006, 18066.399999999994, 3637.3300000000036, 2900.5800000000036, 1501.3799999999997, 2799.250000000002, 8073.799999999997, 1708.1200000000013, 1932.130000000002, 3967.6, 3056.8899999999976, 1307.7600000000016, 33268.24000000002, 10438.409999999974, 896.5300000000001, 1545.6199999999997, 4038.69, 2090.910000000001, 2492.3899999999985, 1201.4900000000002, 1727.4299999999992, 1692.9799999999998, 12499.71, 2804.9, 3349.57, 2409.040000000001, 3170.9800000000014, 22310.48999999998, 4006.06, 19571.430000000008, 2812.3399999999997, 14617.39, 4234.530000000001, 853.7199999999998, 1840.8600000000008, 2396.5899999999997, 2530.9, 2056.820000000001, 1121.4200000000003, 1016.3700000000005, 1721.0200000000007, 1062.28, 5132.369999999992, 5034.149999999998, 1448.800000000001, 1707.9000000000035, 1510.060000000002, 4480.310000000001, 1543.180000000001, 1123.4, 3213.29, 5125.910000000002, 13378.360000000004, 4113.229999999999, 1295.3900000000006, 5233.61999999999, 3181.2500000000014, 2110.99, 7043.179999999994, 6427.659999999994, 1920.5900000000017, 8548.160000000005, 1286.27, 3784.3700000000017, 6081.879999999998, 2043.4300000000003, 2859.7399999999993, 3710.220000000003, 10754.799999999988, 10923.159999999985, 4888.750000000002, 2535.9, 5476.5, 6640.800000000001, 2571.5500000000006, 2425.1599999999994, 1636.3199999999997, 1842.5599999999995, 14110.609999999988, 4012.2000000000016, 1327.1100000000013, 2773.850000000001, 1283.9199999999996, 1044.3800000000003, 2616.550000000001, 11962.299999999994, 9947.479999999981, 4691.790000000003, 5602.529999999984, 5232.23, 3638.530000000001, 9161.079999999993, 5794.279999999999, 3801.2000000000035, 1446.09, 2241.7300000000014, 964.3900000000001, 4732.030000000002, 5202.9699999999975, 7891.409999999995, 2050.079999999999, 3149.4800000000005, 7811.100000000011, 5594.960000000001, 2572.2500000000027, 3759.1800000000007, 1340.450000000001, 971.74, 2507.05, 16075.41999999997, 2761.490000000002, 2463.170000000001, 14622.330000000007, 1954.1599999999999, 4417.2699999999995, 19584.459999999977, 5860.239999999998, 3199.9499999999985, 5151.899999999998, 2099.5900000000006, 10209.159999999983, 2467.350000000001, 3766.5999999999985, 2256.9800000000027, 3347.309999999999, 4592.93, 1743.0400000000006, 4836.049999999992, 1213.8800000000008, 1242.040000000001, 5575.8799999999965, 5504.6900000000005, 4046.6499999999955, 5182.300000000004, 4192.679999999997, 4481.750000000004, 978.5199999999999, 2022.0300000000007, 3177.2400000000043, 9924.95, 7197.039999999971, 1904.8799999999999, 1929.2600000000004, 1002.0800000000003, 7783.0999999999785, 20889.86000000001, 470.72999999999945, 2339.6600000000008, 2793.159999999995, 4111.959999999996, 2499.979999999999, 2079.3900000000012, 1501.4400000000003, 3774.23, 1016.0799999999999, 1135.6299999999999, 9782.35, 3566.5600000000018, 4904.429999999998, 9650.599999999986, 2895.769999999999, 1741.1800000000012, 1565.5900000000004, 2301.87, 1004.43, 12142.569999999989, 22404.820000000003, 1604.680000000001, 5322.999999999994, 2476.409999999999, 1906.0410000000006, 3143.4600000000023, 1231.3800000000006, 12070.420000000011, 8224.979999999983, 2826.140000000001, 662.5500000000001, 4377.559999999998, 18319.410000000105, 40002.36999999997, 2812.77, 2691.57, 57224.67999999999, 1233.180000000001, 4677.049999999999, 5096.179999999996, 47781.11999999997, 1031.41, 4905.049999999998, 1214.7199999999996, 1425.3800000000003, 4417.5199999999995, 17298.449999999993, 6500.52, 3594.7600000000007, 8077.769999999993, 31819.760000000064, 1751.3900000000012, 2373.8200000000006, 4620.300000000003, 4951.149999999991, 246973.09000000008, 1721.3999999999999, 2557.9099999999976, 5051.250000000004, 2804.869999999997, 1255.5900000000006, 2750.5000000000005, 5981.070000000005, 9565.119999999997, 4579.229999999998, 6115.140000000001, 175603.55000000005, 5467.82, 1617.4600000000019, 957.5499999999995, 5109.469999999997, 1070.71, 4166.04, 3628.5000000000014, 3141.51, 1590.6000000000001, 1448.5400000000006, 2547.6400000000003, 3085.290000000001, 1952.4499999999998, 1057.7399999999996, 722.3400000000003, 1122.3799999999997, 901.2100000000007, 5356.029999999996, 1703.7500000000011, 9056.810000000003, 18757.750000000004, 5309.419999999999, 14049.87, 1479.22, 2776.670000000001, 8095.799999999995, 2497.8800000000024, 4920.669999999994, 7451.130000000004, 1894.3400000000008, 8371.97999999998, 5394.860000000005, 4559.15, 4073.24, 3175.1200000000003, 2383.6699999999983, 1568.6300000000008, 6067.799999999997, 2455.5199999999995, 998.4900000000002, 2361.9700000000034, 3168.9400000000005, 6028.5999999999985, 4149.79, 5703.520000000004, 4867.7199999999975, 3652.4800000000014, 3834.790000000001, 5175.829999999996, 1166.2300000000005, 3950.7000000000016, 6142.349999999999, 2403.34, 5778.629999999997, 4233.580000000001, 38259.60000000001, 2765.8399999999997, 36692.90999999998, 3577.6100000000015, 4456.779999999999, 5943.1699999999955, 8296.810000000009, 7448.099999999993, 2975.800000000001, 7679.58999999999, 6679.969999999993, 3144.0400000000013, 2083.899999999999, 20749.98000000001, 15956.969999999987, 5396.040000000004, 2768.9099999999994, 4430.36, 3439.0800000000004, 1060.25, 4238.760000000002, 7773.799999999994, 17244.929999999957, 4183.560000000002, 7730.589999999995, 2649.1399999999985, 1797.5699999999997, 4577.530000000003, 9422.449999999973, 5012.530000000002, 1276.9100000000008, 918.9299999999998, 1623.6399999999999, 3509.5100000000007, 7103.079999999996, 3328.049999999997, 665.86, 2601.469999999999, 2783.610000000001, 1361.9900000000005, 1985.8700000000015, 6341.889999999989, 5053.12, 11337.390000000007, 9609.799999999987, 1165.8900000000012, 1770.8800000000026, 6612.519999999997, 2388.050000000001, 1820.0900000000006, 4756.740000000002, 1593.3800000000008, 6722.899999999994, 70884.0699999986, 3650.8999999999974, 56600.07999999964, 28682.239999999998, 12797.650000000005, 5127.689999999997, 5745.199999999997, 924.319999999999, 26374.390000000087, 3108.1499999999987, 6515.879999999997, 995.8499999999996, 3072.8899999999976, 1608.38, 1820.440000000001, 2453.3800000000015, 2584.9999999999986, 2383.5200000000013, 3479.6400000000012, 24516.460000000265, 2423.500000000002, 3536.7000000000007, 4275.219999999999, 3437.289999999998, 4301.22, 118628.08, 1432.8100000000009, 3966.049999999993, 2995.540000000001, 7240.979999999982, 2369.940000000001, 1858.0600000000004, 7028.829999999991, 2313.320000000002, 1970.6700000000023, 953.8400000000005, 997.8599999999999, 19787.130000000016, 1960.46, 1651.7899999999995, 793.6999999999999, 1563.6399999999999, 8752.379999999972, 875.9700000000005, 3505.609999999999, 11195.570000000016, 6488.969999999999, 5866.629999999995, 4540.5599999999895, 5783.290000000001, 4338.559999999998, 4242.749999999996, 16179.440000000017, 4452.709999999999, 6391.519999999998, 1805.2800000000032, 4663.319999999999, 608821.65, 9893.960000000003, 2154.300000000003, 6733.219999999964, 1826.2100000000016, 1142.989999999999, 1059.3900000000003, 8438.339999999997, 5058.0, 5617.789999999993, 941.1699999999998, 1803.1, 3770.2700000000004, 2877.9999999999986, 2437.31, 17479.839999999993, 6103.739999999998, 2547.5500000000006, 1843.75, 1205.94, 3280.590000000001, 1464.3099999999981, 5425.560000000004, 1993.7, 2768.829999999999, 3562.89, 1424.9399999999994, 14000.849999999982, 13054.259999999967, 11878.879999999996, 10803.709999999995, 4291.059999999999, 6880.970000000003, 987.0999999999998, 2986.9899999999993, 3605.2100000000023, 6324.979999999998, 26278.860000000008, 4600.1500000000015, 4318.200000000001, 9962.109999999997, 1213.16, 4385.979999999998, 2736.65, 4182.989999999999], \"y\": [253, 175, 103, 143, 296, 77, 365, 217, 267, 85, 202, 167, 83, 152, 301, 277, 87, 146, 281, 107, 254, 126, 166, 159, 264, 127, 928, 371, 65, 172, 165, 294, 173, 406, 108, 706, 112, 564, 98, 177, 201, 511, 227, 125, 85, 62, 150, 1138, 911, 168, 710, 516, 564, 242, 391, 139, 475, 55, 462, 111, 57, 146, 147, 145, 74, 284, 124, 152, 250, 240, 71, 92, 158, 127, 261, 504, 771, 238, 58, 105, 207, 639, 188, 60, 302, 172, 466, 96, 94, 180, 81, 199, 206, 206, 132, 175, 106, 327, 270, 100, 92, 770, 174, 183, 294, 230, 64, 183, 306, 179, 635, 160, 556, 247, 406, 45, 539, 115, 74, 107, 376, 1465, 1039, 541, 105, 157, 171, 72, 59, 268, 147, 88, 599, 310, 500, 276, 696, 69, 509, 239, 129, 179, 203, 393, 157, 89, 339, 257, 7230, 338, 197, 371, 313, 302, 69, 455, 81, 114, 277, 227, 84, 131, 33, 160, 166, 56, 414, 423, 576, 176, 702, 221, 126, 148, 148, 265, 314, 195, 1063, 436, 170, 277, 116, 63, 158, 137, 96, 184, 1534, 74, 179, 218, 296, 254, 62, 217, 86, 125, 715, 194, 79, 180, 490, 190, 383, 425, 154, 178, 76, 97, 76, 61, 107, 1026, 815, 154, 554, 225, 349, 603, 257, 82, 159, 212, 232, 419, 398, 268, 1009, 253, 154, 94, 1116, 347, 801, 2358, 3363, 283, 1050, 32, 1017, 572, 492, 178, 252, 393, 314, 188, 148, 298, 251, 149, 121, 315, 1441, 99, 265, 425, 793, 86, 176, 164, 251, 121, 238, 81, 180, 250, 1132, 687, 156, 181, 162, 188, 314, 207, 169, 254, 366, 206, 204, 125, 1339, 207, 231, 379, 324, 1920, 307, 426, 440, 499, 249, 210, 231, 328, 123, 206, 71, 130, 187, 175, 344, 955, 150, 132, 342, 125, 118, 480, 215, 119, 399, 298, 102, 358, 356, 264, 409, 89, 840, 77, 563, 272, 127, 178, 343, 144, 67, 129, 152, 167, 59, 558, 147, 1042, 144, 63, 485, 62, 151, 99, 728, 260, 70, 158, 224, 158, 724, 268, 147, 85, 198, 215, 162, 289, 61, 205, 436, 231, 457, 392, 179, 144, 337, 153, 187, 59, 208, 407, 180, 175, 196, 1271, 374, 214, 676, 279, 168, 90, 174, 410, 410, 166, 410, 195, 416, 229, 271, 367, 292, 87, 71, 221, 450, 162, 146, 140, 172, 159, 329, 237, 275, 770, 652, 39, 96, 1525, 96, 243, 134, 84, 155, 408, 534, 251, 189, 164, 656, 557, 321, 75, 342, 348, 309, 376, 795, 285, 216, 575, 391, 244, 43, 722, 448, 169, 76, 143, 356, 163, 100, 187, 71, 472, 355, 81, 220, 140, 181, 76, 160, 33, 860, 241, 402, 270, 107, 229, 457, 65, 316, 190, 173, 186, 310, 122, 238, 117, 271, 110, 105, 160, 409, 25, 152, 227, 163, 172, 1106, 255, 752, 406, 253, 341, 482, 295, 261, 155, 230, 466, 112, 241, 84, 448, 72, 866, 781, 244, 151, 161, 794, 851, 164, 1081, 334, 1106, 454, 270, 343, 244, 324, 81, 942, 255, 1068, 221, 682, 373, 5111, 525, 90, 79, 279, 236, 400, 326, 122, 72, 159, 167, 109, 200, 256, 66, 456, 292, 4048, 89, 1874, 310, 58, 331, 210, 327, 301, 316, 265, 952, 91, 232, 123, 231, 329, 240, 192, 77, 181, 347, 98, 377, 72, 73, 159, 148, 210, 371, 111, 78, 240, 301, 143, 382, 254, 61, 499, 151, 494, 193, 134, 72, 62, 2864, 340, 310, 189, 180, 133, 179, 553, 63, 258, 90, 266, 243, 146, 55, 524, 302, 414, 491, 817, 291, 87, 266, 211, 129, 106, 394, 118, 1261, 124, 229, 96, 552, 604, 144, 382, 141, 154, 183, 153, 339, 106, 546, 522, 970, 648, 289, 200, 216, 308, 65, 152, 253, 190, 364, 371, 319, 624, 164, 1608, 472, 267, 188, 68, 340, 176, 328, 543, 2701, 485, 318, 89, 731, 845, 273, 181, 217, 192, 795, 366, 98, 300, 216, 119, 200, 611, 160, 526, 398, 185, 506, 383, 197, 621, 136, 103, 6566, 209, 43, 159, 292, 266, 232, 152, 292, 204, 3854, 572, 288, 386, 103, 215, 253, 253, 132, 1362, 395, 163, 240, 133, 1292, 519, 513, 172, 210, 170, 616, 721, 483, 357, 442, 357, 702, 93, 138, 237, 481, 105, 501, 277, 348, 366, 45, 256, 231, 85, 121, 191, 475, 119, 102, 340, 1426, 197, 190, 58, 145, 104, 1553, 656, 132, 235, 325, 230, 64, 158, 310, 87, 209, 300, 145, 277, 755, 310, 215, 207, 213, 66, 137, 211, 250, 201, 377, 68, 106, 900, 127, 304, 167, 59, 355, 144, 296, 11247, 63, 247, 134, 279, 185, 527, 303, 63, 307, 259, 670, 493, 160, 113, 160, 293, 56, 370, 2454, 182, 718, 154, 1015, 371, 146, 91, 119, 405, 510, 764, 284, 2792, 915, 406, 156, 290, 357, 595, 987, 159, 166, 178, 221, 159, 793, 145, 109, 57, 145, 332, 66, 58, 151, 100, 151, 100, 231, 131, 228, 183, 240, 207, 85, 68, 112, 142, 349, 67, 575, 300, 188, 55, 152, 810, 361, 110, 314, 91, 241, 492, 59, 343, 110, 113, 401, 120, 234, 187, 99, 224, 184, 148, 502, 230, 116, 189, 398, 193, 168, 624, 307, 522, 181, 292, 246, 535, 442, 380, 162, 4434, 163, 309, 155, 189, 224, 372, 387, 755, 1130, 218, 138, 279, 144, 201, 263, 53, 632, 144, 227, 73, 153, 162, 99, 228, 316, 534, 306, 134, 329, 646, 219, 60, 202, 286, 263, 265, 162, 215, 149, 241, 161, 114, 154, 650, 379, 121, 971, 68, 361, 97, 278, 160, 562, 340, 455, 405, 214, 259, 331, 810, 143, 228, 627, 557, 1358, 162, 240, 151, 1681, 92, 259, 786, 635, 356, 220, 171, 718, 224, 103, 176, 872, 129, 145, 94, 901, 426, 171, 318, 167, 765, 311, 68, 161, 288, 78, 287, 351, 202, 266, 88, 166, 155, 224, 237, 207, 214, 395, 166, 326, 1780, 155, 181, 694, 72, 496, 62, 220, 650, 610, 131, 371, 193, 249, 1238, 224, 61, 225, 466, 206, 167, 30, 295, 155, 263, 531, 858, 166, 310, 98, 260, 65, 156, 119, 231, 378, 209, 92, 174, 334, 258, 1161, 483, 368, 798, 581, 1059, 215, 342, 697, 130, 171, 116, 203, 249, 628, 327, 192, 115, 74, 161, 95, 395, 59, 186, 362, 151, 368, 498, 42, 176, 65, 129, 117, 288, 316, 747, 196, 180, 552, 212, 1436, 203, 514, 666, 254, 90, 455, 241, 220, 291, 182, 382, 405, 383, 1402, 140, 125, 130, 148, 501, 194, 218, 422, 185, 433, 102, 556, 129, 399, 376, 137, 196, 163, 192, 200, 233, 31, 449, 428, 54, 95, 359, 301, 384, 182, 219, 545, 116, 57, 239, 396, 238, 226, 263, 1158, 309, 85, 440, 84, 327, 525, 295, 119, 233, 627, 124, 110, 200, 244, 253, 67, 281, 78, 164, 262, 302, 176, 105, 135, 994, 682, 154, 90, 302, 535, 344, 168, 337, 305, 349, 593, 241, 79, 286, 297, 241, 138, 495, 947, 199, 45, 158, 354, 266, 122, 187, 174, 154, 125, 662, 130, 78, 229, 170, 228, 333, 358, 125, 108, 418, 147, 786, 647, 281, 363, 160, 232, 791, 207, 187, 169, 712, 372, 187, 307, 250, 376, 225, 415, 383, 82, 236, 350, 205, 483, 360, 260, 145, 138, 337, 144, 213, 320, 240, 415, 371, 364, 138, 177, 76, 152, 3250, 813, 293, 167, 482, 780, 199, 90, 241, 255, 83, 428, 474, 143, 298, 276, 167, 96, 94, 179, 125, 152, 140, 54, 275, 69, 610, 141, 208, 160, 485, 114, 133, 163, 718, 1106, 62, 174, 529, 275, 691, 306, 986, 33, 530, 1336, 366, 223, 444, 158, 419, 270, 269, 660, 221, 303, 109, 375, 242, 357, 989, 165, 329, 89, 706, 324, 164, 354, 412, 278, 146, 1054, 1883, 160, 93, 698, 518, 408, 164, 259, 449, 804, 151, 189, 92, 165, 355, 219, 596, 137, 512, 230, 159, 187, 288, 218, 516, 171, 293, 179, 190, 982, 342, 225, 255, 547, 173, 74, 264, 457, 640, 1132, 335, 77, 1001, 290, 143, 836, 629, 281, 474, 60, 150, 206, 470, 129, 249, 1133, 243, 174, 266, 285, 275, 84, 70, 130, 217, 424, 713, 186, 50, 59, 98, 205, 149, 559, 357, 841, 99, 205, 1024, 295, 212, 174, 200, 214, 170, 294, 997, 96, 92, 474, 397, 137, 217, 310, 65, 73, 674, 120, 134, 56, 160, 256, 809, 303, 136, 141, 130, 651, 144, 86, 408, 73, 172, 195, 575, 173, 186, 270, 177, 377, 281, 525, 681, 126, 125, 358, 223, 1237, 99, 158, 80, 1231, 1134, 148, 217, 374, 495, 295, 279, 203, 245, 120, 79, 72, 127, 256, 759, 174, 295, 336, 152, 105, 1362, 777, 213, 1009, 461, 146, 104, 240, 920, 799, 240, 146, 660, 1776, 174, 38, 57, 431, 138, 481, 203, 292, 82, 259, 64, 75, 236, 597, 318, 205, 427, 729, 277, 134, 283, 598, 425, 100, 324, 267, 166, 82, 116, 182, 346, 231, 366, 1911, 197, 180, 196, 222, 73, 97, 253, 558, 64, 278, 334, 156, 88, 272, 203, 63, 152, 223, 353, 928, 850, 124, 1343, 201, 268, 409, 104, 557, 927, 389, 1124, 340, 312, 375, 66, 196, 97, 703, 156, 69, 297, 66, 327, 205, 332, 259, 120, 204, 238, 80, 232, 144, 92, 206, 520, 1128, 164, 712, 81, 238, 213, 429, 383, 162, 365, 360, 153, 120, 765, 601, 274, 133, 219, 192, 66, 244, 314, 896, 230, 149, 151, 193, 228, 1310, 536, 138, 76, 159, 190, 591, 410, 194, 165, 304, 225, 275, 926, 540, 112, 1182, 233, 371, 101, 288, 67, 171, 169, 308, 12890, 168, 2796, 60, 395, 568, 276, 145, 1018, 282, 179, 176, 482, 175, 163, 422, 346, 171, 476, 1803, 368, 35, 87, 357, 43, 157, 206, 771, 660, 855, 207, 403, 479, 314, 166, 140, 65, 102, 170, 496, 225, 332, 960, 187, 200, 584, 128, 310, 998, 323, 377, 140, 150, 61, 126, 438, 158, 1058, 672, 574, 1566, 364, 196, 70, 159, 87, 405, 195, 93, 404, 126, 92, 476, 350, 109, 119, 182, 133, 281, 159, 200, 144, 203, 84, 576, 579, 528, 211, 140, 385, 61, 159, 140, 458, 108, 276, 92, 411, 61, 226, 986, 155], \"z\": [2, 19, 36, 23, 33, 2, 58, 52, 3, 8, 51, 45, 25, 315, 130, 22, 5, 16, 22, 72, 19, 36, 22, 33, 79, 75, 24, 3, 16, 96, 1, 26, 9, 36, 43, 1, 80, 2, 14, 21, 22, 11, 73, 44, 66, 19, 188, 2, 32, 29, 17, 16, 23, 28, 23, 17, 33, 10, 5, 16, 82, 23, 96, 143, 78, 28, 1, 79, 19, 9, 1, 9, 60, 15, 43, 22, 20, 8, 16, 5, 8, 23, 2, 9, 35, 21, 3, 4, 17, 29, 92, 38, 19, 10, 29, 78, 23, 57, 2, 16, 15, 2, 276, 212, 23, 11, 10, 57, 59, 90, 67, 34, 22, 17, 1, 8, 12, 10, 5, 25, 42, 15, 4, 4, 8, 28, 114, 26, 7, 8, 80, 7, 15, 30, 15, 29, 9, 4, 3, 32, 5, 28, 11, 24, 234, 78, 52, 2, 1, 4, 23, 16, 117, 52, 8, 4, 17, 20, 38, 5, 2, 9, 10, 3, 3, 3, 59, 34, 3, 144, 5, 66, 22, 31, 135, 79, 8, 26, 26, 327, 58, 4, 9, 12, 40, 23, 5, 139, 9, 88, 35, 22, 24, 2, 17, 15, 64, 16, 31, 9, 6, 1, 10, 8, 7, 4, 212, 243, 1, 3, 23, 4, 22, 4, 12, 9, 1, 11, 53, 16, 4, 1, 11, 52, 138, 291, 32, 14, 15, 212, 78, 13, 1, 1, 3, 12, 3, 9, 276, 21, 33, 1, 1, 44, 31, 1, 12, 22, 20, 90, 5, 23, 86, 56, 11, 22, 16, 85, 29, 14, 296, 33, 49, 9, 122, 19, 36, 4, 16, 26, 8, 15, 95, 11, 10, 4, 10, 59, 30, 10, 57, 3, 4, 13, 96, 18, 62, 1, 11, 3, 18, 1, 64, 122, 23, 156, 8, 4, 23, 7, 22, 37, 66, 5, 78, 36, 39, 32, 93, 82, 45, 68, 257, 9, 18, 61, 32, 31, 2, 73, 2, 5, 12, 40, 64, 108, 1, 10, 11, 67, 5, 14, 23, 17, 27, 26, 25, 18, 7, 39, 58, 11, 2, 1, 61, 38, 46, 233, 17, 52, 8, 23, 71, 73, 3, 1, 21, 59, 1, 33, 34, 2, 1, 43, 377, 12, 96, 26, 66, 74, 28, 6, 82, 144, 41, 17, 13, 10, 25, 15, 16, 11, 108, 6, 1, 45, 12, 89, 24, 319, 31, 23, 5, 25, 33, 68, 16, 10, 17, 46, 43, 10, 206, 3, 1, 3, 25, 4, 31, 26, 5, 8, 267, 4, 281, 15, 132, 37, 25, 5, 17, 54, 4, 2, 12, 71, 2, 2, 64, 34, 1, 13, 10, 1, 139, 31, 6, 40, 22, 19, 33, 16, 25, 6, 59, 25, 52, 96, 9, 1, 18, 7, 123, 2, 23, 54, 55, 21, 4, 3, 11, 7, 1, 28, 72, 80, 57, 2, 96, 23, 22, 3, 218, 7, 5, 380, 79, 308, 7, 19, 31, 73, 39, 30, 4, 20, 43, 4, 15, 10, 46, 43, 10, 162, 17, 18, 7, 2, 29, 78, 41, 27, 9, 17, 1, 1, 24, 5, 10, 29, 4, 5, 302, 4, 2, 3, 10, 8, 4, 16, 74, 5, 239, 52, 4, 23, 4, 20, 4, 11, 2, 2, 2, 4, 9, 239, 10, 20, 20, 216, 87, 60, 86, 9, 11, 2, 2, 5, 18, 2, 17, 11, 106, 53, 12, 3, 2, 42, 29, 26, 52, 49, 22, 75, 43, 9, 7, 2, 64, 9, 8, 15, 3, 21, 24, 11, 2, 8, 3, 40, 18, 8, 8, 89, 8, 47, 45, 11, 17, 23, 17, 17, 45, 127, 121, 19, 8, 26, 10, 10, 2, 65, 3, 4, 34, 11, 71, 92, 92, 1, 4, 11, 57, 1, 24, 7, 10, 8, 1, 205, 54, 1, 19, 19, 60, 5, 148, 66, 247, 29, 18, 11, 165, 18, 27, 7, 43, 26, 20, 3, 17, 17, 24, 22, 11, 61, 18, 32, 20, 3, 26, 236, 25, 3, 60, 10, 59, 29, 24, 5, 4, 11, 19, 10, 57, 7, 4, 96, 3, 180, 13, 6, 19, 15, 22, 20, 11, 1, 16, 4, 1, 32, 196, 24, 4, 52, 24, 2, 5, 67, 1, 8, 18, 9, 29, 61, 11, 242, 3, 16, 31, 25, 26, 8, 4, 2, 32, 11, 1, 11, 15, 14, 10, 9, 24, 25, 2, 10, 25, 1, 8, 16, 4, 4, 4, 197, 12, 16, 29, 10, 15, 5, 8, 3, 232, 51, 7, 17, 3, 1, 48, 15, 40, 41, 200, 21, 10, 4, 18, 90, 53, 44, 64, 22, 58, 78, 119, 60, 13, 11, 3, 9, 3, 13, 27, 10, 8, 8, 23, 11, 26, 21, 2, 3, 1, 17, 36, 71, 109, 82, 34, 30, 23, 60, 25, 11, 10, 15, 68, 35, 72, 19, 116, 16, 12, 9, 12, 3, 10, 33, 31, 8, 4, 5, 16, 59, 10, 19, 9, 25, 23, 25, 41, 4, 71, 38, 78, 46, 10, 7, 213, 22, 21, 10, 18, 4, 9, 18, 18, 29, 10, 30, 15, 114, 7, 25, 50, 15, 3, 52, 46, 8, 4, 17, 10, 75, 1, 4, 2, 69, 9, 18, 2, 1, 3, 11, 26, 2, 47, 11, 37, 66, 218, 2, 45, 67, 134, 32, 9, 16, 67, 100, 151, 16, 7, 57, 59, 43, 5, 26, 51, 2, 51, 64, 1, 75, 71, 39, 366, 66, 12, 255, 31, 5, 26, 75, 57, 41, 8, 169, 9, 15, 5, 10, 16, 34, 84, 26, 65, 59, 19, 33, 8, 12, 2, 9, 26, 30, 2, 20, 85, 2, 116, 16, 1, 30, 23, 95, 33, 21, 18, 3, 8, 16, 53, 23, 12, 33, 12, 64, 40, 84, 2, 19, 23, 22, 8, 25, 9, 7, 77, 4, 37, 12, 12, 22, 7, 12, 5, 32, 69, 121, 24, 16, 101, 11, 8, 61, 10, 10, 43, 104, 5, 16, 4, 105, 19, 25, 168, 19, 88, 73, 19, 9, 25, 9, 1, 33, 2, 140, 35, 41, 9, 146, 33, 24, 36, 17, 15, 19, 19, 13, 3, 40, 51, 10, 66, 88, 116, 7, 10, 33, 46, 26, 44, 15, 1, 76, 1, 23, 306, 79, 22, 17, 49, 3, 372, 56, 73, 70, 11, 73, 18, 19, 4, 4, 16, 41, 12, 8, 5, 15, 64, 1, 24, 17, 10, 20, 4, 1, 16, 20, 4, 21, 90, 8, 32, 9, 15, 24, 32, 17, 23, 18, 39, 17, 77, 89, 25, 22, 3, 12, 44, 9, 88, 37, 30, 12, 48, 24, 22, 8, 35, 4, 38, 4, 3, 47, 39, 6, 87, 65, 22, 120, 40, 33, 16, 66, 10, 365, 17, 288, 3, 56, 23, 59, 12, 88, 71, 7, 62, 18, 45, 10, 8, 59, 57, 367, 29, 18, 52, 4, 22, 19, 3, 9, 43, 50, 9, 2, 11, 8, 51, 16, 100, 23, 32, 40, 3, 4, 3, 23, 31, 55, 45, 89, 2, 19, 30, 37, 45, 87, 44, 24, 10, 8, 212, 24, 67, 17, 45, 17, 9, 3, 21, 6, 22, 10, 26, 64, 172, 47, 6, 14, 28, 8, 25, 11, 32, 21, 333, 4, 1, 7, 5, 18, 19, 37, 18, 82, 33, 66, 9, 4, 75, 29, 2, 61, 95, 1, 19, 13, 36, 19, 27, 45, 17, 2, 29, 8, 2, 46, 64, 99, 3, 21, 20, 34, 24, 52, 7, 64, 77, 9, 50, 360, 107, 22, 52, 186, 2, 2, 22, 19, 5, 3, 10, 109, 163, 42, 67, 1, 27, 54, 15, 27, 80, 4, 61, 4, 18, 15, 33, 31, 4, 1, 30, 17, 23, 5, 59, 16, 18, 22, 10, 24, 17, 2, 34, 3, 4, 47, 1, 69, 9, 9, 1, 85, 19, 3, 9, 19, 24, 369, 15, 26, 17, 26, 46, 38, 32, 79, 47, 29, 11, 87, 5, 18, 114, 20, 4, 31, 48, 58, 33, 10, 80, 2, 10, 20, 4, 29, 1, 365, 11, 23, 8, 14, 3, 11, 1, 31, 9, 37, 43, 22, 5, 67, 12, 31, 187, 195, 2, 65, 26, 8, 29, 4, 5, 82, 29, 4, 29, 9, 24, 50, 156, 12, 80, 4, 5, 1, 55, 9, 52, 13, 22, 4, 57, 1, 39, 4, 13, 88, 17, 30, 3, 11, 1, 86, 46, 5, 29, 3, 11, 79, 12, 16, 3, 32, 25, 3, 96, 30, 74, 21, 12, 28, 28, 18, 18, 25, 33, 35, 123, 7, 4, 3, 50, 23, 15, 2, 18, 10, 33, 8, 5, 16, 16, 276, 16, 106, 23, 8, 22, 31, 33, 5, 56, 8, 11, 59, 28, 24, 54, 36, 175, 27, 40, 4, 24, 7, 19, 16, 264, 12, 25, 13, 11, 3, 1, 5, 130, 60, 26, 9, 32, 4, 8, 12, 15, 11, 78, 25, 2, 100, 8, 15, 18, 14, 17, 30, 15, 4, 15, 8, 51, 17, 1, 13, 23, 17, 41, 24, 9, 8, 78, 1, 22, 126, 5, 4, 1, 333, 16, 12, 3, 30, 11, 16, 8, 1, 18, 2, 37, 2, 8, 1, 16, 16, 45, 4, 1, 1, 206, 281, 58, 3, 29, 31, 15, 17, 2, 5, 1, 1, 25, 43, 197, 60, 1, 20, 19, 14, 8, 7, 50, 8, 1, 7, 60, 2, 73, 4, 85, 23, 2, 41, 7, 53, 23, 6, 21, 33, 15, 18, 6, 2, 36, 87, 1, 219, 12, 25, 11, 17, 26, 19, 66, 43, 16, 50, 2, 1, 4, 2, 53, 10, 17, 7, 30, 127, 38, 17, 30, 3, 4, 23, 38, 26, 96, 16, 15, 4, 3, 2, 19, 12, 4, 5, 1, 1, 19, 17, 22, 51, 8, 13, 97, 25, 153, 27, 40, 22, 22, 82, 16, 4, 13, 14, 72, 5, 23, 299, 42, 27, 2, 81, 372, 4, 6, 3, 59, 13, 31, 2, 80, 3, 4, 32, 21, 72, 173, 71, 59, 4, 64, 12, 36, 134, 9, 1, 72, 5, 21, 38, 166, 25, 15, 122, 74, 12, 23, 70, 32, 36, 22, 32, 12, 25, 4, 7, 22, 6, 26, 23, 8, 45, 2, 93, 82, 12, 8, 1, 2, 68, 11, 8, 30, 15, 18, 8, 13, 13, 15, 176, 33, 59, 15, 129, 9, 5, 24, 15, 95, 4, 71, 2, 3, 22, 5, 3, 44, 12, 9, 192, 3, 10, 72, 7, 87, 39, 25, 173, 26, 3, 4, 43]}, {\"hoverlabel\": {\"namelength\": 0}, \"hovertemplate\": \"RFM_Loyalty_Level=Bronze<br>Monetary=%{x}<br>Frequency=%{y}<br>Recency=%{z}\", \"legendgroup\": \"RFM_Loyalty_Level=Bronze\", \"marker\": {\"color\": \"#00cc96\", \"symbol\": \"circle\"}, \"mode\": \"markers\", \"name\": \"RFM_Loyalty_Level=Bronze\", \"scene\": \"scene\", \"showlegend\": true, \"type\": \"scatter3d\", \"x\": [334.40000000000003, 300.93, 500.24, 503.15, 143.94, 234.75000000000003, 205.25, 84.3, 63.24, 346.9, 202.56, 485.31000000000006, 326.65, 56.73, 132.79999999999998, 211.95000000000002, 285.29999999999995, 334.92999999999995, 357.4, 54.09, 176.5, 316.47999999999996, 95.19999999999999, 168.0, 129.23, 238.85, 249.24, 145.92, 70.0, 77.52, 218.45000000000002, 299.02000000000004, 21.0, 415.78999999999996, 315.59999999999997, 180.09999999999997, 490.0, 141.0, 185.9, 261.35, 162.00000000000003, 239.4, 313.6, 395.1, 178.28, 110.95, 339.75000000000006, 236.2600000000001, 234.00000000000003, 406.07000000000005, 254.54999999999998, 275.88, 347.8, 168.69000000000003, 282.3, 124.25, 98.7, 55.5, 337.39999999999986, 728.4999999999999, 381.0, 219.35000000000002, 330.34999999999997, 125.92, 540.5200000000001, 220.79999999999998, 312.38, 15.58, 208.00000000000003, 330.0, 311.54999999999995, 177.91999999999996, 575.0999999999999, 55.47, 68.25, 299.57, 337.66999999999996, 298.0, 222.4, 263.37999999999994, 157.35, 310.96000000000004, 366.4, 340.33000000000004, 138.68, 223.98, 197.31, 117.85000000000001, 181.65, 324.45, 162.45, 150.95000000000002, 132.24, 135.95, 122.45, 385.55, 93.35000000000001, 149.05, 175.25, 234.0, 330.12, 101.10000000000002, 65.3, 323.39, 220.54999999999998, 307.1, 155.8, 127.65, 209.48000000000002, 307.53000000000003, 346.98, 188.39999999999998, 129.22, 177.14999999999998, 135.4, 280.73, 122.39999999999999, 313.64, 236.11000000000004, 419.70000000000005, 207.35999999999999, 72.0, 321.88000000000005, 20.6, 234.37999999999997, 134.9, 30.599999999999998, 158.57, 263.5, 233.25, 77.3, 200.45, 135.35, 449.9699999999999, 17.65, 372.20000000000005, 69.6, 86.10000000000001, 359.69, 71.4, 570.66, 172.38, 373.0100000000001, 81.6, 333.74, 62.64, 76.23, 88.5, 257.7, 160.95, 115.58000000000004, 256.04, 252.68000000000004, 399.3, 51.410000000000004, 149.75, 138.97999999999996, 360.85, 241.65999999999994, 201.19, 307.95, 208.63, 159.2, 61.72, 53.65, 273.34, 124.75, 310.26, 281.76, 262.40000000000003, 299.40000000000003, 510.2, 422.80000000000007, 62.4, 305.28000000000003, 59.8, 91.14, 275.4, 310.83000000000004, 568.9200000000001, 213.55000000000004, 159.85, 217.02999999999997, 46.5, 241.89999999999998, 219.86999999999998, 148.22, 82.4, 165.0, 336.0900000000001, 154.25, 316.26, 327.37999999999994, 282.76, 402.98, 89.5, 785.25, 175.52999999999994, 244.19999999999996, 200.82000000000002, 147.66, 107.75, 241.68, 131.52999999999997, 396.71, 717.6199999999999, 236.20000000000007, 167.35000000000002, 288.1, 177.34000000000003, 231.68999999999997, 112.34000000000002, 213.85, 301.26, 310.14000000000004, 405.0, 252.1, 152.2, 314.58999999999986, 325.24000000000007, 240.67999999999998, 243.9, 232.60000000000005, 281.25999999999993, 59.5, 258.6, 375.5, 161.00000000000003, 135.18, 161.35, 138.28, 306.55, 213.00999999999993, 176.69, 249.39999999999998, 296.24999999999994, 195.55, 352.82099999999997, 190.34999999999997, 301.54, 623.98, 161.12999999999997, 3.75, 239.45999999999998, 96.0, 126.03000000000002, 289.7, 61.28, 255.59000000000003, 189.5, 102.0, 156.85, 324.19, 271.24000000000007, 139.95, 85.0, 319.75000000000006, 310.7199999999999, 187.35000000000002, 273.26, 662.4000000000001, 388.55, 165.45000000000002, 312.65000000000003, 42.0, 136.8, 286.59999999999997, 124.94999999999999, 42.22, 70.80000000000001, 307.4, 320.0, 246.54000000000002, 200.43000000000004, 538.4000000000001, 166.3, 123.66, 846.55, 264.7, 519.81, 331.13999999999993, 311.3, 209.41, 79.48, 328.8, 229.75000000000003, 367.15, 109.44, 141.41, 431.9799999999999, 304.24999999999994, 154.98999999999998, 183.59999999999997, 152.55, 230.06000000000006, 326.54999999999995, 390.8500000000001, 219.4, 150.5, 39.95, 76.32000000000001, 335.21999999999997, 2.95, 0.0, 214.79999999999998, 90.0, 458.45, 183.37, 362.41999999999996, 187.86999999999995, 332.7, 115.8, 30.599999999999998, 233.39999999999992, 118.75, 256.85, 370.45, 286.2899999999999, 197.65, 123.5, 79.9, 293.74, 335.52, 390.05, 379.20000000000005, 339.34, 157.8, 333.7, 280.55, 366.4200000000001, 350.99, 363.4, 120.0, 322.93, 40.56, 354.84999999999997, 295.73, 256.6, 205.82999999999996, 191.86, 134.04, 245.15, 277.94, 229.8, 158.02000000000004, 474.1, 245.47999999999993, 445.05, 200.63, 134.7, 82.60000000000001, 51.0, 214.71000000000004, 227.47, 136.0, 155.00000000000003, 100.5, 76.55, 108.0, 215.46, 131.24999999999997, 48.96, 58.5, 142.4, 135.60000000000002, 266.4, 67.94999999999999, 93.8, 285.6, 195.0, 156.75, 90.42, 271.70000000000005, 131.9, 132.04, 221.64999999999992, 113.64, 237.41999999999996, 110.99999999999999, 204.24000000000004, 215.7, 257.1, 175.5, 251.20999999999998, 110.94999999999997, 163.91999999999996, 206.09, 199.45000000000002, 241.09000000000003, 262.4, 171.8, 103.25000000000001, 655.5, 75.6, 161.65000000000003, 143.7, 70.80000000000001, 105.56, 14.850000000000001, 237.35999999999996, 135.39000000000001, 79.5, 205.35999999999999, 143.86, 24.350000000000005, 877.6999999999998, 76.32000000000001, 295.13, 190.47, 320.58, 338.65, 114.55999999999999, 344.9000000000001, 215.22, 106.67999999999998, 62.5, 246.86, 111.63000000000001, 173.66000000000003, 184.90999999999997, 146.56000000000003, 112.80000000000001, 244.31, 179.0, 139.2, 81.3, 226.42000000000002, 345.25, 124.75, 190.57999999999996, 50.48, 593.5, 328.2, 310.15, 112.03000000000002, 126.45000000000002, 89.2, 382.80999999999995, 139.26, 140.55, 241.45, 307.55999999999995, 200.10000000000002, 307.3, 90.96000000000001, 110.64999999999999, 303.63, 131.45, 300.31, 686.7600000000001, 170.50000000000006, 185.80000000000004, 160.46, 271.85, 157.70000000000002, 385.2, 0.0, 322.69, 94.8, 297.0, 211.79999999999995, 150.0, 437.4, 310.56, 180.75, 116.18, 256.70000000000005, 185.06000000000003, 120.6, 135.9, 202.35000000000002, 13.919999999999998, 68.44, 359.34999999999997, 359.4, 308.19999999999993, 223.91, 182.09999999999997, 746.5600000000001, 107.62, 179.39999999999998, 163.76999999999998, 206.21, 145.07, 31.929999999999996, 150.68, 237.78, 183.2000000000001, 342.40000000000003, 305.42, 314.66999999999996, 210.49999999999997, 36.129999999999995, 129.48, 156.91000000000003, 359.99999999999994, 416.6, 365.1, 7.49, 315.45, 121.17000000000002, 133.45, 187.51999999999998, 93.35, 88.19999999999999, 347.53999999999996, 218.53000000000003, 306.94, 83.0, 209.4, 244.8, 266.4, 80.28000000000002, 305.68, 178.96000000000006, 119.92000000000003, 312.9, 167.15999999999997, 81.15, 40.5, 310.42999999999995, 316.2499999999999, 316.58000000000004, 178.97999999999996, 208.28000000000003, 154.41, 160.5, 250.25999999999993, 59.400000000000006, 197.0, 321.05, 302.04, 60.0, 170.39999999999998, 156.50999999999996, 228.96, 148.33, 24.75, 94.91999999999999, 247.50000000000003, 233.35, 217.2399999999999, 307.99999999999994, 93.6, 310.47, 52.0, 165.0, 129.75, 204.5, 140.22000000000003, 107.24000000000002, 240.5, 373.02, 105.50000000000001, 114.94999999999999, 284.4, 181.35, 59.400000000000006, 307.32, 60.959999999999994, 246.5, 468.6499999999998, 140.54, 289.87, 107.45000000000002, 94.0, 216.94999999999996, 170.88000000000002, 257.06, 131.25, 190.53000000000003, 153.24, 284.5, 38.25, 202.83, 429.7, 63.419999999999995, 163.10000000000002, 368.4, 147.39999999999998, 102.0, 231.32000000000002, 217.59999999999997, 246.49999999999997, 146.14, 161.6, 250.0, 171.80999999999997, 344.60999999999996, 162.25, 259.09000000000003, 158.08999999999997, 217.2, 214.12999999999997, 153.51999999999998, 70.74000000000001, 227.87, 30.1, 127.1, 579.6, 217.9, 357.6, 298.48, 317.10999999999996, 100.35, 105.78000000000003, 169.0, 283.73, 138.14000000000001, 76.32000000000001, 325.20000000000005, 45.300000000000004, 318.23999999999995, 173.95000000000002, 55.98000000000001, 90.0, 190.57, 37.5, 246.75, 46.2, 140.39, 211.5, 143.10000000000002, 293.78999999999996, 310.85, 321.9100000000001, 192.55, 125.3, 162.3, 327.67999999999995, 208.62, 156.86999999999998, 79.2, 143.05, 321.45000000000005, 280.88000000000005, 150.5, 241.62000000000003, 307.95000000000005, 124.08, 221.83000000000004, 777.0, 144.15, 340.5, 206.98000000000002, 80.4, 118.95, 107.01000000000002, 139.94000000000003, 109.72999999999999, 94.53, 33.099999999999994, 313.91999999999996, 111.71999999999998, 330.7699999999999, 249.70000000000002, 535.65, 128.20000000000002, 305.28000000000003, 179.17, 112.5, 145.01000000000002, 114.69000000000003, 191.93999999999997, 6.300000000000001, 205.98999999999995, 102.82000000000001, 207.15, 134.44, 123.39000000000003, 293.53000000000003, 594.0, 239.89999999999998, 282.7900000000001, 35.8, 405.0, 337.43999999999994, 271.28999999999996, 190.74999999999994, 617.6, 272.96, 329.21999999999997, 324.50999999999993, 150.55, 20.4, 169.21, 82.2, 217.73, 340.84, 235.78, 107.14, 300.7, 188.44, 134.8, 62.7, 89.65, 111.00000000000003, 122.93000000000004, 122.39999999999999, 265.24999999999994, 106.75000000000001, 271.44, 205.91, 315.06000000000006, 17.0, 185.05, 195.74, 135.75000000000003, 664.2000000000002, 175.2, 37.4, 79.9, 351.3, 308.59999999999997, 323.25, 93.3, 304.25, 40.8, 333.18, 136.65, 63.66, 114.56, 128.31, 295.09000000000003, 46.95, 186.65999999999997, 336.04, 188.69, 238.04999999999998, 176.89999999999995, 328.95, 129.85000000000002, 136.31, 117.72, 126.05, 301.90000000000003, 193.64999999999998, 107.33, 233.22, 171.14999999999998, 310.83, 214.80000000000004, 109.95000000000002, 224.51000000000008, 53.5, 157.20000000000005, 309.48999999999995, 104.0, 186.05000000000004, 467.5000000000001, 137.8, 127.88, 177.5, 167.25, 231.93000000000004, 130.32, 35.7, 75.0, 302.69999999999993, 241.06, 284.55, 329.34, 301.25, 310.70000000000005, 162.24, 332.16999999999996, 251.70999999999995, 208.36, 71.78999999999999, 453.38, 139.35000000000002, 134.36, 209.39999999999995, 303.70000000000005, 205.41000000000003, 100.97000000000001, 266.49999999999994, 152.76, 248.8, 162.70000000000005, 433.35999999999996, 48.349999999999994, 23.35, 226.70000000000002, 292.21, 376.70000000000005, 111.71000000000001, 30.150000000000002, 185.2, 223.86, 87.79999999999998, 156.6, 295.04999999999995, 105.84, 313.61999999999995, 341.59, 225.14999999999995, 145.05, 172.8, 432.45, 60.48, 75.66, 291.5, 151.85000000000002, 225.39999999999998, 106.80000000000001, 179.39999999999998, 160.39, 306.5799999999999, 136.2, 39.12, 163.79999999999998, 165.0, 109.19999999999999, 135.4, 188.82999999999998, 320.25, 157.63, 178.83, 98.30000000000001, 193.14999999999992, 112.75000000000001, 147.35000000000002, 174.05, 259.68000000000006, 3.75, 236.81, 173.06, 270.48, 228.0, 316.61999999999995, 51.839999999999996, 182.59, 113.35000000000001, 181.39, 392.13000000000005, 91.8, 139.85, 253.87999999999997, 124.57, 332.40999999999997, 352.8, 409.24999999999994, 130.95, 207.73999999999998, 76.74000000000001, 136.01000000000005, 134.0, 285.40999999999997, 103.95000000000002, 204.26000000000002, 252.59, 255.24999999999994, 125.65, 202.10000000000002, 33.0, 101.36, 251.03999999999996, 110.55000000000001, 207.85, 319.0199999999999, 71.4, 127.0, 365.5, 251.51999999999998, 344.0, 742.3599999999999, 81.36, 242.05999999999997, 208.98000000000002, 176.9, 239.55, 128.60000000000002, 294.74, 234.24, 194.7, 228.34000000000003, 454.54, 282.05, 203.05, 306.0, 221.53, 128.45, 235.88, 591.0699999999999, 25.5, 474.03000000000003, 174.95, 205.17, 116.19999999999997, 157.02, 307.46, 314.74, 157.09, 31.85, 231.67999999999998, 143.1, 231.9, 400.2, 178.67999999999998, 59.9, 119.50000000000003, 321.29999999999995, 198.40999999999997, 229.45999999999995, 77.83, 145.12, 160.65, 115.35000000000001, 186.15, 65.05000000000001, 100.86000000000001, 131.15, 149.89, 130.6, 38.92, 68.02999999999999, 192.73000000000002, 120.95, 230.4399999999999, 210.38999999999996, 141.12, 114.52000000000002, 271.24000000000007, 118.85999999999999, 188.46, 271.75000000000006, 467.7900000000001, 338.13, 111.50000000000001, 124.45000000000006, 164.28, 29.1, 152.35, 104.7, 175.2, 81.12, 36.25, 285.11, 10.95, 645.0, 149.3, 203.86999999999995, 97.5, 114.84999999999998, 316.09000000000003, 560.1400000000001, 164.18, 331.3500000000001, 325.74, 323.58, 293.35, 120.9, 131.7, 102.6, 321.65, 389.25999999999993, 209.57, 160.54999999999998, 336.50000000000006, 100.91, 54.699999999999996, 287.25, 288.59999999999997, 153.94, 65.34, 34.8, 164.39999999999998, 124.46000000000005, 120.04999999999998, 300.67, 259.17, 167.62, 131.83, 100.0, 185.64999999999998, 171.7, 348.74999999999994, 135.95, 167.4, 181.66000000000003, 148.3, 409.98, 52.05, 160.75, 87.30000000000001, 395.3299999999999, 254.0, 296.36000000000007, 842.4, 126.0, 412.9200000000001, 563.1, 205.7, 731.2, 304.20000000000005, 317.08000000000004, 200.47, 338.95000000000005, 154.95000000000002, 441.9999999999999, 293.49999999999994, 307.21000000000004, 426.90000000000003, 101.1, 229.2, 71.4, 358.15000000000003, 157.85999999999999, 80.64, 129.75, 86.15, 299.60999999999996, 56.4, 197.7, 188.01999999999998, 112.85999999999997, 147.3, 183.08999999999997, 184.65999999999997, 262.64000000000004, 591.96, 130.17999999999998, 334.62, 342.36, 430.69000000000005, 51.56, 129.69, 234.64999999999998, 235.87, 167.1, 237.61, 178.51999999999998, 133.35000000000002, 111.35, 112.25000000000004, 112.19999999999999, 216.4, 72.9, 291.76, 132.55, 261.7, 242.12999999999997, 43.87000000000001, 170.4, 294.0, 114.69, 144.29000000000005, 99.14000000000003, 75.41000000000001, 149.58, 160.82000000000002, 12.75, 140.75, 161.94000000000005, 239.11999999999995, 138.18, 171.71, 254.13000000000002, 124.25, 220.32000000000002, 174.79999999999998, 115.3, 190.48000000000002, 227.05999999999997, 115.30999999999999, 192.05, 433.77, 73.5, 149.41000000000005, 189.63000000000002, 176.5, 186.60000000000002, 101.69999999999999, 314.1, 247.44, 151.49, 101.33999999999999, 428.45, 168.31000000000003, 105.8, 167.12999999999997, 152.64000000000001, 9.7, 111.14999999999999, 111.53, 112.55, 222.95999999999998, 145.99000000000004, 152.65, 160.35, 114.1, 426.69, 246.22, 215.35, 302.46000000000004, 175.5, 176.09999999999997, 291.13, 304.25, 329.58, 101.16, 230.1, 344.75, 314.65999999999997, 360.08, 232.48000000000002, 158.95000000000002, 179.6, 270.9200000000001, 568.64, 317.88, 267.9, 110.7, 251.09999999999997, 269.36999999999995, 337.20000000000005, 680.85, 741.85, 231.33999999999997, 201.14, 427.0], \"y\": [17, 21, 3, 13, 9, 7, 11, 5, 1, 22, 11, 21, 18, 1, 9, 23, 2, 15, 17, 13, 7, 21, 5, 10, 1, 16, 13, 9, 5, 1, 11, 19, 1, 16, 20, 11, 20, 1, 10, 16, 11, 10, 17, 21, 14, 13, 16, 12, 4, 16, 17, 15, 21, 10, 15, 6, 6, 4, 20, 18, 7, 15, 16, 2, 19, 13, 18, 1, 16, 2, 17, 49, 21, 17, 4, 7, 37, 7, 13, 18, 21, 32, 17, 13, 10, 9, 11, 8, 2, 20, 10, 8, 26, 5, 5, 6, 6, 6, 11, 4, 12, 6, 5, 13, 13, 6, 4, 17, 19, 15, 11, 12, 12, 7, 9, 19, 2, 15, 20, 1, 1, 1, 12, 2, 16, 11, 1, 21, 1, 11, 3, 12, 6, 8, 2, 10, 1, 4, 19, 1, 17, 52, 19, 1, 5, 5, 11, 1, 9, 10, 42, 20, 25, 19, 4, 7, 16, 19, 50, 13, 16, 1, 3, 4, 4, 15, 5, 22, 13, 12, 6, 20, 17, 3, 1, 1, 8, 15, 23, 9, 18, 8, 12, 1, 7, 23, 9, 6, 10, 20, 8, 18, 17, 5, 18, 1, 10, 47, 5, 9, 9, 5, 11, 21, 17, 21, 36, 7, 37, 13, 49, 5, 19, 21, 16, 4, 5, 9, 41, 17, 14, 13, 16, 50, 3, 10, 5, 9, 5, 30, 21, 12, 42, 9, 6, 9, 8, 17, 17, 19, 2, 27, 1, 18, 7, 9, 22, 5, 40, 10, 1, 11, 16, 19, 7, 1, 18, 19, 11, 21, 1, 21, 10, 12, 1, 4, 39, 7, 3, 2, 16, 1, 15, 35, 19, 6, 8, 13, 11, 13, 22, 16, 16, 5, 11, 14, 13, 1, 21, 21, 42, 14, 8, 7, 42, 42, 19, 6, 7, 1, 1, 47, 1, 1, 1, 3, 15, 11, 13, 52, 11, 7, 1, 17, 6, 53, 15, 35, 3, 8, 1, 14, 6, 20, 21, 16, 2, 12, 16, 16, 10, 12, 5, 16, 1, 19, 16, 15, 13, 3, 8, 7, 22, 10, 9, 13, 18, 1, 13, 6, 6, 1, 14, 8, 1, 8, 4, 4, 7, 18, 9, 1, 3, 7, 14, 14, 5, 6, 8, 2, 8, 3, 11, 9, 13, 32, 4, 49, 4, 12, 19, 13, 6, 10, 25, 37, 39, 17, 12, 42, 19, 5, 15, 2, 31, 11, 2, 25, 1, 19, 16, 6, 31, 23, 10, 14, 1, 19, 9, 21, 21, 8, 20, 15, 7, 4, 27, 12, 14, 14, 21, 13, 15, 1, 2, 11, 11, 43, 19, 14, 3, 9, 18, 18, 32, 7, 5, 18, 9, 10, 13, 16, 6, 17, 7, 15, 19, 6, 16, 18, 28, 37, 32, 4, 9, 10, 1, 1, 7, 2, 9, 1, 12, 11, 11, 6, 13, 27, 8, 10, 13, 1, 1, 13, 3, 20, 21, 7, 19, 5, 11, 31, 13, 20, 4, 24, 39, 30, 18, 43, 21, 27, 10, 9, 12, 12, 20, 10, 1, 9, 3, 7, 13, 6, 5, 9, 11, 15, 5, 7, 1, 14, 7, 20, 13, 33, 12, 12, 4, 3, 23, 43, 9, 13, 10, 8, 9, 14, 1, 14, 15, 4, 3, 10, 12, 1, 9, 1, 6, 19, 15, 53, 15, 5, 19, 1, 1, 5, 16, 8, 8, 15, 21, 7, 37, 3, 16, 1, 10, 6, 12, 20, 10, 12, 7, 6, 14, 8, 16, 9, 10, 2, 14, 2, 7, 2, 4, 20, 2, 9, 1, 14, 28, 20, 22, 42, 1, 7, 37, 8, 16, 23, 14, 25, 10, 4, 12, 3, 13, 4, 7, 4, 16, 13, 2, 6, 11, 12, 9, 1, 19, 3, 25, 11, 17, 1, 27, 1, 14, 2, 30, 5, 6, 18, 17, 23, 11, 8, 10, 19, 12, 41, 1, 5, 18, 16, 9, 18, 17, 8, 14, 15, 11, 11, 17, 5, 8, 29, 35, 8, 4, 5, 6, 25, 51, 15, 10, 38, 1, 11, 8, 18, 22, 7, 1, 13, 15, 12, 7, 17, 11, 1, 14, 19, 1, 6, 14, 12, 20, 18, 21, 22, 45, 6, 1, 42, 5, 21, 19, 22, 1, 21, 12, 8, 2, 3, 18, 39, 1, 26, 16, 50, 20, 18, 1, 10, 16, 8, 17, 1, 2, 1, 11, 8, 16, 4, 15, 1, 15, 7, 6, 16, 20, 21, 2, 7, 16, 23, 16, 31, 17, 7, 21, 1, 8, 20, 12, 6, 11, 10, 16, 11, 20, 15, 9, 11, 29, 13, 13, 21, 8, 11, 10, 5, 45, 5, 1, 2, 21, 9, 2, 41, 21, 9, 1, 18, 15, 9, 5, 16, 19, 7, 35, 6, 13, 15, 43, 43, 45, 17, 18, 3, 4, 37, 18, 11, 27, 6, 18, 34, 5, 9, 14, 9, 6, 18, 13, 10, 12, 12, 1, 6, 19, 5, 12, 4, 13, 14, 20, 6, 2, 29, 1, 8, 9, 20, 18, 8, 11, 3, 36, 21, 17, 43, 12, 1, 33, 11, 15, 17, 13, 1, 17, 7, 11, 12, 6, 9, 20, 8, 19, 11, 17, 16, 11, 6, 32, 8, 19, 18, 23, 20, 35, 18, 51, 2, 7, 15, 7, 6, 21, 2, 6, 8, 2, 2, 20, 1, 11, 8, 12, 30, 8, 50, 5, 12, 18, 13, 22, 4, 1, 12, 4, 13, 18, 1, 19, 9, 50, 9, 10, 18, 12, 14, 2, 14, 6, 4, 21, 10, 4, 29, 6, 14, 44, 21, 9, 8, 24, 11, 14, 8, 5, 14, 7, 6, 27, 15, 6, 46, 52, 12, 24, 17, 6, 15, 15, 17, 33, 5, 35, 18, 3, 4, 6, 1, 1, 5, 37, 1, 10, 12, 4, 3, 12, 8, 10, 16, 15, 8, 6, 21, 9, 8, 4, 19, 18, 14, 8, 18, 8, 3, 7, 18, 11, 4, 1, 13, 33, 13, 14, 28, 12, 30, 1, 8, 5, 21, 7, 8, 43, 13, 10, 3, 13, 6, 19, 18, 10, 3, 7, 15, 19, 11, 14, 19, 22, 16, 19, 8, 19, 20, 11, 9, 6, 3, 1, 17, 32, 1, 17, 14, 22, 3, 10, 12, 23, 7, 49, 27, 33, 13, 46, 6, 32, 18, 5, 9, 19, 15, 26, 12, 6, 8, 10, 16, 6, 24, 12, 13, 9, 26, 35, 19, 8, 10, 14, 29, 12, 26, 20, 21, 1, 2, 21, 17, 13, 24, 53, 6, 51, 14, 13, 12, 33, 21, 4, 18, 5, 32, 26, 11, 3, 1, 9, 18, 8, 7, 10, 19, 10, 39, 2, 3, 17, 24, 14, 4, 29, 8, 10, 11, 10, 17, 26, 10, 10, 7, 10, 17, 11, 5, 9, 20, 19, 17, 15, 10, 30, 14, 19, 7, 16, 10, 14, 17, 14, 21, 19, 13, 17, 12], \"z\": [310, 375, 634, 390, 415, 591, 414, 303, 682, 410, 657, 732, 456, 682, 423, 690, 731, 336, 641, 620, 284, 528, 166, 358, 682, 303, 409, 289, 645, 682, 316, 505, 682, 405, 278, 232, 536, 739, 115, 424, 436, 625, 325, 555, 372, 637, 590, 180, 333, 529, 541, 129, 456, 451, 486, 564, 536, 668, 599, 610, 628, 529, 383, 102, 458, 214, 283, 682, 676, 446, 295, 383, 459, 693, 620, 138, 682, 276, 384, 397, 575, 464, 414, 422, 265, 401, 395, 312, 737, 437, 639, 484, 437, 112, 603, 414, 725, 106, 580, 673, 374, 372, 430, 732, 357, 685, 579, 622, 551, 254, 191, 481, 612, 267, 458, 179, 492, 726, 417, 394, 99, 436, 719, 541, 731, 669, 239, 524, 631, 452, 262, 274, 333, 484, 610, 569, 400, 607, 381, 268, 544, 414, 610, 402, 268, 127, 618, 577, 202, 226, 412, 461, 402, 394, 376, 436, 113, 409, 384, 331, 724, 438, 155, 400, 430, 120, 451, 689, 432, 402, 463, 432, 415, 433, 544, 204, 677, 464, 583, 427, 107, 150, 429, 547, 626, 641, 689, 653, 99, 232, 654, 312, 730, 677, 634, 403, 427, 408, 319, 429, 409, 406, 390, 541, 400, 659, 541, 593, 568, 174, 545, 528, 117, 597, 676, 611, 120, 488, 400, 603, 433, 539, 152, 494, 187, 458, 635, 447, 446, 465, 269, 246, 637, 414, 374, 288, 675, 653, 495, 397, 428, 516, 505, 388, 647, 547, 499, 430, 622, 176, 421, 582, 577, 212, 486, 253, 381, 720, 611, 429, 387, 626, 400, 733, 409, 692, 423, 424, 507, 394, 295, 535, 578, 653, 392, 146, 423, 386, 287, 411, 416, 213, 733, 513, 278, 571, 645, 555, 266, 725, 491, 284, 267, 267, 515, 685, 667, 623, 512, 463, 325, 440, 723, 665, 737, 144, 429, 376, 406, 649, 696, 134, 486, 483, 266, 505, 421, 411, 331, 474, 666, 388, 107, 411, 617, 397, 688, 184, 235, 661, 381, 493, 142, 423, 428, 471, 439, 686, 410, 521, 197, 408, 407, 107, 460, 429, 570, 438, 624, 219, 737, 165, 579, 402, 525, 320, 295, 358, 541, 683, 622, 682, 501, 297, 577, 432, 218, 565, 652, 387, 119, 502, 99, 306, 456, 456, 311, 381, 568, 734, 257, 282, 512, 184, 534, 516, 684, 491, 108, 389, 260, 186, 654, 390, 425, 733, 372, 432, 518, 277, 578, 372, 656, 633, 396, 415, 680, 386, 403, 185, 484, 263, 266, 454, 677, 589, 738, 445, 509, 593, 588, 209, 617, 199, 436, 733, 410, 590, 655, 413, 593, 406, 249, 480, 736, 684, 297, 474, 112, 593, 529, 404, 320, 659, 550, 471, 607, 166, 507, 621, 387, 599, 581, 197, 485, 582, 665, 630, 499, 529, 437, 600, 427, 405, 506, 535, 521, 685, 669, 336, 691, 522, 445, 539, 382, 397, 628, 579, 402, 663, 414, 733, 247, 128, 726, 737, 572, 689, 662, 612, 430, 442, 564, 593, 159, 480, 396, 620, 542, 199, 274, 520, 479, 669, 257, 730, 565, 282, 463, 611, 134, 246, 395, 239, 240, 388, 731, 468, 407, 260, 725, 433, 357, 730, 241, 311, 586, 621, 401, 277, 299, 422, 641, 149, 107, 600, 390, 500, 408, 666, 411, 654, 730, 555, 274, 110, 327, 677, 284, 701, 408, 402, 411, 562, 549, 603, 663, 662, 129, 690, 463, 492, 270, 584, 326, 290, 452, 492, 376, 721, 171, 503, 264, 598, 417, 461, 576, 596, 650, 733, 527, 680, 430, 379, 631, 724, 331, 387, 383, 726, 409, 596, 278, 639, 398, 463, 393, 620, 162, 678, 583, 488, 184, 438, 396, 730, 415, 661, 106, 218, 297, 725, 599, 547, 450, 420, 419, 659, 690, 624, 476, 265, 201, 540, 201, 390, 213, 554, 283, 421, 458, 619, 305, 443, 613, 418, 245, 133, 431, 463, 509, 736, 542, 588, 320, 738, 304, 385, 622, 527, 583, 437, 500, 646, 562, 432, 395, 669, 482, 150, 369, 380, 543, 174, 534, 378, 731, 194, 542, 647, 656, 644, 428, 379, 311, 637, 134, 650, 589, 551, 663, 603, 605, 534, 736, 625, 596, 560, 435, 562, 682, 174, 682, 221, 406, 431, 725, 594, 297, 390, 670, 386, 624, 155, 107, 240, 143, 171, 544, 247, 252, 505, 736, 375, 723, 489, 235, 501, 476, 437, 423, 170, 512, 383, 177, 591, 648, 734, 725, 646, 477, 470, 462, 682, 477, 269, 477, 737, 127, 432, 563, 157, 284, 385, 291, 449, 382, 470, 654, 537, 476, 628, 312, 302, 591, 734, 493, 396, 302, 263, 106, 668, 381, 722, 521, 631, 531, 218, 730, 682, 192, 538, 577, 380, 436, 161, 620, 572, 630, 277, 436, 668, 641, 414, 592, 520, 546, 599, 397, 477, 569, 626, 426, 183, 113, 594, 232, 286, 386, 563, 724, 219, 626, 236, 544, 407, 398, 736, 520, 587, 189, 394, 729, 569, 362, 679, 534, 391, 418, 723, 562, 241, 405, 648, 530, 298, 395, 625, 319, 430, 97, 394, 465, 382, 686, 393, 565, 603, 618, 187, 334, 443, 434, 402, 141, 690, 404, 456, 477, 555, 729, 722, 636, 540, 499, 612, 610, 410, 187, 733, 189, 626, 386, 523, 267, 219, 471, 429, 551, 185, 383, 446, 738, 596, 266, 638, 726, 725, 625, 563, 578, 738, 386, 593, 382, 262, 424, 664, 503, 288, 318, 233, 403, 335, 520, 662, 451, 735, 499, 374, 218, 505, 423, 569, 592, 536, 582, 421, 396, 464, 554, 501, 582, 183, 596, 547, 429, 436, 411, 510, 736, 424, 383, 241, 438, 379, 472, 669, 730, 534, 420, 725, 669, 410, 673, 124, 472, 696, 386, 374, 434, 421, 219, 508, 541, 163, 405, 549, 411, 656, 157, 732, 177, 204, 395, 475, 633, 576, 728, 641, 385, 502, 390, 221, 309, 386, 435, 280, 510, 550, 206, 393, 513, 587, 382, 243, 667, 645, 560, 619, 628, 739, 381, 478, 590, 737, 559, 603, 479, 647, 430, 662, 493, 228, 597, 394, 388, 137, 236, 261, 477, 424, 659, 389, 407, 448, 113, 527, 421, 359, 456, 263, 381, 255, 662, 159, 550, 687, 582, 392, 549, 393, 738, 406, 723, 602, 107, 516, 386, 382, 688, 170, 174, 304, 129, 225, 190, 547, 247, 641, 737, 726, 551, 629, 543, 722, 632, 420, 160, 423, 233, 540, 249, 592, 548, 411, 681, 395, 389, 564, 393, 257, 723, 544, 510, 99, 583, 642, 334, 556, 650, 393, 391, 289, 669, 186, 380, 274, 447, 127, 549, 442, 369, 698, 214, 472, 243, 632, 551, 295, 141, 647, 646, 659, 571, 177, 624, 676, 463, 249, 723, 387, 576, 684, 553, 566, 237, 264, 552, 515, 431, 643, 581, 388, 434, 673, 366, 610, 578, 519, 181, 661]}, {\"hoverlabel\": {\"namelength\": 0}, \"hovertemplate\": \"RFM_Loyalty_Level=Silver<br>Monetary=%{x}<br>Frequency=%{y}<br>Recency=%{z}\", \"legendgroup\": \"RFM_Loyalty_Level=Silver\", \"marker\": {\"color\": \"#ab63fa\", \"symbol\": \"circle\"}, \"mode\": \"markers\", \"name\": \"RFM_Loyalty_Level=Silver\", \"scene\": \"scene\", \"showlegend\": true, \"type\": \"scatter3d\", \"x\": [406.75999999999993, 511.24999999999994, 552.0, 641.38, 168.9, 917.6999999999999, 660.8, 1433.33, 503.01, 256.4, 509.01000000000005, 859.2000000000002, 347.09999999999997, 172.06, 476.49, 688.2, 707.0899999999999, 454.3599999999999, 708.0999999999999, 1037.2800000000002, 433.74, 393.71999999999997, 1126.0, 955.2, 73.50000000000003, 138.03000000000006, 612.2900000000001, 383.7, 599.6800000000001, 192.72000000000003, 349.83, 732.9399999999998, 481.8799999999999, 980.2500000000002, 372.7, 383.5799999999999, 1575.6799999999998, 437.81999999999994, 468.49999999999994, 269.96000000000004, 561.7099999999999, 456.9000000000001, 351.65000000000003, 622.8199999999999, 197.70999999999998, 144.0, 418.09999999999997, 681.26, 153.12000000000003, 254.17999999999995, 704.0400000000001, 177.31, 641.1300000000001, 1558.2199999999998, 804.8799999999999, 314.44, 377.75, 91.68, 245.10000000000002, 1248.42, 437.05, 389.00999999999993, 851.9100000000001, 638.1100000000001, 219.0, 603.42, 353.85999999999996, 238.25000000000003, 453.0100000000001, 829.2500000000001, 639.6499999999999, 779.5699999999998, 3710.5, 310.69999999999993, 925.4100000000002, 268.27, 112.08000000000001, 782.95, 814.1600000000001, 519.4499999999999, 444.90000000000003, 273.34999999999997, 591.85, 827.0099999999998, 806.1100000000001, 584.2499999999999, 1071.82, 327.02, 534.99, 229.63999999999993, 1687.8000000000009, 690.98, 1542.08, 518.63, 385.30000000000007, 451.11, 417.37999999999994, 354.09000000000003, 284.13000000000005, 744.0199999999998, 948.4199999999998, 1356.99, 854.9899999999999, 573.22, 640.1299999999998, 309.05000000000007, 354.12, 385.4600000000001, 840.5, 188.14, 514.25, 833.5300000000001, 508.9099999999999, 1776.0, 10953.5, 405.38, 114.14, 377.4900000000002, 496.4999999999999, 521.8899999999998, 539.4899999999999, 211.99, 266.39000000000004, 160.18, 408.95, 517.7000000000002, 372.21999999999997, 490.08, 97.5, 211.32, 355.5, 455.8799999999999, 414.13000000000005, 81.57, 612.13, 204.0, 618.9600000000002, 555.8699999999999, 799.13, 516.4200000000001, 808.9200000000001, 722.09, 271.4, 248.61, 344.0, 751.6999999999997, 418.08, 1378.74, 439.32999999999987, 74.4, 695.4000000000001, 603.46, 501.14000000000004, 283.7299999999999, 506.74999999999994, 259.16999999999996, 64.0, 405.1, 228.91, 91.8, 478.88, 840.08, 116.01000000000002, 831.45, 572.3100000000001, 121.17999999999999, 114.60000000000001, 164.69000000000003, 117.88000000000001, 472.78, 2803.2, 666.48, 969.1200000000002, 312.45999999999987, 358.0, 356.94999999999993, 642.9999999999999, 699.3999999999996, 121.74000000000001, 465.6799999999999, 0.0, 557.6200000000001, 944.1, 573.4499999999998, 722.56, 1180.0, 276.56000000000006, 137.75, 350.84999999999997, 373.36, 734.9100000000001, 781.5900000000001, 927.61, 792.5099999999999, 567.36, 675.3, 1308.48, 775.8499999999999, 353.43, 389.50000000000006, 341.36, 233.76, 247.31999999999996, 373.94, 674.7, 439.03000000000003, 1450.5000000000002, 134.96, 56.160000000000004, 616.56, 534.5700000000002, 835.46, 189.43999999999997, 544.0799999999999, 670.3399999999999, 229.5, 252.48999999999998, 487.34999999999997, 429.44000000000005, 800.6700000000001, 221.05999999999995, 572.7699999999999, 439.1000000000001, 658.3200000000002, 196.88999999999996, 419.87, 291.88, 729.8, 781.6899999999997, 183.44, 931.1199999999999, 592.24, 851.3699999999999, 627.82, 140.34000000000003, 790.7199999999999, 449.52, 618.63, 295.93, 287.05, 713.3900000000001, 824.5900000000001, 815.9, 343.21, 125.80000000000001, 1182.0000000000005, 307.76, 270.79000000000013, 717.85, 632.3900000000001, 1439.6099999999997, 374.6399999999999, 349.51, 517.7999999999998, 990.0, 192.85000000000005, 239.49000000000004, 421.2500000000001, 280.53000000000003, 684.54, 247.95999999999995, 518.4200000000001, 522.67, 280.53999999999996, 818.29, 658.95, 462.0800000000001, 707.0400000000001, 122.64000000000001, 1016.4700000000003, 326.24999999999983, 226.85000000000002, 127.89999999999999, 305.0199999999998, 413.55, 194.94999999999996, 419.91999999999996, 486.82000000000005, 556.1900000000002, 409.0400000000001, 172.25, 212.77999999999994, 2020.3999999999996, 151.3, 465.53000000000003, 764.1499999999996, 425.56, 631.17, 296.87999999999994, 509.52, 766.4200000000002, 743.26, 799.8999999999999, 724.7300000000001, 752.5999999999998, 610.5899999999999, 487.03, 339.59999999999997, 440.9299999999999, 292.2, 447.0499999999999, 875.97, 785.3699999999999, 344.99999999999994, 1542.09, 542.49, 1516.0, 836.2999999999998, 324.79999999999995, 256.38, 534.8, 679.7000000000002, 814.5, 660.6500000000001, 209.49000000000004, 701.3599999999999, 620.37, 651.4000000000003, 312.98, 216.16999999999996, 515.86, 145.67, 122.69999999999999, 395.5, 506.8000000000001, 243.56000000000003, 349.54999999999995, 821.1, 686.3999999999999, 332.63999999999993, 272.04, 730.7000000000003, 865.1999999999999, 351.13000000000005, 223.85000000000002, 337.3399999999999, 608.7899999999998, 71.66, 854.1499999999999, 90.6, 548.76, 674.4499999999998, 458.2499999999999, 230.22, 438.90000000000003, 996.6100000000002, 390.86000000000007, 190.25000000000009, 196.79, 320.46000000000004, 682.5400000000001, 219.5, 895.7600000000001, 382.31, 566.6999999999999, 529.73, 509.03999999999996, 445.1499999999999, 457.8199999999999, 792.1500000000001, 645.74, 713.11, 104.82000000000002, 10396.5, 467.65999999999997, 626.6499999999999, 267.28000000000003, 572.3, 92.46, 469.18999999999994, 917.43, 891.0200000000001, 151.04, 122.46999999999997, 618.7299999999999, 161.0, 9530.080000000002, 422.8599999999999, 147.34999999999997, 194.9, 144.2, 622.67, 436.17999999999995, 419.58000000000004, 466.2900000000001, 446.62000000000006, 679.4500000000002, 289.36000000000007, 122.53999999999999, 624.4300000000002, 402.71999999999997, 134.46, 310.55000000000007, 678.7700000000001, 1091.7000000000003, 847.76, 1192.2, 169.48000000000002, 683.17, 745.5, 979.8000000000002, 632.1400000000001, 434.2300000000001, 601.03, 1000.63, 824.28, 492.6499999999999, 219.13, 1189.3799999999999, 628.4400000000002, 176.63, 426.6, 375.3399999999999, 456.4, 43.2, 742.9000000000001, 1147.02, 492.1, 516.45, 1370.3400000000004, 494.8499999999999, 605.0600000000002, 701.61, 462.65999999999997, 415.2, 620.2699999999999, 108.97999999999999, 409.57, 376.5, 163.62, 225.77000000000012, 400.0599999999999, 634.6800000000002, 469.1299999999998, 1175.78, 860.0800000000004, 617.05, 202.11, 707.7899999999998, 1063.0, 604.1999999999996, 916.6099999999999, 322.08, 661.3899999999999, 516.28, 1220.9, 289.59999999999997, 119.93000000000002, 628.2099999999995, 786.5699999999999, 400.95000000000005, 234.34, 165.75000000000003, 468.12999999999994, 174.8, 697.0599999999998, 356.85, 788.01, 330.45, 174.37, 270.6, 364.22, 376.34, 349.25, 788.3800000000001, 679.4400000000004, 919.7000000000003, 460.7099999999998, 114.11, 229.4699999999999, 474.5399999999999, 213.96000000000004, 660.0, 604.3300000000002, 951.7600000000002, 527.78, 412.78, 462.75, 443.6, 110.46, 96.12, 876.8899999999999, 519.97, 114.18000000000002, 285.73999999999995, 107.95, 490.59999999999974, 195.24999999999997, 403.39, 875.1500000000001, 188.60999999999996, 702.5999999999998, 390.68999999999994, 115.77, 467.93, 401.08, 579.8499999999997, 389.63999999999993, 420.5, 417.56999999999994, 278.3, 254.10999999999996, 192.60000000000002, 594.6199999999999, 730.8599999999999, 386.1499999999999, 77.4, 197.64000000000001, 6.2, 338.15, 1502.98, 845.5500000000002, 303.43, 519.29, 321.4299999999999, 197.13, 102.44999999999999, 773.67, 362.71, 170.32000000000002, 266.76, 129.72000000000003, 816.6, 854.13, 436.9999999999999, 255.4, 364.80000000000007, 369.2, 381.9, 1123.75, 843.7400000000004, 1770.0, 531.4899999999999, 100.9, 515.0, 311.69000000000005, 1325.0, 333.28999999999996, 366.90999999999997, 906.23, 114.39, 439.45999999999987, 372.92, 296.7499999999999, 442.2900000000001, 230.85999999999996, 308.94000000000005, 260.16999999999996, 125.58000000000003, 265.9999999999999, 203.41999999999996, 252.72999999999996, 402.50999999999993, 294.0199999999998, 735.6600000000001, 343.62, 215.78, 560.0699999999998, 370.79999999999995, 843.2500000000002, 546.2500000000001, 381.32000000000005, 776.4599999999997, 219.39, 554.67, 358.8199999999999, 449.48999999999995, 330.11, 823.4, 502.5199999999999, 563.6299999999999, 623.5, 301.28999999999996, 329.25, 383.96999999999997, 606.0200000000001, 589.27, 106.56, 569.2200000000001, 1289.5, 481.4600000000001, 224.14000000000007, 988.0400000000003, 948.9299999999998, 639.93, 310.62000000000006, 834.4399999999999, 588.05, 499.32, 549.0499999999998, 6001.49, 683.92, 328.34999999999997, 426.2400000000001, 685.45, 871.3599999999999, 409.4000000000001, 429.6, 612.0600000000001, 780.4000000000001, 976.06, 685.8999999999999, 623.1600000000001, 418.82, 852.2100000000002, 961.9, 496.16, 348.59000000000003, 240.55, 180.93999999999997, 205.3, 797.9600000000002, 1634.64, 820.45, 267.13, 434.5999999999999, 208.75000000000003, 714.96, 767.9099999999999, 1028.56, 173.97000000000003, 283.4299999999999, 406.0899999999999, 364.5, 393.54, 596.12, 158.03999999999996, 663.2500000000001, 277.05000000000007, 427.92999999999995, 689.07, 613.08, 1211.75, 394.14000000000004, 796.3799999999999, 659.8399999999999, 267.17999999999995, 572.8099999999998, 452.32, 135.86, 742.9999999999999, 266.89, 597.7800000000001, 954.7499999999999, 320.76, 533.2999999999998, 156.57999999999998, 594.0, 492.87999999999994, 788.8099999999998, 233.20999999999998, 307.68999999999994, 237.07000000000002, 216.76, 126.14, 1993.3400000000004, 431.92, 402.49999999999983, 267.1499999999999, 492.35999999999996, 166.50999999999996, 331.58000000000004, 62.43, 267.03000000000003, 343.49999999999994, 148.44, 229.32999999999993, 110.92000000000003, 3358.4, 85.13000000000002, 242.84000000000003, 1079.1, 252.51999999999995, 473.65, 673.3799999999999, 173.15999999999997, 186.01000000000002, 107.86000000000003, 455.30000000000007, 1139.1, 478.53, 199.8, 88.48, 216.39000000000001, 112.46, 195.15, 433.7199999999999, 828.5500000000002, 336.40000000000003, 588.1300000000001, 566.8999999999999, 596.6700000000001, 664.0000000000002, 657.3499999999999, 2170.35, 553.8799999999999, 877.4399999999999, 560.67, 30.0, 532.4900000000001, 632.94, 301.32000000000005, 524.54, 521.0300000000001, 239.76000000000002, 571.3, 191.04000000000002, 309.6499999999999, 327.85, 420.25, 658.02, 607.0000000000001, 544.6, 449.12000000000006, 154.88000000000002, 34.8, 196.87999999999997, 205.25, 830.93, 13916.34, 370.6299999999999, 1006.5400000000002, 475.28000000000003, 345.4600000000001, 246.3, 848.3299999999998, 451.42, 890.9399999999997, 532.94, 636.14, 137.37, 548.8000000000001, 130.74, 257.26, 110.80000000000001, 438.4599999999999, 230.52999999999994, 323.66, 1449.1399999999996, 501.39, 1027.15, 222.05, 764.5699999999999, 739.0, 254.16000000000003, 426.63000000000017, 2190.66, 416.8600000000001, 145.35, 734.81, 827.27, 2304.1799999999994, 579.49, 410.94999999999993, 451.28999999999996, 295.83, 426.5300000000001, 418.0499999999999, 988.4399999999999, 696.1900000000003, 583.39, 347.16999999999985, 236.09000000000006, 331.24000000000007, 456.3999999999999, 541.9499999999999, 335.32000000000005, 457.7000000000001, 736.93, 2300.4, 362.99, 436.17999999999995, 1739.92, 1437.43, 447.05000000000007, 582.6400000000001, 108.38, 562.4800000000001, 161.38000000000002, 612.7800000000001, 307.78, 819.4500000000002, 422.7, 535.3400000000001, 386.62, 796.9000000000002, 628.3199999999999, 435.8300000000001, 73.2, 612.6, 215.83, 305.5400000000001, 215.47999999999996, 630.43, 942.75, 159.0, 242.35000000000002, 672.17, 890.8099999999998, 542.03, 432.19999999999993, 827.2500000000005, 152.94, 791.38, 361.9399999999999, 755.1500000000002, 351.00999999999993, 837.5299999999999, 717.5700000000004, 411.7000000000001, 381.6599999999999, 361.2199999999999, 706.5700000000002, 460.0800000000001, 274.15000000000003, 402.71000000000004, 328.15, 404.40000000000003, 353.66, 2037.6999999999998, 277.48000000000013, 151.05, 322.41, 842.42, 416.35, 109.36000000000001, 1308.48, 362.95000000000005, 258.6999999999999, 353.09999999999997, 526.2699999999999, 346.12, 443.06, 660.28, 287.4, 367.87, 707.6899999999998, 30.950000000000003, 136.0, 746.2399999999999, 789.5999999999997, 470.83, 350.34999999999997, 331.0, 220.61999999999998, 404.30000000000007, 385.56, 826.5299999999999, 777.6, 90.30000000000001, 363.7, 101.7, 308.13999999999993, 717.2099999999999, 244.41, 635.9000000000002, 399.61999999999995, 424.0299999999999, 257.32, 689.8199999999999, 475.02, 281.84999999999997, 773.05, 865.5999999999999, 1020.9000000000001, 540.87, 380.0, 531.4, 605.9000000000001, 213.5, 181.08999999999997, 90.04000000000002, 357.66, 322.8, 406.4, 472.99999999999994, 554.5, 678.7999999999998, 541.9, 608.86, 880.6200000000001, 793.0600000000001, 422.59999999999997, 353.03000000000003, 1914.6999999999998, 657.9, 1998.0, 695.6600000000001, 551.11, 2149.6800000000003, 292.46999999999997, 835.1999999999999, 786.4299999999998, 414.99999999999994, 223.92, 454.7499999999998, 245.94, 391.95, 533.7800000000001, 80.8, 243.83999999999997, 305.62, 495.97999999999973, 582.6099999999999, 332.29999999999995, 288.42, 842.04, 410.9700000000001, 417.06000000000006, 341.70000000000005, 128.5, 513.32, 417.6099999999999, 614.34, 342.45, 144.91, 328.4, 1610.6200000000003, 662.33, 393.3899999999999, 450.1600000000001, 217.73999999999992, 13.3, 432.0, 437.1500000000001, 289.7800000000001, 379.14000000000004, 423.9099999999999, 208.45999999999995, 355.45, 611.0800000000008, 543.0500000000001, 535.0999999999999, 448.99999999999994, 868.7700000000001, 20.8, 308.74, 416.64, 809.4399999999998, 117.35000000000001, 794.56, 201.19, 786.25, 926.1200000000002, 496.00000000000006, 1950.95, 702.0, 402.0, 406.3, 830.1599999999999, 195.36, 384.15999999999997, 552.4, 1182.22, 260.0, 800.1800000000001, 95.85, 146.87, 613.59, 1954.99, 463.2499999999999, 827.6800000000001, 498.47999999999996, 118.80000000000001, 402.2, 582.1700000000001, 424.29999999999984, 491.22999999999985, 510.69999999999993, 389.78000000000003, 570.5, 298.89000000000004, 259.34999999999997, 1155.03, 637.1, 465.32, 124.88, 2016.5, 213.77999999999997, 329.34000000000003, 591.8700000000001, 856.0100000000001, 206.33999999999997, 384.59, 436.7099999999998, 144.0, 467.7099999999999, 562.9799999999998, 352.9, 356.71, 204.24, 303.2200000000001, 611.6, 253.37000000000003, 794.4100000000001, 217.99999999999997, 259.12999999999994, 318.76000000000005, 371.63, 178.26, 498.9299999999999, 417.29999999999995, 63.440000000000005, 279.5899999999999, 317.61999999999995, 604.3999999999999, 508.3899999999999, 187.82999999999998, 797.8499999999999, 428.3399999999998, 550.8000000000001, 393.64, 250.03999999999994, 2135.46, 4511.76, 330.59, 1025.1, 644.3, 609.5699999999999, 321.94999999999993, 838.2699999999998, 635.1500000000001, 508.0, 362.36000000000007, 228.96, 940.8599999999998, 168.4, 979.1999999999999, 727.1099999999996, 508.8, 381.1499999999999, 653.3799999999999, 552.8999999999999, 507.8399999999999, 100.8, 403.30000000000007, 373.1699999999999, 534.24, 194.8, 607.0, 1047.0, 194.36999999999995, 489.85999999999996, 1144.3000000000002, 1272.8, 778.1899999999999, 396.87000000000006, 272.21999999999997, 302.2, 329.41999999999996, 539.1399999999999, 364.83, 98.42000000000002, 341.7, 727.8499999999999, 731.2599999999998, 148.86, 306.84, 392.38, 382.7899999999998, 344.13999999999993, 161.67000000000002, 333.81000000000006, 1060.8, 218.52000000000004, 81.44, 1130.2099999999998, 75.75000000000001, 503.59999999999985, 285.56, 541.2499999999999, 331.65999999999997, 166.07999999999998, 117.54999999999998, 347.74999999999994, 599.7600000000002, 819.01, 239.41, 432.67999999999995, 780.0500000000001, 417.95000000000005, 885.1899999999998, 609.3, 671.0100000000001, 489.59999999999997, 376.9199999999999, 439.17999999999995, 438.6500000000001, 168.24, 600.34, 390.55999999999995, 712.78, 585.2699999999999, 338.5599999999999, 352.91, 679.02, 397.14999999999986, 106.1, 370.0499999999998, 350.3899999999999, 798.3300000000002, 437.8699999999999, 374.80999999999995, 183.55999999999997, 494.2500000000001, 298.4, 731.9599999999999, 134.59000000000003, 35.400000000000006, 730.47, 110.21, 185.72000000000006, 326.2299999999999, 598.1899999999999, 417.9399999999999, 148.21, 683.4600000000003, 3424.02, 824.9200000000002, 313.45999999999987, 203.85999999999993, 244.10000000000002, 97.99999999999997, 256.32, 299.1800000000001, 155.79999999999998, 260.0799999999999, 381.09000000000003, 375.49999999999994, 396.3900000000001, 497.0, 488.16, 341.24, 1433.2800000000002, 77.50000000000001, 360.34999999999997, 176.68, 358.56000000000006, 111.67999999999998, 135.08, 651.5099999999999, 582.5899999999999, 136.04, 337.04, 20.8, 228.83, 320.54999999999995, 235.18999999999997, 495.48, 249.92, 358.61, 169.46999999999997, 187.29000000000005, 166.42000000000002, 688.0, 297.9900000000001, 38.45, 389.78000000000003, 2074.0699999999997, 230.64999999999995, 97.97000000000004, 167.41999999999996, 281.15, 189.39999999999995, 342.6899999999999, 556.5200000000002, 412.0599999999999, 10877.18, 554.5999999999999, 306.46, 343.45, 470.7299999999999, 167.66999999999996, 349.4, 360.85, 550.8399999999999, 451.56, 113.48000000000002, 848.8100000000003, 405.8499999999999, 220.1, 673.1000000000001, 420.0399999999999, 226.89999999999998, 931.4999999999999, 444.99999999999994, 536.4099999999999, 882.4699999999999, 1019.52, 179.33999999999997, 530.1500000000002, 379.15999999999997, 728.84, 202.65000000000003, 162.5, 476.34999999999997, 632.07, 49.8, 724.8900000000003, 745.6200000000003, 529.4000000000001, 163.8, 447.53, 544.4699999999999, 139.10000000000002, 443.0, 388.75, 440.0, 422.58000000000004, 515.7800000000001, 839.7300000000001, 804.02, 95.34, 349.27000000000004, 303.15, 2059.67, 324.23999999999995, 577.54, 603.25, 444.54999999999995, 175.92000000000002, 488.15, 178.04999999999998, 461.68000000000006], \"y\": [24, 29, 23, 22, 11, 18, 18, 49, 25, 11, 16, 32, 22, 12, 26, 37, 43, 23, 34, 49, 22, 27, 2, 42, 23, 34, 35, 16, 38, 12, 16, 43, 39, 43, 19, 21, 49, 20, 26, 11, 21, 21, 19, 38, 15, 4, 21, 34, 12, 16, 19, 11, 38, 45, 35, 20, 30, 5, 13, 31, 22, 16, 49, 41, 12, 33, 21, 19, 26, 47, 19, 43, 2, 22, 23, 62, 4, 27, 34, 26, 26, 8, 37, 47, 43, 34, 50, 67, 32, 15, 45, 25, 14, 24, 19, 22, 24, 27, 80, 18, 48, 8, 47, 10, 36, 7, 5, 25, 11, 34, 14, 41, 25, 5, 1, 28, 9, 27, 25, 42, 57, 40, 16, 10, 32, 56, 20, 30, 4, 3, 22, 28, 23, 4, 35, 1, 39, 31, 35, 13, 45, 41, 8, 10, 2, 33, 27, 29, 47, 6, 51, 16, 30, 50, 45, 15, 2, 23, 17, 4, 34, 18, 32, 46, 34, 11, 2, 59, 29, 10, 1, 5, 13, 28, 2, 63, 24, 35, 27, 26, 1, 8, 9, 50, 38, 2, 15, 9, 22, 20, 49, 53, 10, 53, 11, 12, 17, 42, 19, 20, 8, 14, 16, 16, 32, 29, 34, 10, 1, 28, 35, 31, 73, 13, 39, 9, 11, 34, 43, 104, 16, 40, 111, 24, 12, 38, 19, 3, 40, 17, 34, 28, 53, 41, 10, 39, 14, 8, 22, 28, 39, 40, 21, 19, 5, 44, 15, 76, 42, 32, 47, 57, 44, 94, 2, 44, 27, 103, 33, 39, 16, 41, 53, 43, 50, 32, 22, 44, 8, 44, 58, 14, 19, 87, 14, 76, 18, 25, 107, 34, 9, 54, 24, 12, 40, 37, 37, 38, 51, 15, 33, 82, 43, 39, 43, 38, 29, 30, 92, 6, 21, 33, 48, 22, 10, 30, 11, 29, 23, 10, 32, 25, 13, 90, 15, 45, 31, 40, 9, 11, 36, 7, 7, 25, 28, 16, 19, 21, 46, 26, 18, 44, 30, 20, 11, 17, 23, 7, 51, 5, 24, 39, 27, 12, 24, 24, 22, 15, 15, 13, 46, 11, 33, 46, 31, 47, 32, 24, 32, 47, 34, 50, 6, 9, 15, 38, 10, 9, 6, 24, 19, 49, 13, 46, 13, 14, 13, 40, 21, 26, 9, 22, 24, 5, 17, 28, 44, 25, 25, 67, 54, 26, 54, 50, 18, 29, 5, 12, 41, 38, 33, 35, 13, 23, 1, 51, 29, 39, 23, 41, 9, 16, 23, 27, 3, 28, 2, 22, 31, 31, 26, 36, 41, 28, 15, 23, 6, 18, 25, 9, 41, 25, 51, 26, 44, 38, 11, 14, 53, 14, 137, 15, 1, 39, 22, 35, 77, 22, 79, 8, 41, 7, 47, 21, 7, 40, 7, 19, 18, 16, 4, 18, 29, 23, 16, 115, 47, 74, 6, 57, 82, 7, 2, 38, 48, 5, 26, 29, 16, 7, 2, 48, 51, 29, 30, 4, 68, 14, 24, 20, 22, 50, 28, 27, 47, 100, 34, 5, 19, 30, 6, 39, 5, 47, 35, 41, 3, 6, 2, 23, 2, 44, 20, 40, 70, 40, 6, 71, 22, 11, 11, 9, 43, 49, 66, 17, 18, 20, 14, 29, 50, 4, 32, 3, 27, 20, 4, 29, 14, 13, 21, 53, 22, 87, 41, 54, 20, 35, 20, 70, 28, 27, 48, 107, 12, 22, 30, 85, 5, 34, 31, 23, 45, 11, 27, 21, 25, 22, 34, 31, 31, 28, 20, 22, 24, 11, 23, 5, 59, 5, 34, 23, 52, 26, 38, 21, 40, 35, 19, 30, 3, 24, 24, 28, 26, 35, 23, 23, 31, 51, 17, 12, 34, 26, 45, 22, 29, 27, 3, 25, 12, 54, 45, 50, 36, 29, 10, 13, 44, 16, 36, 60, 24, 21, 20, 37, 9, 35, 14, 13, 10, 40, 21, 31, 16, 30, 34, 48, 69, 8, 56, 14, 33, 36, 16, 41, 25, 2, 29, 49, 63, 41, 58, 58, 7, 38, 11, 70, 123, 46, 29, 32, 15, 27, 18, 4, 26, 24, 14, 29, 58, 12, 30, 20, 34, 8, 7, 46, 31, 38, 29, 5, 4, 17, 6, 6, 27, 42, 3, 34, 24, 39, 33, 25, 12, 36, 6, 34, 1, 21, 67, 13, 26, 24, 19, 14, 12, 18, 27, 25, 38, 24, 12, 8, 9, 3, 28, 9, 17, 2, 25, 28, 29, 20, 14, 43, 1, 26, 20, 51, 10, 25, 11, 33, 30, 22, 45, 35, 11, 29, 37, 24, 41, 22, 42, 21, 29, 12, 7, 39, 30, 26, 78, 26, 42, 58, 27, 85, 15, 111, 29, 82, 32, 29, 32, 24, 23, 25, 41, 8, 39, 38, 10, 6, 30, 37, 6, 75, 30, 34, 16, 39, 28, 37, 9, 48, 35, 22, 3, 25, 11, 11, 11, 38, 10, 6, 14, 31, 55, 35, 20, 89, 7, 49, 93, 46, 24, 66, 53, 25, 25, 22, 42, 28, 16, 23, 19, 3, 4, 34, 58, 10, 15, 46, 48, 5, 10, 23, 65, 44, 38, 18, 13, 136, 8, 52, 40, 4, 3, 48, 39, 28, 24, 17, 18, 25, 23, 50, 4, 3, 13, 6, 54, 35, 17, 36, 43, 38, 14, 8, 22, 11, 11, 35, 5, 33, 23, 32, 29, 10, 53, 7, 22, 20, 27, 25, 36, 29, 33, 23, 47, 21, 13, 19, 5, 10, 5, 58, 66, 8, 37, 2, 38, 18, 34, 52, 16, 25, 35, 5, 16, 18, 106, 53, 24, 23, 34, 74, 28, 22, 8, 27, 21, 32, 20, 9, 19, 43, 35, 54, 28, 34, 3, 1, 54, 37, 18, 18, 38, 23, 122, 6, 73, 44, 43, 1, 16, 16, 74, 7, 52, 26, 88, 45, 28, 28, 12, 6, 30, 112, 11, 42, 41, 48, 16, 49, 3, 11, 33, 44, 16, 53, 13, 2, 18, 40, 32, 53, 51, 47, 30, 32, 40, 37, 37, 20, 9, 16, 14, 23, 39, 52, 12, 25, 32, 2, 23, 31, 104, 25, 7, 67, 40, 54, 29, 29, 50, 47, 25, 18, 31, 55, 23, 84, 38, 49, 54, 9, 6, 49, 1, 44, 53, 9, 7, 37, 2, 14, 39, 89, 95, 31, 39, 14, 1, 36, 34, 1, 42, 3, 48, 38, 23, 14, 2, 43, 53, 1, 8, 34, 6, 14, 31, 44, 40, 54, 24, 17, 14, 77, 43, 16, 9, 65, 31, 34, 6, 43, 29, 65, 29, 13, 22, 5, 77, 4, 38, 5, 26, 20, 39, 12, 8, 22, 15, 28, 46, 15, 26, 52, 24, 31, 24, 40, 2, 26, 23, 23, 10, 28, 72, 19, 56, 84, 81, 29, 29, 10, 53, 46, 85, 89, 56, 42, 110, 13, 28, 34, 2, 59, 24, 55, 64, 48, 34, 25, 46, 4, 45, 56, 34, 28, 16, 2, 50, 32, 22, 45, 52, 40, 3, 2, 27, 7, 2, 72, 9, 1, 31, 37, 112, 31, 31, 15, 1, 34, 40, 64, 29, 54, 25, 40, 31, 32, 4, 44, 5, 21, 17, 9, 34, 33, 16, 47, 88, 95, 23, 16, 30, 19, 17, 42, 39, 60, 25, 88, 30, 18, 47, 27, 28, 32, 45, 66, 1, 28, 54, 42, 15, 7, 23, 47, 33, 9, 2, 30, 37, 1, 48, 42, 15, 32, 27, 31, 8, 19, 6, 1, 6, 26, 37, 47, 8, 21, 19, 50, 21, 42, 36, 17, 11, 30, 12, 28], \"z\": [204, 287, 110, 291, 4, 628, 338, 403, 386, 43, 100, 462, 367, 3, 243, 156, 134, 605, 529, 432, 166, 560, 584, 409, 233, 66, 113, 353, 143, 39, 30, 409, 484, 448, 36, 198, 576, 39, 449, 8, 311, 261, 86, 457, 40, 8, 109, 190, 59, 79, 74, 22, 106, 386, 521, 3, 335, 30, 11, 394, 330, 206, 435, 418, 20, 292, 106, 71, 114, 522, 353, 315, 499, 372, 487, 445, 87, 458, 138, 458, 463, 65, 192, 257, 366, 470, 501, 466, 535, 45, 502, 281, 262, 521, 337, 262, 145, 267, 97, 84, 385, 143, 236, 45, 382, 88, 214, 381, 186, 31, 205, 429, 396, 176, 626, 161, 26, 724, 558, 306, 400, 379, 7, 10, 198, 729, 30, 598, 19, 85, 376, 196, 318, 56, 323, 7, 563, 471, 451, 273, 99, 530, 25, 72, 10, 192, 411, 511, 383, 71, 234, 133, 138, 269, 473, 78, 94, 585, 26, 22, 313, 64, 27, 582, 619, 45, 11, 658, 61, 136, 443, 122, 200, 273, 81, 673, 388, 112, 93, 125, 14, 61, 269, 263, 443, 366, 31, 78, 439, 60, 600, 603, 443, 137, 72, 82, 316, 261, 178, 288, 70, 64, 11, 66, 122, 269, 472, 71, 50, 366, 330, 414, 417, 75, 192, 18, 1, 620, 640, 473, 64, 450, 571, 501, 2, 667, 24, 259, 166, 29, 446, 464, 201, 417, 66, 241, 105, 275, 64, 244, 261, 127, 74, 78, 30, 738, 79, 183, 426, 467, 634, 391, 383, 675, 513, 173, 243, 411, 309, 531, 36, 312, 387, 29, 633, 696, 388, 253, 16, 641, 400, 35, 60, 149, 51, 395, 301, 151, 405, 183, 59, 396, 422, 39, 597, 155, 318, 303, 271, 32, 247, 408, 117, 436, 136, 219, 411, 200, 396, 18, 152, 727, 422, 82, 488, 429, 128, 388, 67, 64, 367, 305, 184, 418, 22, 159, 399, 416, 65, 57, 326, 74, 64, 646, 189, 71, 204, 298, 326, 37, 50, 402, 352, 54, 23, 58, 109, 35, 395, 65, 361, 176, 418, 21, 387, 477, 435, 71, 15, 17, 380, 30, 386, 519, 447, 134, 432, 565, 480, 225, 122, 471, 61, 550, 63, 285, 33, 124, 65, 463, 507, 389, 32, 129, 125, 57, 654, 481, 37, 138, 73, 502, 733, 84, 234, 221, 673, 174, 276, 431, 605, 33, 411, 444, 218, 381, 405, 43, 177, 438, 436, 373, 326, 433, 546, 471, 332, 226, 396, 463, 8, 213, 407, 421, 19, 431, 549, 433, 243, 422, 424, 115, 410, 124, 68, 243, 39, 260, 215, 6, 43, 389, 395, 642, 451, 443, 191, 9, 401, 311, 388, 218, 18, 435, 404, 512, 466, 190, 432, 98, 591, 74, 39, 175, 51, 309, 88, 101, 33, 64, 2, 37, 480, 674, 85, 510, 435, 488, 41, 627, 390, 11, 275, 444, 394, 243, 206, 379, 51, 22, 59, 157, 201, 77, 87, 27, 430, 24, 579, 71, 218, 214, 619, 379, 274, 485, 435, 44, 75, 264, 47, 29, 17, 621, 127, 281, 10, 29, 64, 51, 438, 162, 75, 391, 180, 53, 10, 423, 268, 19, 29, 7, 484, 210, 418, 20, 253, 207, 74, 597, 394, 444, 418, 14, 469, 79, 421, 253, 271, 704, 37, 735, 246, 198, 481, 394, 36, 43, 34, 267, 379, 90, 376, 170, 152, 270, 319, 475, 213, 373, 428, 308, 215, 43, 531, 134, 537, 170, 521, 394, 226, 240, 11, 31, 383, 45, 357, 26, 382, 331, 323, 72, 668, 426, 548, 70, 434, 463, 61, 495, 420, 416, 319, 563, 176, 358, 234, 239, 113, 238, 122, 283, 169, 324, 338, 479, 562, 570, 50, 201, 96, 611, 479, 199, 44, 563, 53, 32, 500, 208, 54, 677, 130, 87, 46, 333, 72, 373, 29, 40, 362, 449, 383, 186, 113, 189, 264, 313, 425, 25, 434, 38, 254, 468, 23, 214, 131, 249, 331, 313, 434, 362, 262, 354, 29, 401, 93, 405, 363, 172, 380, 156, 45, 233, 2, 33, 254, 163, 538, 114, 288, 607, 217, 29, 352, 50, 19, 376, 177, 593, 256, 71, 79, 52, 52, 36, 610, 396, 11, 117, 457, 642, 192, 204, 336, 522, 93, 243, 23, 44, 472, 40, 117, 120, 4, 252, 28, 18, 284, 557, 556, 234, 380, 66, 49, 78, 134, 25, 218, 631, 667, 604, 184, 25, 11, 468, 143, 453, 172, 99, 50, 393, 46, 187, 52, 432, 101, 277, 409, 312, 407, 194, 491, 373, 373, 67, 418, 239, 64, 112, 365, 503, 682, 374, 379, 449, 451, 388, 367, 414, 381, 211, 43, 310, 424, 401, 260, 418, 503, 626, 284, 299, 389, 576, 456, 463, 66, 428, 183, 212, 52, 263, 680, 250, 296, 382, 522, 428, 59, 138, 61, 73, 16, 237, 392, 79, 81, 203, 385, 190, 78, 460, 62, 261, 410, 378, 423, 438, 438, 117, 695, 139, 106, 414, 3, 331, 35, 218, 196, 432, 492, 37, 75, 158, 375, 53, 267, 247, 396, 408, 376, 25, 191, 414, 64, 198, 198, 45, 74, 421, 434, 165, 432, 25, 16, 174, 541, 297, 32, 20, 297, 30, 446, 172, 4, 642, 541, 735, 54, 165, 243, 24, 364, 194, 428, 420, 667, 374, 401, 69, 75, 4, 404, 79, 486, 407, 106, 449, 170, 442, 411, 366, 76, 72, 256, 135, 227, 618, 400, 267, 262, 53, 177, 373, 58, 294, 74, 437, 410, 8, 57, 89, 432, 679, 65, 99, 192, 454, 103, 51, 93, 157, 184, 563, 4, 10, 24, 453, 547, 394, 469, 379, 84, 67, 401, 299, 72, 290, 36, 411, 573, 116, 382, 489, 139, 30, 18, 239, 435, 87, 116, 227, 383, 423, 395, 464, 288, 150, 396, 402, 18, 725, 577, 442, 31, 417, 45, 64, 246, 604, 138, 113, 131, 78, 322, 533, 722, 389, 165, 648, 119, 185, 50, 429, 107, 247, 52, 195, 24, 75, 492, 444, 39, 289, 731, 47, 227, 655, 428, 387, 53, 652, 649, 393, 253, 234, 32, 96, 205, 18, 107, 397, 208, 424, 127, 469, 402, 58, 374, 628, 308, 391, 361, 649, 393, 95, 387, 139, 280, 408, 528, 302, 384, 94, 86, 395, 238, 456, 219, 164, 411, 115, 412, 80, 72, 313, 530, 220, 10, 409, 600, 79, 396, 613, 408, 487, 261, 76, 76, 426, 361, 177, 26, 270, 376, 234, 24, 359, 578, 633, 332, 18, 376, 174, 312, 60, 598, 81, 170, 19, 373, 65, 21, 277, 1, 264, 386, 44, 421, 358, 253, 169, 185, 170, 201, 421, 232, 596, 9, 478, 464, 33, 514, 387, 667, 383, 281, 30, 467, 180, 451, 395, 669, 374, 421, 51, 599, 374, 33, 415, 47, 444, 303, 555, 373, 305, 185, 400, 365, 379, 162, 56, 44, 23, 85, 159, 29, 394, 310, 501, 282, 373, 45, 131, 8, 697, 37, 147, 66, 171, 471, 211, 242, 52, 56, 379, 225, 617, 282, 376, 376, 362, 155, 28, 81, 108, 52, 153, 501, 4, 65, 154, 54, 45, 381, 437, 359, 565, 288, 23, 36, 398, 61, 422, 593, 396, 550, 38, 254, 589, 290, 149, 537, 504, 212, 598, 474, 402, 157, 46, 301, 732, 584, 61, 7, 358, 227, 15, 632, 192, 262, 106, 723, 499, 29, 93, 218, 326, 46, 414, 415, 123, 17, 310, 89, 464, 43, 140, 499, 38, 30, 278, 8, 432]}],\n",
              "                        {\"legend\": {\"tracegroupgap\": 0}, \"margin\": {\"t\": 60}, \"scene\": {\"domain\": {\"x\": [0.0, 1.0], \"y\": [0.0, 1.0]}, \"xaxis\": {\"title\": {\"text\": \"Monetary\"}}, \"yaxis\": {\"title\": {\"text\": \"Frequency\"}}, \"zaxis\": {\"title\": {\"text\": \"Recency\"}}}, \"template\": {\"data\": {\"bar\": [{\"error_x\": {\"color\": \"#2a3f5f\"}, \"error_y\": {\"color\": \"#2a3f5f\"}, \"marker\": {\"line\": {\"color\": \"#E5ECF6\", \"width\": 0.5}}, \"type\": \"bar\"}], \"barpolar\": [{\"marker\": {\"line\": {\"color\": \"#E5ECF6\", \"width\": 0.5}}, \"type\": \"barpolar\"}], \"carpet\": [{\"aaxis\": {\"endlinecolor\": \"#2a3f5f\", \"gridcolor\": \"white\", \"linecolor\": \"white\", \"minorgridcolor\": \"white\", \"startlinecolor\": \"#2a3f5f\"}, \"baxis\": {\"endlinecolor\": \"#2a3f5f\", \"gridcolor\": \"white\", \"linecolor\": \"white\", \"minorgridcolor\": \"white\", \"startlinecolor\": \"#2a3f5f\"}, \"type\": \"carpet\"}], \"choropleth\": [{\"colorbar\": {\"outlinewidth\": 0, \"ticks\": \"\"}, \"type\": \"choropleth\"}], \"contour\": [{\"colorbar\": {\"outlinewidth\": 0, \"ticks\": \"\"}, \"colorscale\": [[0.0, \"#0d0887\"], [0.1111111111111111, \"#46039f\"], [0.2222222222222222, \"#7201a8\"], [0.3333333333333333, \"#9c179e\"], [0.4444444444444444, \"#bd3786\"], [0.5555555555555556, \"#d8576b\"], [0.6666666666666666, \"#ed7953\"], [0.7777777777777778, \"#fb9f3a\"], [0.8888888888888888, \"#fdca26\"], [1.0, \"#f0f921\"]], \"type\": \"contour\"}], \"contourcarpet\": [{\"colorbar\": {\"outlinewidth\": 0, \"ticks\": \"\"}, \"type\": \"contourcarpet\"}], \"heatmap\": [{\"colorbar\": {\"outlinewidth\": 0, \"ticks\": \"\"}, \"colorscale\": [[0.0, \"#0d0887\"], [0.1111111111111111, \"#46039f\"], [0.2222222222222222, \"#7201a8\"], [0.3333333333333333, \"#9c179e\"], [0.4444444444444444, \"#bd3786\"], [0.5555555555555556, \"#d8576b\"], [0.6666666666666666, \"#ed7953\"], [0.7777777777777778, \"#fb9f3a\"], [0.8888888888888888, \"#fdca26\"], [1.0, \"#f0f921\"]], \"type\": \"heatmap\"}], \"heatmapgl\": [{\"colorbar\": {\"outlinewidth\": 0, \"ticks\": \"\"}, \"colorscale\": [[0.0, \"#0d0887\"], [0.1111111111111111, \"#46039f\"], [0.2222222222222222, \"#7201a8\"], [0.3333333333333333, \"#9c179e\"], [0.4444444444444444, \"#bd3786\"], [0.5555555555555556, \"#d8576b\"], [0.6666666666666666, \"#ed7953\"], [0.7777777777777778, \"#fb9f3a\"], [0.8888888888888888, \"#fdca26\"], [1.0, \"#f0f921\"]], \"type\": \"heatmapgl\"}], \"histogram\": [{\"marker\": {\"colorbar\": {\"outlinewidth\": 0, \"ticks\": \"\"}}, \"type\": \"histogram\"}], \"histogram2d\": [{\"colorbar\": {\"outlinewidth\": 0, \"ticks\": \"\"}, \"colorscale\": [[0.0, \"#0d0887\"], [0.1111111111111111, \"#46039f\"], [0.2222222222222222, \"#7201a8\"], [0.3333333333333333, \"#9c179e\"], [0.4444444444444444, \"#bd3786\"], [0.5555555555555556, \"#d8576b\"], [0.6666666666666666, \"#ed7953\"], [0.7777777777777778, \"#fb9f3a\"], [0.8888888888888888, \"#fdca26\"], [1.0, \"#f0f921\"]], \"type\": \"histogram2d\"}], \"histogram2dcontour\": [{\"colorbar\": {\"outlinewidth\": 0, \"ticks\": \"\"}, \"colorscale\": [[0.0, \"#0d0887\"], [0.1111111111111111, \"#46039f\"], [0.2222222222222222, \"#7201a8\"], [0.3333333333333333, \"#9c179e\"], [0.4444444444444444, \"#bd3786\"], [0.5555555555555556, \"#d8576b\"], [0.6666666666666666, \"#ed7953\"], [0.7777777777777778, \"#fb9f3a\"], [0.8888888888888888, \"#fdca26\"], [1.0, \"#f0f921\"]], \"type\": \"histogram2dcontour\"}], \"mesh3d\": [{\"colorbar\": {\"outlinewidth\": 0, \"ticks\": \"\"}, \"type\": \"mesh3d\"}], \"parcoords\": [{\"line\": {\"colorbar\": {\"outlinewidth\": 0, \"ticks\": \"\"}}, \"type\": \"parcoords\"}], \"pie\": [{\"automargin\": true, \"type\": \"pie\"}], \"scatter\": [{\"marker\": {\"colorbar\": {\"outlinewidth\": 0, \"ticks\": \"\"}}, \"type\": \"scatter\"}], \"scatter3d\": [{\"line\": {\"colorbar\": {\"outlinewidth\": 0, \"ticks\": \"\"}}, \"marker\": {\"colorbar\": {\"outlinewidth\": 0, \"ticks\": \"\"}}, \"type\": \"scatter3d\"}], \"scattercarpet\": [{\"marker\": {\"colorbar\": {\"outlinewidth\": 0, \"ticks\": \"\"}}, \"type\": \"scattercarpet\"}], \"scattergeo\": [{\"marker\": {\"colorbar\": {\"outlinewidth\": 0, \"ticks\": \"\"}}, \"type\": \"scattergeo\"}], \"scattergl\": [{\"marker\": {\"colorbar\": {\"outlinewidth\": 0, \"ticks\": \"\"}}, \"type\": \"scattergl\"}], \"scattermapbox\": [{\"marker\": {\"colorbar\": {\"outlinewidth\": 0, \"ticks\": \"\"}}, \"type\": \"scattermapbox\"}], \"scatterpolar\": [{\"marker\": {\"colorbar\": {\"outlinewidth\": 0, \"ticks\": \"\"}}, \"type\": \"scatterpolar\"}], \"scatterpolargl\": [{\"marker\": {\"colorbar\": {\"outlinewidth\": 0, \"ticks\": \"\"}}, \"type\": \"scatterpolargl\"}], \"scatterternary\": [{\"marker\": {\"colorbar\": {\"outlinewidth\": 0, \"ticks\": \"\"}}, \"type\": \"scatterternary\"}], \"surface\": [{\"colorbar\": {\"outlinewidth\": 0, \"ticks\": \"\"}, \"colorscale\": [[0.0, \"#0d0887\"], [0.1111111111111111, \"#46039f\"], [0.2222222222222222, \"#7201a8\"], [0.3333333333333333, \"#9c179e\"], [0.4444444444444444, \"#bd3786\"], [0.5555555555555556, \"#d8576b\"], [0.6666666666666666, \"#ed7953\"], [0.7777777777777778, \"#fb9f3a\"], [0.8888888888888888, \"#fdca26\"], [1.0, \"#f0f921\"]], \"type\": \"surface\"}], \"table\": [{\"cells\": {\"fill\": {\"color\": \"#EBF0F8\"}, \"line\": {\"color\": \"white\"}}, \"header\": {\"fill\": {\"color\": \"#C8D4E3\"}, \"line\": {\"color\": \"white\"}}, \"type\": \"table\"}]}, \"layout\": {\"annotationdefaults\": {\"arrowcolor\": \"#2a3f5f\", \"arrowhead\": 0, \"arrowwidth\": 1}, \"coloraxis\": {\"colorbar\": {\"outlinewidth\": 0, \"ticks\": \"\"}}, \"colorscale\": {\"diverging\": [[0, \"#8e0152\"], [0.1, \"#c51b7d\"], [0.2, \"#de77ae\"], [0.3, \"#f1b6da\"], [0.4, \"#fde0ef\"], [0.5, \"#f7f7f7\"], [0.6, \"#e6f5d0\"], [0.7, \"#b8e186\"], [0.8, \"#7fbc41\"], [0.9, \"#4d9221\"], [1, \"#276419\"]], \"sequential\": [[0.0, \"#0d0887\"], [0.1111111111111111, \"#46039f\"], [0.2222222222222222, \"#7201a8\"], [0.3333333333333333, \"#9c179e\"], [0.4444444444444444, \"#bd3786\"], [0.5555555555555556, \"#d8576b\"], [0.6666666666666666, \"#ed7953\"], [0.7777777777777778, \"#fb9f3a\"], [0.8888888888888888, \"#fdca26\"], [1.0, \"#f0f921\"]], \"sequentialminus\": [[0.0, \"#0d0887\"], [0.1111111111111111, \"#46039f\"], [0.2222222222222222, \"#7201a8\"], [0.3333333333333333, \"#9c179e\"], [0.4444444444444444, \"#bd3786\"], [0.5555555555555556, \"#d8576b\"], [0.6666666666666666, \"#ed7953\"], [0.7777777777777778, \"#fb9f3a\"], [0.8888888888888888, \"#fdca26\"], [1.0, \"#f0f921\"]]}, \"colorway\": [\"#636efa\", \"#EF553B\", \"#00cc96\", \"#ab63fa\", \"#FFA15A\", \"#19d3f3\", \"#FF6692\", \"#B6E880\", \"#FF97FF\", \"#FECB52\"], \"font\": {\"color\": \"#2a3f5f\"}, \"geo\": {\"bgcolor\": \"white\", \"lakecolor\": \"white\", \"landcolor\": \"#E5ECF6\", \"showlakes\": true, \"showland\": true, \"subunitcolor\": \"white\"}, \"hoverlabel\": {\"align\": \"left\"}, \"hovermode\": \"closest\", \"mapbox\": {\"style\": \"light\"}, \"paper_bgcolor\": \"white\", \"plot_bgcolor\": \"#E5ECF6\", \"polar\": {\"angularaxis\": {\"gridcolor\": \"white\", \"linecolor\": \"white\", \"ticks\": \"\"}, \"bgcolor\": \"#E5ECF6\", \"radialaxis\": {\"gridcolor\": \"white\", \"linecolor\": \"white\", \"ticks\": \"\"}}, \"scene\": {\"xaxis\": {\"backgroundcolor\": \"#E5ECF6\", \"gridcolor\": \"white\", \"gridwidth\": 2, \"linecolor\": \"white\", \"showbackground\": true, \"ticks\": \"\", \"zerolinecolor\": \"white\"}, \"yaxis\": {\"backgroundcolor\": \"#E5ECF6\", \"gridcolor\": \"white\", \"gridwidth\": 2, \"linecolor\": \"white\", \"showbackground\": true, \"ticks\": \"\", \"zerolinecolor\": \"white\"}, \"zaxis\": {\"backgroundcolor\": \"#E5ECF6\", \"gridcolor\": \"white\", \"gridwidth\": 2, \"linecolor\": \"white\", \"showbackground\": true, \"ticks\": \"\", \"zerolinecolor\": \"white\"}}, \"shapedefaults\": {\"line\": {\"color\": \"#2a3f5f\"}}, \"ternary\": {\"aaxis\": {\"gridcolor\": \"white\", \"linecolor\": \"white\", \"ticks\": \"\"}, \"baxis\": {\"gridcolor\": \"white\", \"linecolor\": \"white\", \"ticks\": \"\"}, \"bgcolor\": \"#E5ECF6\", \"caxis\": {\"gridcolor\": \"white\", \"linecolor\": \"white\", \"ticks\": \"\"}}, \"title\": {\"x\": 0.05}, \"xaxis\": {\"automargin\": true, \"gridcolor\": \"white\", \"linecolor\": \"white\", \"ticks\": \"\", \"title\": {\"standoff\": 15}, \"zerolinecolor\": \"white\", \"zerolinewidth\": 2}, \"yaxis\": {\"automargin\": true, \"gridcolor\": \"white\", \"linecolor\": \"white\", \"ticks\": \"\", \"title\": {\"standoff\": 15}, \"zerolinecolor\": \"white\", \"zerolinewidth\": 2}}}},\n",
              "                        {\"responsive\": true}\n",
              "                    ).then(function(){\n",
              "                            \n",
              "var gd = document.getElementById('1469a015-fbd9-4c2c-9554-36ffac30d80c');\n",
              "var x = new MutationObserver(function (mutations, observer) {{\n",
              "        var display = window.getComputedStyle(gd).display;\n",
              "        if (!display || display === 'none') {{\n",
              "            console.log([gd, 'removed!']);\n",
              "            Plotly.purge(gd);\n",
              "            observer.disconnect();\n",
              "        }}\n",
              "}});\n",
              "\n",
              "// Listen for the removal of the full notebook cells\n",
              "var notebookContainer = gd.closest('#notebook-container');\n",
              "if (notebookContainer) {{\n",
              "    x.observe(notebookContainer, {childList: true});\n",
              "}}\n",
              "\n",
              "// Listen for the clearing of the current output cell\n",
              "var outputEl = gd.closest('.output');\n",
              "if (outputEl) {{\n",
              "    x.observe(outputEl, {childList: true});\n",
              "}}\n",
              "\n",
              "                        })\n",
              "                };\n",
              "                \n",
              "            </script>\n",
              "        </div>\n",
              "</body>\n",
              "</html>"
            ]
          },
          "metadata": {}
        }
      ]
    },
    {
      "cell_type": "code",
      "metadata": {
        "colab": {
          "base_uri": "https://localhost:8080/",
          "height": 202
        },
        "id": "lIVJLHhiJ_58",
        "outputId": "1a2af3bd-4c3e-4125-d474-7de90198641a"
      },
      "source": [
        "df_new.head()"
      ],
      "execution_count": 82,
      "outputs": [
        {
          "output_type": "execute_result",
          "data": {
            "text/html": [
              "<div>\n",
              "<style scoped>\n",
              "    .dataframe tbody tr th:only-of-type {\n",
              "        vertical-align: middle;\n",
              "    }\n",
              "\n",
              "    .dataframe tbody tr th {\n",
              "        vertical-align: top;\n",
              "    }\n",
              "\n",
              "    .dataframe thead th {\n",
              "        text-align: right;\n",
              "    }\n",
              "</style>\n",
              "<table border=\"1\" class=\"dataframe\">\n",
              "  <thead>\n",
              "    <tr style=\"text-align: right;\">\n",
              "      <th></th>\n",
              "      <th>Invoice</th>\n",
              "      <th>StockCode</th>\n",
              "      <th>Description</th>\n",
              "      <th>Quantity</th>\n",
              "      <th>InvoiceDate</th>\n",
              "      <th>Price</th>\n",
              "      <th>Customer ID</th>\n",
              "      <th>Country</th>\n",
              "      <th>Total_Amount</th>\n",
              "    </tr>\n",
              "  </thead>\n",
              "  <tbody>\n",
              "    <tr>\n",
              "      <th>0</th>\n",
              "      <td>489434</td>\n",
              "      <td>85048</td>\n",
              "      <td>15CM CHRISTMAS GLASS BALL 20 LIGHTS</td>\n",
              "      <td>12</td>\n",
              "      <td>2009-12-01 07:45:00</td>\n",
              "      <td>6.95</td>\n",
              "      <td>13085.0</td>\n",
              "      <td>United Kingdom</td>\n",
              "      <td>83.4</td>\n",
              "    </tr>\n",
              "    <tr>\n",
              "      <th>1</th>\n",
              "      <td>489434</td>\n",
              "      <td>79323P</td>\n",
              "      <td>PINK CHERRY LIGHTS</td>\n",
              "      <td>12</td>\n",
              "      <td>2009-12-01 07:45:00</td>\n",
              "      <td>6.75</td>\n",
              "      <td>13085.0</td>\n",
              "      <td>United Kingdom</td>\n",
              "      <td>81.0</td>\n",
              "    </tr>\n",
              "    <tr>\n",
              "      <th>2</th>\n",
              "      <td>489434</td>\n",
              "      <td>79323W</td>\n",
              "      <td>WHITE CHERRY LIGHTS</td>\n",
              "      <td>12</td>\n",
              "      <td>2009-12-01 07:45:00</td>\n",
              "      <td>6.75</td>\n",
              "      <td>13085.0</td>\n",
              "      <td>United Kingdom</td>\n",
              "      <td>81.0</td>\n",
              "    </tr>\n",
              "    <tr>\n",
              "      <th>3</th>\n",
              "      <td>489434</td>\n",
              "      <td>22041</td>\n",
              "      <td>RECORD FRAME 7\" SINGLE SIZE</td>\n",
              "      <td>48</td>\n",
              "      <td>2009-12-01 07:45:00</td>\n",
              "      <td>2.10</td>\n",
              "      <td>13085.0</td>\n",
              "      <td>United Kingdom</td>\n",
              "      <td>100.8</td>\n",
              "    </tr>\n",
              "    <tr>\n",
              "      <th>4</th>\n",
              "      <td>489434</td>\n",
              "      <td>21232</td>\n",
              "      <td>STRAWBERRY CERAMIC TRINKET BOX</td>\n",
              "      <td>24</td>\n",
              "      <td>2009-12-01 07:45:00</td>\n",
              "      <td>1.25</td>\n",
              "      <td>13085.0</td>\n",
              "      <td>United Kingdom</td>\n",
              "      <td>30.0</td>\n",
              "    </tr>\n",
              "  </tbody>\n",
              "</table>\n",
              "</div>"
            ],
            "text/plain": [
              "  Invoice StockCode  ...         Country  Total_Amount\n",
              "0  489434     85048  ...  United Kingdom          83.4\n",
              "1  489434    79323P  ...  United Kingdom          81.0\n",
              "2  489434    79323W  ...  United Kingdom          81.0\n",
              "3  489434     22041  ...  United Kingdom         100.8\n",
              "4  489434     21232  ...  United Kingdom          30.0\n",
              "\n",
              "[5 rows x 9 columns]"
            ]
          },
          "metadata": {},
          "execution_count": 82
        }
      ]
    },
    {
      "cell_type": "markdown",
      "metadata": {
        "id": "0fYpmZGnSQiT"
      },
      "source": [
        "**3. What is the most popular time of year based on this sales data?**"
      ]
    },
    {
      "cell_type": "code",
      "metadata": {
        "colab": {
          "base_uri": "https://localhost:8080/",
          "height": 202
        },
        "id": "ynkqKe9xZWCt",
        "outputId": "57063bbc-1569-4723-c4ae-8e1231bb72b6"
      },
      "source": [
        "df_new.head(5)"
      ],
      "execution_count": 83,
      "outputs": [
        {
          "output_type": "execute_result",
          "data": {
            "text/html": [
              "<div>\n",
              "<style scoped>\n",
              "    .dataframe tbody tr th:only-of-type {\n",
              "        vertical-align: middle;\n",
              "    }\n",
              "\n",
              "    .dataframe tbody tr th {\n",
              "        vertical-align: top;\n",
              "    }\n",
              "\n",
              "    .dataframe thead th {\n",
              "        text-align: right;\n",
              "    }\n",
              "</style>\n",
              "<table border=\"1\" class=\"dataframe\">\n",
              "  <thead>\n",
              "    <tr style=\"text-align: right;\">\n",
              "      <th></th>\n",
              "      <th>Invoice</th>\n",
              "      <th>StockCode</th>\n",
              "      <th>Description</th>\n",
              "      <th>Quantity</th>\n",
              "      <th>InvoiceDate</th>\n",
              "      <th>Price</th>\n",
              "      <th>Customer ID</th>\n",
              "      <th>Country</th>\n",
              "      <th>Total_Amount</th>\n",
              "    </tr>\n",
              "  </thead>\n",
              "  <tbody>\n",
              "    <tr>\n",
              "      <th>0</th>\n",
              "      <td>489434</td>\n",
              "      <td>85048</td>\n",
              "      <td>15CM CHRISTMAS GLASS BALL 20 LIGHTS</td>\n",
              "      <td>12</td>\n",
              "      <td>2009-12-01 07:45:00</td>\n",
              "      <td>6.95</td>\n",
              "      <td>13085.0</td>\n",
              "      <td>United Kingdom</td>\n",
              "      <td>83.4</td>\n",
              "    </tr>\n",
              "    <tr>\n",
              "      <th>1</th>\n",
              "      <td>489434</td>\n",
              "      <td>79323P</td>\n",
              "      <td>PINK CHERRY LIGHTS</td>\n",
              "      <td>12</td>\n",
              "      <td>2009-12-01 07:45:00</td>\n",
              "      <td>6.75</td>\n",
              "      <td>13085.0</td>\n",
              "      <td>United Kingdom</td>\n",
              "      <td>81.0</td>\n",
              "    </tr>\n",
              "    <tr>\n",
              "      <th>2</th>\n",
              "      <td>489434</td>\n",
              "      <td>79323W</td>\n",
              "      <td>WHITE CHERRY LIGHTS</td>\n",
              "      <td>12</td>\n",
              "      <td>2009-12-01 07:45:00</td>\n",
              "      <td>6.75</td>\n",
              "      <td>13085.0</td>\n",
              "      <td>United Kingdom</td>\n",
              "      <td>81.0</td>\n",
              "    </tr>\n",
              "    <tr>\n",
              "      <th>3</th>\n",
              "      <td>489434</td>\n",
              "      <td>22041</td>\n",
              "      <td>RECORD FRAME 7\" SINGLE SIZE</td>\n",
              "      <td>48</td>\n",
              "      <td>2009-12-01 07:45:00</td>\n",
              "      <td>2.10</td>\n",
              "      <td>13085.0</td>\n",
              "      <td>United Kingdom</td>\n",
              "      <td>100.8</td>\n",
              "    </tr>\n",
              "    <tr>\n",
              "      <th>4</th>\n",
              "      <td>489434</td>\n",
              "      <td>21232</td>\n",
              "      <td>STRAWBERRY CERAMIC TRINKET BOX</td>\n",
              "      <td>24</td>\n",
              "      <td>2009-12-01 07:45:00</td>\n",
              "      <td>1.25</td>\n",
              "      <td>13085.0</td>\n",
              "      <td>United Kingdom</td>\n",
              "      <td>30.0</td>\n",
              "    </tr>\n",
              "  </tbody>\n",
              "</table>\n",
              "</div>"
            ],
            "text/plain": [
              "  Invoice StockCode  ...         Country  Total_Amount\n",
              "0  489434     85048  ...  United Kingdom          83.4\n",
              "1  489434    79323P  ...  United Kingdom          81.0\n",
              "2  489434    79323W  ...  United Kingdom          81.0\n",
              "3  489434     22041  ...  United Kingdom         100.8\n",
              "4  489434     21232  ...  United Kingdom          30.0\n",
              "\n",
              "[5 rows x 9 columns]"
            ]
          },
          "metadata": {},
          "execution_count": 83
        }
      ]
    },
    {
      "cell_type": "markdown",
      "metadata": {
        "id": "s4zig1-eSgHk"
      },
      "source": [
        "**Add month column in dataset**"
      ]
    },
    {
      "cell_type": "code",
      "metadata": {
        "id": "-uN2oQARfrm7"
      },
      "source": [
        "df_new['Month']=df_new['InvoiceDate'].dt.month"
      ],
      "execution_count": 84,
      "outputs": []
    },
    {
      "cell_type": "code",
      "metadata": {
        "colab": {
          "base_uri": "https://localhost:8080/",
          "height": 202
        },
        "id": "mkG4FL9qgUuz",
        "outputId": "379df708-5c0c-4223-d95f-2f31d36fcf48"
      },
      "source": [
        "df_new.head()"
      ],
      "execution_count": 85,
      "outputs": [
        {
          "output_type": "execute_result",
          "data": {
            "text/html": [
              "<div>\n",
              "<style scoped>\n",
              "    .dataframe tbody tr th:only-of-type {\n",
              "        vertical-align: middle;\n",
              "    }\n",
              "\n",
              "    .dataframe tbody tr th {\n",
              "        vertical-align: top;\n",
              "    }\n",
              "\n",
              "    .dataframe thead th {\n",
              "        text-align: right;\n",
              "    }\n",
              "</style>\n",
              "<table border=\"1\" class=\"dataframe\">\n",
              "  <thead>\n",
              "    <tr style=\"text-align: right;\">\n",
              "      <th></th>\n",
              "      <th>Invoice</th>\n",
              "      <th>StockCode</th>\n",
              "      <th>Description</th>\n",
              "      <th>Quantity</th>\n",
              "      <th>InvoiceDate</th>\n",
              "      <th>Price</th>\n",
              "      <th>Customer ID</th>\n",
              "      <th>Country</th>\n",
              "      <th>Total_Amount</th>\n",
              "      <th>Month</th>\n",
              "    </tr>\n",
              "  </thead>\n",
              "  <tbody>\n",
              "    <tr>\n",
              "      <th>0</th>\n",
              "      <td>489434</td>\n",
              "      <td>85048</td>\n",
              "      <td>15CM CHRISTMAS GLASS BALL 20 LIGHTS</td>\n",
              "      <td>12</td>\n",
              "      <td>2009-12-01 07:45:00</td>\n",
              "      <td>6.95</td>\n",
              "      <td>13085.0</td>\n",
              "      <td>United Kingdom</td>\n",
              "      <td>83.4</td>\n",
              "      <td>12</td>\n",
              "    </tr>\n",
              "    <tr>\n",
              "      <th>1</th>\n",
              "      <td>489434</td>\n",
              "      <td>79323P</td>\n",
              "      <td>PINK CHERRY LIGHTS</td>\n",
              "      <td>12</td>\n",
              "      <td>2009-12-01 07:45:00</td>\n",
              "      <td>6.75</td>\n",
              "      <td>13085.0</td>\n",
              "      <td>United Kingdom</td>\n",
              "      <td>81.0</td>\n",
              "      <td>12</td>\n",
              "    </tr>\n",
              "    <tr>\n",
              "      <th>2</th>\n",
              "      <td>489434</td>\n",
              "      <td>79323W</td>\n",
              "      <td>WHITE CHERRY LIGHTS</td>\n",
              "      <td>12</td>\n",
              "      <td>2009-12-01 07:45:00</td>\n",
              "      <td>6.75</td>\n",
              "      <td>13085.0</td>\n",
              "      <td>United Kingdom</td>\n",
              "      <td>81.0</td>\n",
              "      <td>12</td>\n",
              "    </tr>\n",
              "    <tr>\n",
              "      <th>3</th>\n",
              "      <td>489434</td>\n",
              "      <td>22041</td>\n",
              "      <td>RECORD FRAME 7\" SINGLE SIZE</td>\n",
              "      <td>48</td>\n",
              "      <td>2009-12-01 07:45:00</td>\n",
              "      <td>2.10</td>\n",
              "      <td>13085.0</td>\n",
              "      <td>United Kingdom</td>\n",
              "      <td>100.8</td>\n",
              "      <td>12</td>\n",
              "    </tr>\n",
              "    <tr>\n",
              "      <th>4</th>\n",
              "      <td>489434</td>\n",
              "      <td>21232</td>\n",
              "      <td>STRAWBERRY CERAMIC TRINKET BOX</td>\n",
              "      <td>24</td>\n",
              "      <td>2009-12-01 07:45:00</td>\n",
              "      <td>1.25</td>\n",
              "      <td>13085.0</td>\n",
              "      <td>United Kingdom</td>\n",
              "      <td>30.0</td>\n",
              "      <td>12</td>\n",
              "    </tr>\n",
              "  </tbody>\n",
              "</table>\n",
              "</div>"
            ],
            "text/plain": [
              "  Invoice StockCode  ... Total_Amount  Month\n",
              "0  489434     85048  ...         83.4     12\n",
              "1  489434    79323P  ...         81.0     12\n",
              "2  489434    79323W  ...         81.0     12\n",
              "3  489434     22041  ...        100.8     12\n",
              "4  489434     21232  ...         30.0     12\n",
              "\n",
              "[5 rows x 10 columns]"
            ]
          },
          "metadata": {},
          "execution_count": 85
        }
      ]
    },
    {
      "cell_type": "markdown",
      "metadata": {
        "id": "o_sKBx96Spax"
      },
      "source": [
        "**Merge total amount with month**"
      ]
    },
    {
      "cell_type": "code",
      "metadata": {
        "colab": {
          "base_uri": "https://localhost:8080/"
        },
        "id": "qc7XM_nshe4k",
        "outputId": "72fa4438-01c3-40e2-8226-a82b8e1b4bed"
      },
      "source": [
        "df_new.groupby('Month')['Total_Amount'].sum()"
      ],
      "execution_count": 86,
      "outputs": [
        {
          "output_type": "execute_result",
          "data": {
            "text/plain": [
              "Month\n",
              "1     1126764.102\n",
              "2      953508.416\n",
              "3     1295109.751\n",
              "4     1063809.553\n",
              "5     1278580.350\n",
              "6     1300280.270\n",
              "7     1191727.751\n",
              "8     1249586.550\n",
              "9     1784453.383\n",
              "10    2075998.790\n",
              "11    2334153.422\n",
              "12    2089456.840\n",
              "Name: Total_Amount, dtype: float64"
            ]
          },
          "metadata": {},
          "execution_count": 86
        }
      ]
    },
    {
      "cell_type": "markdown",
      "metadata": {
        "id": "WKAAxdvlTOiQ"
      },
      "source": [
        "**Plot hist graph of sales**"
      ]
    },
    {
      "cell_type": "code",
      "metadata": {
        "colab": {
          "base_uri": "https://localhost:8080/",
          "height": 398
        },
        "id": "IOB-HwJFipGi",
        "outputId": "8242d8d8-fd6d-4425-814b-c65950bf85f7"
      },
      "source": [
        "months=range(1,13)\n",
        "plt.figure(figsize=(15,6))\n",
        "plt.bar(months,df_new.groupby('Month')['Total_Amount'].sum())\n",
        "plt.xticks(months)\n",
        "plt.ylabel('Sales in USD ($)')\n",
        "plt.xlabel('Month number')\n",
        "plt.show()"
      ],
      "execution_count": 87,
      "outputs": [
        {
          "output_type": "display_data",
          "data": {
            "image/png": "[encoded data removed]",
            "text/plain": [
              "<Figure size 1080x432 with 1 Axes>"
            ]
          },
          "metadata": {
            "needs_background": "light"
          }
        }
      ]
    },
    {
      "cell_type": "markdown",
      "metadata": {
        "id": "OZuEY8n7o-4-"
      },
      "source": [
        "From September to December is the highest sales "
      ]
    },
    {
      "cell_type": "markdown",
      "metadata": {
        "id": "g3i3VLWmukYg"
      },
      "source": [
        "**4. Is there any seasonality in data? Explain with supportive evidence.**"
      ]
    },
    {
      "cell_type": "code",
      "metadata": {
        "colab": {
          "base_uri": "https://localhost:8080/",
          "height": 202
        },
        "id": "nAqamImYkKTh",
        "outputId": "954167ef-e575-4a92-8c12-8ee4514988ce"
      },
      "source": [
        "df_new['Year_Month']= df_new['InvoiceDate'].apply(lambda x: x.strftime('%Y-%m'))\n",
        "df_new.head()"
      ],
      "execution_count": 102,
      "outputs": [
        {
          "output_type": "execute_result",
          "data": {
            "text/html": [
              "<div>\n",
              "<style scoped>\n",
              "    .dataframe tbody tr th:only-of-type {\n",
              "        vertical-align: middle;\n",
              "    }\n",
              "\n",
              "    .dataframe tbody tr th {\n",
              "        vertical-align: top;\n",
              "    }\n",
              "\n",
              "    .dataframe thead th {\n",
              "        text-align: right;\n",
              "    }\n",
              "</style>\n",
              "<table border=\"1\" class=\"dataframe\">\n",
              "  <thead>\n",
              "    <tr style=\"text-align: right;\">\n",
              "      <th></th>\n",
              "      <th>Invoice</th>\n",
              "      <th>StockCode</th>\n",
              "      <th>Description</th>\n",
              "      <th>Quantity</th>\n",
              "      <th>InvoiceDate</th>\n",
              "      <th>Price</th>\n",
              "      <th>Customer ID</th>\n",
              "      <th>Country</th>\n",
              "      <th>Total_Amount</th>\n",
              "      <th>Month</th>\n",
              "      <th>Month_Year</th>\n",
              "      <th>Year_Month</th>\n",
              "    </tr>\n",
              "  </thead>\n",
              "  <tbody>\n",
              "    <tr>\n",
              "      <th>0</th>\n",
              "      <td>489434</td>\n",
              "      <td>85048</td>\n",
              "      <td>15CM CHRISTMAS GLASS BALL 20 LIGHTS</td>\n",
              "      <td>12</td>\n",
              "      <td>2009-12-01 07:45:00</td>\n",
              "      <td>6.95</td>\n",
              "      <td>13085.0</td>\n",
              "      <td>United Kingdom</td>\n",
              "      <td>83.4</td>\n",
              "      <td>12</td>\n",
              "      <td>2009-12</td>\n",
              "      <td>2009-12</td>\n",
              "    </tr>\n",
              "    <tr>\n",
              "      <th>1</th>\n",
              "      <td>489434</td>\n",
              "      <td>79323P</td>\n",
              "      <td>PINK CHERRY LIGHTS</td>\n",
              "      <td>12</td>\n",
              "      <td>2009-12-01 07:45:00</td>\n",
              "      <td>6.75</td>\n",
              "      <td>13085.0</td>\n",
              "      <td>United Kingdom</td>\n",
              "      <td>81.0</td>\n",
              "      <td>12</td>\n",
              "      <td>2009-12</td>\n",
              "      <td>2009-12</td>\n",
              "    </tr>\n",
              "    <tr>\n",
              "      <th>2</th>\n",
              "      <td>489434</td>\n",
              "      <td>79323W</td>\n",
              "      <td>WHITE CHERRY LIGHTS</td>\n",
              "      <td>12</td>\n",
              "      <td>2009-12-01 07:45:00</td>\n",
              "      <td>6.75</td>\n",
              "      <td>13085.0</td>\n",
              "      <td>United Kingdom</td>\n",
              "      <td>81.0</td>\n",
              "      <td>12</td>\n",
              "      <td>2009-12</td>\n",
              "      <td>2009-12</td>\n",
              "    </tr>\n",
              "    <tr>\n",
              "      <th>3</th>\n",
              "      <td>489434</td>\n",
              "      <td>22041</td>\n",
              "      <td>RECORD FRAME 7\" SINGLE SIZE</td>\n",
              "      <td>48</td>\n",
              "      <td>2009-12-01 07:45:00</td>\n",
              "      <td>2.10</td>\n",
              "      <td>13085.0</td>\n",
              "      <td>United Kingdom</td>\n",
              "      <td>100.8</td>\n",
              "      <td>12</td>\n",
              "      <td>2009-12</td>\n",
              "      <td>2009-12</td>\n",
              "    </tr>\n",
              "    <tr>\n",
              "      <th>4</th>\n",
              "      <td>489434</td>\n",
              "      <td>21232</td>\n",
              "      <td>STRAWBERRY CERAMIC TRINKET BOX</td>\n",
              "      <td>24</td>\n",
              "      <td>2009-12-01 07:45:00</td>\n",
              "      <td>1.25</td>\n",
              "      <td>13085.0</td>\n",
              "      <td>United Kingdom</td>\n",
              "      <td>30.0</td>\n",
              "      <td>12</td>\n",
              "      <td>2009-12</td>\n",
              "      <td>2009-12</td>\n",
              "    </tr>\n",
              "  </tbody>\n",
              "</table>\n",
              "</div>"
            ],
            "text/plain": [
              "  Invoice StockCode  ... Month_Year  Year_Month\n",
              "0  489434     85048  ...    2009-12     2009-12\n",
              "1  489434    79323P  ...    2009-12     2009-12\n",
              "2  489434    79323W  ...    2009-12     2009-12\n",
              "3  489434     22041  ...    2009-12     2009-12\n",
              "4  489434     21232  ...    2009-12     2009-12\n",
              "\n",
              "[5 rows x 12 columns]"
            ]
          },
          "metadata": {},
          "execution_count": 102
        }
      ]
    },
    {
      "cell_type": "markdown",
      "metadata": {
        "id": "dqMiKvyxTjIv"
      },
      "source": [
        "**Group total amount with month_year wise to check the trends in dataset**"
      ]
    },
    {
      "cell_type": "code",
      "metadata": {
        "id": "5pCHIefTvJsV"
      },
      "source": [
        "df_sesonality = df_new.groupby('Month_Year').sum()['Total_Amount'].reset_index()"
      ],
      "execution_count": 89,
      "outputs": []
    },
    {
      "cell_type": "code",
      "metadata": {
        "colab": {
          "base_uri": "https://localhost:8080/",
          "height": 202
        },
        "id": "9iZ90TO_wTot",
        "outputId": "243fd284-7ba8-4ce9-a753-f194c3c3fcf7"
      },
      "source": [
        "df_sesonality.head()"
      ],
      "execution_count": 90,
      "outputs": [
        {
          "output_type": "execute_result",
          "data": {
            "text/html": [
              "<div>\n",
              "<style scoped>\n",
              "    .dataframe tbody tr th:only-of-type {\n",
              "        vertical-align: middle;\n",
              "    }\n",
              "\n",
              "    .dataframe tbody tr th {\n",
              "        vertical-align: top;\n",
              "    }\n",
              "\n",
              "    .dataframe thead th {\n",
              "        text-align: right;\n",
              "    }\n",
              "</style>\n",
              "<table border=\"1\" class=\"dataframe\">\n",
              "  <thead>\n",
              "    <tr style=\"text-align: right;\">\n",
              "      <th></th>\n",
              "      <th>Month_Year</th>\n",
              "      <th>Total_Amount</th>\n",
              "    </tr>\n",
              "  </thead>\n",
              "  <tbody>\n",
              "    <tr>\n",
              "      <th>0</th>\n",
              "      <td>2009=12</td>\n",
              "      <td>686654.160</td>\n",
              "    </tr>\n",
              "    <tr>\n",
              "      <th>1</th>\n",
              "      <td>2010=01</td>\n",
              "      <td>557319.062</td>\n",
              "    </tr>\n",
              "    <tr>\n",
              "      <th>2</th>\n",
              "      <td>2010=02</td>\n",
              "      <td>506371.066</td>\n",
              "    </tr>\n",
              "    <tr>\n",
              "      <th>3</th>\n",
              "      <td>2010=03</td>\n",
              "      <td>699608.991</td>\n",
              "    </tr>\n",
              "    <tr>\n",
              "      <th>4</th>\n",
              "      <td>2010=04</td>\n",
              "      <td>594609.192</td>\n",
              "    </tr>\n",
              "  </tbody>\n",
              "</table>\n",
              "</div>"
            ],
            "text/plain": [
              "  Month_Year  Total_Amount\n",
              "0    2009=12    686654.160\n",
              "1    2010=01    557319.062\n",
              "2    2010=02    506371.066\n",
              "3    2010=03    699608.991\n",
              "4    2010=04    594609.192"
            ]
          },
          "metadata": {},
          "execution_count": 90
        }
      ]
    },
    {
      "cell_type": "markdown",
      "metadata": {
        "id": "pSJSANKuTySE"
      },
      "source": [
        "**Plot time series graph with reflect the sesonality in dataset**"
      ]
    },
    {
      "cell_type": "code",
      "metadata": {
        "colab": {
          "base_uri": "https://localhost:8080/",
          "height": 893
        },
        "id": "heG03HVExi87",
        "outputId": "fdbdf44e-a2fb-46ee-a9ba-67ee241d94e7"
      },
      "source": [
        "plt.figure(figsize=(15,6))\n",
        "plt.plot(df_sesonality['Month_Year'],df_sesonality['Total_Amount'])\n",
        "plt.xticks(rotation= 'vertical',size=12)"
      ],
      "execution_count": 91,
      "outputs": [
        {
          "output_type": "execute_result",
          "data": {
            "text/plain": [
              "([0,\n",
              "  1,\n",
              "  2,\n",
              "  3,\n",
              "  4,\n",
              "  5,\n",
              "  6,\n",
              "  7,\n",
              "  8,\n",
              "  9,\n",
              "  10,\n",
              "  11,\n",
              "  12,\n",
              "  13,\n",
              "  14,\n",
              "  15,\n",
              "  16,\n",
              "  17,\n",
              "  18,\n",
              "  19,\n",
              "  20,\n",
              "  21,\n",
              "  22,\n",
              "  23,\n",
              "  24],\n",
              " <a list of 25 Text major ticklabel objects>)"
            ]
          },
          "metadata": {},
          "execution_count": 91
        },
        {
          "output_type": "display_data",
          "data": {
            "image/png": "[encoded data removed]",
            "text/plain": [
              "<Figure size 1080x432 with 1 Axes>"
            ]
          },
          "metadata": {
            "needs_background": "light"
          }
        }
      ]
    },
    {
      "cell_type": "markdown",
      "metadata": {
        "id": "C-Q1DsqU0YbV"
      },
      "source": [
        "Seens highest sales every year from Septamber to December "
      ]
    },
    {
      "cell_type": "markdown",
      "metadata": {
        "id": "r_UuusPqGzWE"
      },
      "source": [
        "**5. Discuss customer's lifetime with respect to the given dataset.**"
      ]
    },
    {
      "cell_type": "code",
      "metadata": {
        "id": "Yxgd34NsV-de"
      },
      "source": [
        "df_clv=pd.concat(df.values())"
      ],
      "execution_count": 92,
      "outputs": []
    },
    {
      "cell_type": "code",
      "metadata": {
        "colab": {
          "base_uri": "https://localhost:8080/",
          "height": 202
        },
        "id": "n1Qz0GC2V-aW",
        "outputId": "bcb95bda-3823-464e-9058-7ffc1de76ae2"
      },
      "source": [
        "df_clv.head()"
      ],
      "execution_count": 93,
      "outputs": [
        {
          "output_type": "execute_result",
          "data": {
            "text/html": [
              "<div>\n",
              "<style scoped>\n",
              "    .dataframe tbody tr th:only-of-type {\n",
              "        vertical-align: middle;\n",
              "    }\n",
              "\n",
              "    .dataframe tbody tr th {\n",
              "        vertical-align: top;\n",
              "    }\n",
              "\n",
              "    .dataframe thead th {\n",
              "        text-align: right;\n",
              "    }\n",
              "</style>\n",
              "<table border=\"1\" class=\"dataframe\">\n",
              "  <thead>\n",
              "    <tr style=\"text-align: right;\">\n",
              "      <th></th>\n",
              "      <th>Invoice</th>\n",
              "      <th>StockCode</th>\n",
              "      <th>Description</th>\n",
              "      <th>Quantity</th>\n",
              "      <th>InvoiceDate</th>\n",
              "      <th>Price</th>\n",
              "      <th>Customer ID</th>\n",
              "      <th>Country</th>\n",
              "    </tr>\n",
              "  </thead>\n",
              "  <tbody>\n",
              "    <tr>\n",
              "      <th>0</th>\n",
              "      <td>489434</td>\n",
              "      <td>85048</td>\n",
              "      <td>15CM CHRISTMAS GLASS BALL 20 LIGHTS</td>\n",
              "      <td>12</td>\n",
              "      <td>2009-12-01 07:45:00</td>\n",
              "      <td>6.95</td>\n",
              "      <td>13085.0</td>\n",
              "      <td>United Kingdom</td>\n",
              "    </tr>\n",
              "    <tr>\n",
              "      <th>1</th>\n",
              "      <td>489434</td>\n",
              "      <td>79323P</td>\n",
              "      <td>PINK CHERRY LIGHTS</td>\n",
              "      <td>12</td>\n",
              "      <td>2009-12-01 07:45:00</td>\n",
              "      <td>6.75</td>\n",
              "      <td>13085.0</td>\n",
              "      <td>United Kingdom</td>\n",
              "    </tr>\n",
              "    <tr>\n",
              "      <th>2</th>\n",
              "      <td>489434</td>\n",
              "      <td>79323W</td>\n",
              "      <td>WHITE CHERRY LIGHTS</td>\n",
              "      <td>12</td>\n",
              "      <td>2009-12-01 07:45:00</td>\n",
              "      <td>6.75</td>\n",
              "      <td>13085.0</td>\n",
              "      <td>United Kingdom</td>\n",
              "    </tr>\n",
              "    <tr>\n",
              "      <th>3</th>\n",
              "      <td>489434</td>\n",
              "      <td>22041</td>\n",
              "      <td>RECORD FRAME 7\" SINGLE SIZE</td>\n",
              "      <td>48</td>\n",
              "      <td>2009-12-01 07:45:00</td>\n",
              "      <td>2.10</td>\n",
              "      <td>13085.0</td>\n",
              "      <td>United Kingdom</td>\n",
              "    </tr>\n",
              "    <tr>\n",
              "      <th>4</th>\n",
              "      <td>489434</td>\n",
              "      <td>21232</td>\n",
              "      <td>STRAWBERRY CERAMIC TRINKET BOX</td>\n",
              "      <td>24</td>\n",
              "      <td>2009-12-01 07:45:00</td>\n",
              "      <td>1.25</td>\n",
              "      <td>13085.0</td>\n",
              "      <td>United Kingdom</td>\n",
              "    </tr>\n",
              "  </tbody>\n",
              "</table>\n",
              "</div>"
            ],
            "text/plain": [
              "  Invoice StockCode  ... Customer ID         Country\n",
              "0  489434     85048  ...     13085.0  United Kingdom\n",
              "1  489434    79323P  ...     13085.0  United Kingdom\n",
              "2  489434    79323W  ...     13085.0  United Kingdom\n",
              "3  489434     22041  ...     13085.0  United Kingdom\n",
              "4  489434     21232  ...     13085.0  United Kingdom\n",
              "\n",
              "[5 rows x 8 columns]"
            ]
          },
          "metadata": {},
          "execution_count": 93
        }
      ]
    },
    {
      "cell_type": "markdown",
      "metadata": {
        "id": "hPBzHaiEW5b7"
      },
      "source": [
        "Remove time from date"
      ]
    },
    {
      "cell_type": "code",
      "metadata": {
        "colab": {
          "base_uri": "https://localhost:8080/",
          "height": 202
        },
        "id": "l2GQeolCV-Ry",
        "outputId": "07cad726-7548-4985-b515-9f24f6d2d819"
      },
      "source": [
        "df_clv['InvoiceDate'] = pd.to_datetime(df_clv['InvoiceDate'], format=\"%Y/%m/%d %H:%M\").dt.date\n",
        "\n",
        "#There are 135,080 missing values in the CustomerID column, and since our analysis is based on customers, \n",
        "#we will remove these missing values.\n",
        "df_clv = df_clv[pd.notnull(df_clv['Customer ID'])]\n",
        "\n",
        "#Keep records with non negative quantity\n",
        "df_clv = df_clv[(df_clv['Quantity']>0)]\n",
        "\n",
        "#Add a new column depicting total sales\n",
        "df_clv['Total_Sales'] = df_clv['Quantity'] * df_clv['Price']\n",
        "necessary_cols = ['Customer ID', 'InvoiceDate', 'Total_Sales']\n",
        "df_clv = df_clv[necessary_cols]\n",
        "df_clv.head()"
      ],
      "execution_count": 94,
      "outputs": [
        {
          "output_type": "execute_result",
          "data": {
            "text/html": [
              "<div>\n",
              "<style scoped>\n",
              "    .dataframe tbody tr th:only-of-type {\n",
              "        vertical-align: middle;\n",
              "    }\n",
              "\n",
              "    .dataframe tbody tr th {\n",
              "        vertical-align: top;\n",
              "    }\n",
              "\n",
              "    .dataframe thead th {\n",
              "        text-align: right;\n",
              "    }\n",
              "</style>\n",
              "<table border=\"1\" class=\"dataframe\">\n",
              "  <thead>\n",
              "    <tr style=\"text-align: right;\">\n",
              "      <th></th>\n",
              "      <th>Customer ID</th>\n",
              "      <th>InvoiceDate</th>\n",
              "      <th>Total_Sales</th>\n",
              "    </tr>\n",
              "  </thead>\n",
              "  <tbody>\n",
              "    <tr>\n",
              "      <th>0</th>\n",
              "      <td>13085.0</td>\n",
              "      <td>2009-12-01</td>\n",
              "      <td>83.4</td>\n",
              "    </tr>\n",
              "    <tr>\n",
              "      <th>1</th>\n",
              "      <td>13085.0</td>\n",
              "      <td>2009-12-01</td>\n",
              "      <td>81.0</td>\n",
              "    </tr>\n",
              "    <tr>\n",
              "      <th>2</th>\n",
              "      <td>13085.0</td>\n",
              "      <td>2009-12-01</td>\n",
              "      <td>81.0</td>\n",
              "    </tr>\n",
              "    <tr>\n",
              "      <th>3</th>\n",
              "      <td>13085.0</td>\n",
              "      <td>2009-12-01</td>\n",
              "      <td>100.8</td>\n",
              "    </tr>\n",
              "    <tr>\n",
              "      <th>4</th>\n",
              "      <td>13085.0</td>\n",
              "      <td>2009-12-01</td>\n",
              "      <td>30.0</td>\n",
              "    </tr>\n",
              "  </tbody>\n",
              "</table>\n",
              "</div>"
            ],
            "text/plain": [
              "   Customer ID InvoiceDate  Total_Sales\n",
              "0      13085.0  2009-12-01         83.4\n",
              "1      13085.0  2009-12-01         81.0\n",
              "2      13085.0  2009-12-01         81.0\n",
              "3      13085.0  2009-12-01        100.8\n",
              "4      13085.0  2009-12-01         30.0"
            ]
          },
          "metadata": {},
          "execution_count": 94
        }
      ]
    },
    {
      "cell_type": "markdown",
      "metadata": {
        "id": "Us0PdXLLXact"
      },
      "source": [
        "Check the Last order date"
      ]
    },
    {
      "cell_type": "code",
      "metadata": {
        "colab": {
          "base_uri": "https://localhost:8080/"
        },
        "id": "7THgv1DwV-NR",
        "outputId": "9d7734d8-8c22-4d43-9ac3-9f0b6c0ee09f"
      },
      "source": [
        "last_order_date = df_clv['InvoiceDate'].max()\n",
        "print(last_order_date)\n",
        "print(\"--------------------------------------\")\n",
        "print(df_clv[(df_clv['Customer ID']==12346)])"
      ],
      "execution_count": 95,
      "outputs": [
        {
          "output_type": "stream",
          "name": "stdout",
          "text": [
            "2011-12-09\n",
            "--------------------------------------\n",
            "        Customer ID InvoiceDate  Total_Sales\n",
            "27994       12346.0  2009-12-14        45.00\n",
            "28251       12346.0  2009-12-14        22.50\n",
            "28254       12346.0  2009-12-14        22.50\n",
            "39398       12346.0  2009-12-18        22.50\n",
            "39411       12346.0  2009-12-18         1.00\n",
            "45228       12346.0  2010-01-04        22.50\n",
            "45230       12346.0  2010-01-04        22.50\n",
            "56117       12346.0  2010-01-14        22.50\n",
            "66084       12346.0  2010-01-22        22.50\n",
            "107800      12346.0  2010-03-02         3.25\n",
            "107801      12346.0  2010-03-02         5.95\n",
            "107802      12346.0  2010-03-02         5.95\n",
            "107803      12346.0  2010-03-02         5.95\n",
            "107804      12346.0  2010-03-02         5.95\n",
            "253028      12346.0  2010-06-28         7.49\n",
            "253029      12346.0  2010-06-28         7.49\n",
            "253030      12346.0  2010-06-28         7.49\n",
            "253031      12346.0  2010-06-28         7.49\n",
            "253032      12346.0  2010-06-28         7.49\n",
            "253033      12346.0  2010-06-28         7.49\n",
            "253034      12346.0  2010-06-28         7.49\n",
            "253035      12346.0  2010-06-28         7.49\n",
            "253036      12346.0  2010-06-28         7.49\n",
            "253037      12346.0  2010-06-28         7.49\n",
            "253038      12346.0  2010-06-28         7.49\n",
            "253039      12346.0  2010-06-28         7.49\n",
            "253040      12346.0  2010-06-28         7.49\n",
            "253041      12346.0  2010-06-28         7.49\n",
            "253042      12346.0  2010-06-28         7.49\n",
            "253043      12346.0  2010-06-28         7.49\n",
            "253044      12346.0  2010-06-28         7.49\n",
            "253045      12346.0  2010-06-28         7.49\n",
            "253046      12346.0  2010-06-28         7.49\n",
            "61619       12346.0  2011-01-18     77183.60\n"
          ]
        }
      ]
    },
    {
      "cell_type": "markdown",
      "metadata": {
        "id": "CxP6WClobfT2"
      },
      "source": [
        "Customer Lifetime Value which depicts measure of the average customer's revenue generated over their entire relationship with a company. And this is done by categorizing customers in 4 groups. According to this dataset we have large number of those customer who generated more revenue and are more loyal."
      ]
    }
  ]
}